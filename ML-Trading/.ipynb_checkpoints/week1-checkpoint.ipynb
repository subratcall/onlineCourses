{
 "cells": [
  {
   "cell_type": "code",
   "execution_count": 1,
   "metadata": {},
   "outputs": [],
   "source": [
    "import pandas as pd\n",
    "import matplotlib.pyplot as plt\n",
    "\n",
    "def get_max_close(symbol, print_val=True):\n",
    "    df = pd.read_csv(\"data/{}.csv\".format(symbol))\n",
    "    max_val =df['Close'].max()\n",
    "    if print_val:\n",
    "        print('max val :{}'.format(max_val))\n",
    "    return max_val\n",
    "\n",
    "def get_mean_volume(symbol, print_val=True):\n",
    "    df = pd.read_csv(\"data/{}.csv\".format(symbol)) \n",
    "    mean_val =df['Close'].mean()\n",
    "    if print_val:\n",
    "        print('mean :{}'.format(mean_val))\n",
    "    return mean_val "
   ]
  },
  {
   "cell_type": "code",
   "execution_count": null,
   "metadata": {},
   "outputs": [],
   "source": [
    "def test_run():\n",
    "    \"\"\"Function called by Test Run.\"\"\"\n",
    "    df = pd.read_csv(\"data/AAPL.csv\")\n",
    "    # TODO: Print last 5 rows of the data frame\n",
    "    print(\"tail\")\n",
    "    print(df.tail(5))\n",
    "\n",
    "    print(\"head\") \n",
    "    print(df.head(5))\n",
    "\n",
    "if __name__ == \"__main__\":\n",
    "    #test_run()\n",
    "    get_mean_volume(\"AAPL\")"
   ]
  },
  {
   "cell_type": "markdown",
   "metadata": {},
   "source": [
    "01-02 \n",
    "WORKING WITH MULTIPLE STOCKS"
   ]
  },
  {
   "cell_type": "code",
   "execution_count": null,
   "metadata": {},
   "outputs": [],
   "source": [
    "def test_run():\n",
    "    start_date '2018-06-01'\n",
    "    end_date '2018-07-01'\n",
    "    dates="
   ]
  },
  {
   "cell_type": "code",
   "execution_count": null,
   "metadata": {},
   "outputs": [],
   "source": []
  }
 ],
 "metadata": {
  "kernelspec": {
   "display_name": "Python 3",
   "language": "python",
   "name": "python3"
  },
  "language_info": {
   "codemirror_mode": {
    "name": "ipython",
    "version": 3
   },
   "file_extension": ".py",
   "mimetype": "text/x-python",
   "name": "python",
   "nbconvert_exporter": "python",
   "pygments_lexer": "ipython3",
   "version": "3.7.2"
  }
 },
 "nbformat": 4,
 "nbformat_minor": 2
}
