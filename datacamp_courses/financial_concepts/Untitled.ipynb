{
 "cells": [
  {
   "cell_type": "markdown",
   "metadata": {},
   "source": [
    "# Chapter 1"
   ]
  },
  {
   "cell_type": "markdown",
   "metadata": {},
   "source": [
    "## Growth and Rate of Return\n",
    "Growth and Rate of Return are two concepts that are ubiquitous throughout the financial world. Recall that the cumulative returns from investing $100 in an asset that grows at 5% per year, over a 2 year period can be calculated as:\n",
    "\n",
    "100∗(1+0.05)2"
   ]
  },
  {
   "cell_type": "markdown",
   "metadata": {},
   "source": [
    "## Compound Interest\n",
    "As you saw in the previous exercise, both time and the rate of return are very important variables when forecasting the future value of an investment.\n",
    "\n",
    "Another important variable is the number of compounding periods, which can greatly affect compounded returns over time."
   ]
  },
  {
   "cell_type": "code",
   "execution_count": 4,
   "metadata": {},
   "outputs": [
    {
     "name": "stdout",
     "output_type": "stream",
     "text": [
      "Investment 1: 574.35\n",
      "Investment 2: 596.93\n",
      "Investment 3: 602.26\n"
     ]
    }
   ],
   "source": [
    "# Predefined variables\n",
    "initial_investment = 100\n",
    "growth_periods = 30\n",
    "growth_rate = 0.06\n",
    "\n",
    "# Calculate the value for the investment compounded once per year\n",
    "compound_periods_1 = 1\n",
    "investment_1 = initial_investment*(1 + growth_rate / compound_periods_1)**(compound_periods_1*growth_periods)\n",
    "print(\"Investment 1: \" + str(round(investment_1, 2)))\n",
    "\n",
    "# Calculate the value for the investment compounded quarterly\n",
    "compound_periods_2 = 4\n",
    "investment_2 = initial_investment*(1 + growth_rate / compound_periods_2)**(compound_periods_2*growth_periods)\n",
    "print(\"Investment 2: \" + str(round(investment_2, 2)))\n",
    "\n",
    "# Calculate the value for the investment compounded monthly\n",
    "compound_periods_3 = 12\n",
    "investment_3 = initial_investment*(1 + growth_rate / compound_periods_3)**(compound_periods_3*growth_periods)\n",
    "\n",
    "print(\"Investment 3: \" + str(round(investment_3, 2)))"
   ]
  },
  {
   "cell_type": "markdown",
   "metadata": {},
   "source": [
    "## Discount Factors and Depreciation\n",
    "Unfortunately, not everything grows in value over time.\n",
    "\n",
    "In fact, many assets depreciate, or lose value over time. To simulate this, you can simply assume a negative expected rate of return.\n",
    "\n",
    "Example:\n",
    "\n",
    "Calculate the final depreciated value of an initially $10,000 car which declines in value by 3% per year for 10 years:\n",
    "\n",
    "$10,000∗(1+−0.03)10=$7,374.24"
   ]
  },
  {
   "cell_type": "code",
   "execution_count": 8,
   "metadata": {},
   "outputs": [
    {
     "name": "stdout",
     "output_type": "stream",
     "text": [
      "Future value: 59.87\n",
      "Discount factor: 1.67\n",
      "Initial value: 100.0\n"
     ]
    }
   ],
   "source": [
    "# Calculate the future value\n",
    "initial_investment = 100\n",
    "growth_rate = -0.05\n",
    "growth_periods = 10\n",
    "future_value = initial_investment*(1 + growth_rate)**(growth_periods)\n",
    "print(\"Future value: \" + str(round(future_value, 2)))\n",
    "\n",
    "# Calculate the discount factor\n",
    "discount_factor = 1/((1 + growth_rate)**(growth_periods))\n",
    "print(\"Discount factor: \" + str(round(discount_factor, 2)))\n",
    "\n",
    "# Derive the initial value of the investment\n",
    "initial_investment_again = future_value * discount_factor\n",
    "print(\"Initial value: \" + str(round(initial_investment_again, 2)))"
   ]
  },
  {
   "cell_type": "markdown",
   "metadata": {},
   "source": [
    "## Present Value\n",
    "Luckily for you, there is a module called numpy which contains many functions which will make your life much easier when working with financial values.\n",
    "\n",
    "The .pv(rate, nper, pmt, fv) function, for example, allows you to calculate the present value of an investment as before with a few simple parameters:\n",
    "\n",
    "rate: The rate of return of the investment\n",
    "nper: The lifespan of the investment\n",
    "pmt: The (fixed) payment at the beginning or end of each period (which is 0 in our example)\n",
    "fv: The future value of the investment\n",
    "You can use this formula in many ways. For example, you can calculate the present value of future investments in today's dollars."
   ]
  },
  {
   "cell_type": "code",
   "execution_count": 9,
   "metadata": {},
   "outputs": [
    {
     "name": "stdout",
     "output_type": "stream",
     "text": [
      "Investment 1 is worth 6418.62 in today's dollars\n",
      "Investment 2 is worth 6139.13 in today's dollars\n"
     ]
    },
    {
     "name": "stderr",
     "output_type": "stream",
     "text": [
      "C:\\Users\\brama\\Miniconda3\\envs\\ds\\lib\\site-packages\\ipykernel_launcher.py:5: DeprecationWarning: numpy.pv is deprecated and will be removed from NumPy 1.20. Use numpy_financial.pv instead (https://pypi.org/project/numpy-financial/).\n",
      "  \"\"\"\n",
      "C:\\Users\\brama\\Miniconda3\\envs\\ds\\lib\\site-packages\\ipykernel_launcher.py:11: DeprecationWarning: numpy.pv is deprecated and will be removed from NumPy 1.20. Use numpy_financial.pv instead (https://pypi.org/project/numpy-financial/).\n",
      "  # This is added back by InteractiveShellApp.init_path()\n"
     ]
    }
   ],
   "source": [
    "# Import numpy as np\n",
    "import numpy as np\n",
    "\n",
    "# Calculate investment_1\n",
    "investment_1 = np.pv(rate=0.03, nper=15, pmt=0, fv=10000)\n",
    "\n",
    "# Note that the present value returned is negative, so we multiply the result by -1\n",
    "print(\"Investment 1 is worth \" + str(round(-investment_1, 2)) + \" in today's dollars\")\n",
    "\n",
    "# Calculate investment_2\n",
    "investment_2 = np.pv(rate=0.05, nper=10, pmt=0, fv=10000)\n",
    "\n",
    "print(\"Investment 2 is worth \" + str(round(-investment_2, 2)) + \" in today's dollars\")"
   ]
  },
  {
   "cell_type": "markdown",
   "metadata": {},
   "source": [
    "## Future Value\n",
    "The numpy module also contains a similar function, .fv(rate, nper, pmt, pv), which allows you to calculate the future value of an investment as before with a few simple parameters:\n",
    "\n",
    "rate: The rate of return of the investment\n",
    "nper: The lifespan of the investment\n",
    "pmt: The (fixed) payment at the beginning or end of each period (which is 0 in our example)\n",
    "pv: The present value of the investment\n",
    "It is important to note that in this function call, you must pass a negative value into the pv parameter if it represents a negative cash flow (cash going out). In other words, if you were to compute the future value of an investment, requiring an up-front cash payment, you would need to pass a negative value to the pv parameter in the .fv() function."
   ]
  },
  {
   "cell_type": "code",
   "execution_count": 11,
   "metadata": {},
   "outputs": [
    {
     "name": "stdout",
     "output_type": "stream",
     "text": [
      "Investment 1 will yield a total of $20789.28 in 15 years\n",
      "Investment 2 will yield a total of $31721.69 in 15 years\n"
     ]
    },
    {
     "name": "stderr",
     "output_type": "stream",
     "text": [
      "C:\\Users\\brama\\Miniconda3\\envs\\ds\\lib\\site-packages\\ipykernel_launcher.py:4: DeprecationWarning: numpy.fv is deprecated and will be removed from NumPy 1.20. Use numpy_financial.fv instead (https://pypi.org/project/numpy-financial/).\n",
      "  after removing the cwd from sys.path.\n",
      "C:\\Users\\brama\\Miniconda3\\envs\\ds\\lib\\site-packages\\ipykernel_launcher.py:8: DeprecationWarning: numpy.fv is deprecated and will be removed from NumPy 1.20. Use numpy_financial.fv instead (https://pypi.org/project/numpy-financial/).\n",
      "  \n"
     ]
    }
   ],
   "source": [
    "import numpy as np\n",
    "\n",
    "# Calculate investment_1\n",
    "investment_1 = np.fv(rate=0.05, nper=15, pmt=0, pv=-10000)\n",
    "print(\"Investment 1 will yield a total of $\" + str(round(investment_1, 2)) + \" in 15 years\")\n",
    "\n",
    "# Calculate investment_2\n",
    "investment_2 = np.fv(rate=0.08, nper=15, pmt=0, pv=-10000)\n",
    "print(\"Investment 2 will yield a total of $\" + str(round(investment_2, 2)) + \" in 15 years\")"
   ]
  },
  {
   "cell_type": "markdown",
   "metadata": {},
   "source": [
    "## Adjusting Future Values for Inflation\n",
    "You can now put together what you learned in the previous exercises by following a simple methodology:\n",
    "\n",
    "First, forecast the future value of an investment given a rate of return\n",
    "Second, discount the future value of the investment by a projected inflation rate\n",
    "The methodology above will use both the .fv() and .pv() functions to arrive at the projected value of a given investment in today's dollars, adjusted for inflation."
   ]
  },
  {
   "cell_type": "code",
   "execution_count": 12,
   "metadata": {},
   "outputs": [
    {
     "name": "stdout",
     "output_type": "stream",
     "text": [
      "Investment 1 will yield a total of $21589.25 in 10 years\n",
      "After adjusting for inflation, investment 1 is worth $16064.43 in today's dollars\n"
     ]
    },
    {
     "name": "stderr",
     "output_type": "stream",
     "text": [
      "C:\\Users\\brama\\Miniconda3\\envs\\ds\\lib\\site-packages\\ipykernel_launcher.py:4: DeprecationWarning: numpy.fv is deprecated and will be removed from NumPy 1.20. Use numpy_financial.fv instead (https://pypi.org/project/numpy-financial/).\n",
      "  after removing the cwd from sys.path.\n",
      "C:\\Users\\brama\\Miniconda3\\envs\\ds\\lib\\site-packages\\ipykernel_launcher.py:8: DeprecationWarning: numpy.pv is deprecated and will be removed from NumPy 1.20. Use numpy_financial.pv instead (https://pypi.org/project/numpy-financial/).\n",
      "  \n"
     ]
    }
   ],
   "source": [
    "import numpy as np\n",
    "\n",
    "# Calculate investment_1\n",
    "investment_1 = np.fv(rate=0.08, nper=10, pmt=0, pv=-10000)\n",
    "print(\"Investment 1 will yield a total of $\" + str(round(investment_1, 2)) + \" in 10 years\")\n",
    "\n",
    "# Calculate investment_2\n",
    "investment_1_discounted = np.pv(rate=0.03, nper=10, pmt=0, fv=investment_1)\n",
    "print(\"After adjusting for inflation, investment 1 is worth $\" + str(round(-investment_1_discounted, 2)) + \" in today's dollars\")"
   ]
  },
  {
   "cell_type": "markdown",
   "metadata": {},
   "source": [
    "## Discounting Cash Flows\n",
    "You can use numpy's net present value function numpy.npv(rate, values) to calculate the net present value of a series of cash flows. You can create these cash flows by using a numpy.array([...]) of values.\n",
    "\n",
    "Compute the NPV of the same cash flows from the following project, but assuming different discount rates:\n",
    "\n",
    "Year\tCash Flow\n",
    "\n",
    "1\t100\n",
    "\n",
    "2\t100\n",
    "\n",
    "3\t100\n",
    "\n",
    "4\t100\n",
    "\n",
    "5\t100\n"
   ]
  },
  {
   "cell_type": "code",
   "execution_count": 13,
   "metadata": {},
   "outputs": [
    {
     "name": "stdout",
     "output_type": "stream",
     "text": [
      "Investment 1's net present value is $471.71 in today's dollars\n",
      "Investment 2's net present value is $454.6 in today's dollars\n",
      "Investment 3's net present value is $438.72 in today's dollars\n"
     ]
    },
    {
     "name": "stderr",
     "output_type": "stream",
     "text": [
      "C:\\Users\\brama\\Miniconda3\\envs\\ds\\lib\\site-packages\\ipykernel_launcher.py:7: DeprecationWarning: numpy.npv is deprecated and will be removed from NumPy 1.20. Use numpy_financial.npv instead (https://pypi.org/project/numpy-financial/).\n",
      "  import sys\n",
      "C:\\Users\\brama\\Miniconda3\\envs\\ds\\lib\\site-packages\\ipykernel_launcher.py:11: DeprecationWarning: numpy.npv is deprecated and will be removed from NumPy 1.20. Use numpy_financial.npv instead (https://pypi.org/project/numpy-financial/).\n",
      "  # This is added back by InteractiveShellApp.init_path()\n",
      "C:\\Users\\brama\\Miniconda3\\envs\\ds\\lib\\site-packages\\ipykernel_launcher.py:15: DeprecationWarning: numpy.npv is deprecated and will be removed from NumPy 1.20. Use numpy_financial.npv instead (https://pypi.org/project/numpy-financial/).\n",
      "  from ipykernel import kernelapp as app\n"
     ]
    }
   ],
   "source": [
    "import numpy as np\n",
    "\n",
    "# Predefined array of cash flows\n",
    "cash_flows = np.array([100, 100, 100, 100, 100])\n",
    "\n",
    "# Calculate investment_1\n",
    "investment_1 = np.npv(rate=0.03, values=cash_flows)\n",
    "print(\"Investment 1's net present value is $\" + str(round(investment_1, 2)) + \" in today's dollars\")\n",
    "\n",
    "# Calculate investment_2\n",
    "investment_2 = np.npv(rate=0.05, values=cash_flows)\n",
    "print(\"Investment 2's net present value is $\" + str(round(investment_2, 2)) + \" in today's dollars\")\n",
    "\n",
    "# Calculate investment_3\n",
    "investment_3 = np.npv(rate=0.07, values=cash_flows)\n",
    "print(\"Investment 3's net present value is $\" + str(round(investment_3, 2)) + \" in today's dollars\")"
   ]
  },
  {
   "cell_type": "markdown",
   "metadata": {},
   "source": [
    "## Initial Project Costs\n",
    "The numpy.npv(rate, values) function is very powerful because it allows you to pass in both positive and negative values.\n",
    "\n",
    "For this exercise, you will calculate the net present value of two potential projects with different cash flows:\n",
    "\n",
    "Year\tProject 1\tProject 2\n",
    "\n",
    "1\t-250 (initial investment)\t-250 (initial investment)\n",
    "\n",
    "2\t100 cash flow\t300 cash flow\n",
    "\n",
    "3\t200 cash flow\t-250 (net investment)\n",
    "\n",
    "4\t300 cash flow\t300 cash flow\n",
    "\n",
    "5\t400 cash flow\t300 cash flow\n",
    "\n",
    "In this example, project 1 only requires an initial investment of 250, generating a slowly increasing series of cash flows over the next 4 years.\n",
    "\n",
    "Project 2, on the other hand, requires an initial investment of 250 and an additional investment of 250 in year 3. However, project 2 continues to generate larger cash flows.\n",
    "\n",
    "Assuming both projects don't generate any more cash flows after the fifth year, which project would you decide to undertake? The best way to decide is by comparing the NPV of both projects."
   ]
  },
  {
   "cell_type": "code",
   "execution_count": 15,
   "metadata": {},
   "outputs": [
    {
     "name": "stdout",
     "output_type": "stream",
     "text": [
      "The net present value of Investment 1 is worth $665.54 in today's dollars\n",
      "The net present value of Investment 2 is worth $346.7 in today's dollars\n"
     ]
    },
    {
     "name": "stderr",
     "output_type": "stream",
     "text": [
      "C:\\Users\\brama\\Miniconda3\\envs\\ds\\lib\\site-packages\\ipykernel_launcher.py:10: DeprecationWarning: numpy.npv is deprecated and will be removed from NumPy 1.20. Use numpy_financial.npv instead (https://pypi.org/project/numpy-financial/).\n",
      "  # Remove the CWD from sys.path while we load stuff.\n",
      "C:\\Users\\brama\\Miniconda3\\envs\\ds\\lib\\site-packages\\ipykernel_launcher.py:14: DeprecationWarning: numpy.npv is deprecated and will be removed from NumPy 1.20. Use numpy_financial.npv instead (https://pypi.org/project/numpy-financial/).\n",
      "  \n"
     ]
    }
   ],
   "source": [
    "import numpy as np\n",
    "\n",
    "# Create an array of cash flows for project 1\n",
    "cash_flows_1 = np.array([-250,100,200,300,400])\n",
    "\n",
    "# Create an array of cash flows for project 2\n",
    "cash_flows_2 = np.array([-250,300,-250,300,300])\n",
    "\n",
    "# Calculate the net present value of project 1\n",
    "investment_1 = np.npv(rate=0.03, values=cash_flows_1)\n",
    "print(\"The net present value of Investment 1 is worth $\" + str(round(investment_1, 2)) + \" in today's dollars\")\n",
    "\n",
    "# Calculate the net present value of project 2\n",
    "investment_2 = np.npv(rate=0.03, values=cash_flows_2)\n",
    "print(\"The net present value of Investment 2 is worth $\" + str(round(investment_2, 2)) + \" in today's dollars\")"
   ]
  },
  {
   "cell_type": "markdown",
   "metadata": {},
   "source": [
    "# Diminishing Cash Flows\n",
    "Remember how compounded returns grow rapidly over time? Well, it works in the reverse, too. Compounded discount factors over time will quickly shrink a number towards zero.\n",
    "\n",
    "For example, 100 at a 3% annual discount for 1 year is still worth roughly 97.08:\n",
    "\n",
    "Value(1+Discount Rate)# of Discount Periods=100(1+0.03)1= 97.08 \n",
    "But this number shrinks quite rapidly as the number of discounting periods increases:\n",
    "\n",
    "100/(1+0.03)^5= /86.26 \n",
    "\n",
    "100/(1+0.03)^10= 74.41 \n",
    "\n",
    "This means that the longer in the future your cash flows will be received (or paid), the close to 0 that number will be."
   ]
  },
  {
   "cell_type": "code",
   "execution_count": 16,
   "metadata": {},
   "outputs": [
    {
     "name": "stdout",
     "output_type": "stream",
     "text": [
      "Investment 1 is worth $41.2 in today's dollars\n",
      "Investment 2 is worth $22.81 in today's dollars\n",
      "Investment 3 is worth $5.2 in today's dollars\n"
     ]
    },
    {
     "name": "stderr",
     "output_type": "stream",
     "text": [
      "C:\\Users\\brama\\Miniconda3\\envs\\ds\\lib\\site-packages\\ipykernel_launcher.py:4: DeprecationWarning: numpy.pv is deprecated and will be removed from NumPy 1.20. Use numpy_financial.pv instead (https://pypi.org/project/numpy-financial/).\n",
      "  after removing the cwd from sys.path.\n",
      "C:\\Users\\brama\\Miniconda3\\envs\\ds\\lib\\site-packages\\ipykernel_launcher.py:8: DeprecationWarning: numpy.pv is deprecated and will be removed from NumPy 1.20. Use numpy_financial.pv instead (https://pypi.org/project/numpy-financial/).\n",
      "  \n",
      "C:\\Users\\brama\\Miniconda3\\envs\\ds\\lib\\site-packages\\ipykernel_launcher.py:12: DeprecationWarning: numpy.pv is deprecated and will be removed from NumPy 1.20. Use numpy_financial.pv instead (https://pypi.org/project/numpy-financial/).\n",
      "  if sys.path[0] == '':\n"
     ]
    }
   ],
   "source": [
    "import numpy as np\n",
    "\n",
    "# Calculate investment_1\n",
    "investment_1 = np.pv(rate=0.03, nper=30, pmt=0, fv=100)\n",
    "print(\"Investment 1 is worth $\" + str(round(-investment_1, 2)) + \" in today's dollars\")\n",
    "\n",
    "# Calculate investment_2\n",
    "investment_2 = np.pv(rate=0.03, nper=50, pmt=0, fv=100)\n",
    "print(\"Investment 2 is worth $\" + str(round(-investment_2, 2)) + \" in today's dollars\")\n",
    "\n",
    "# Calculate investment_3\n",
    "investment_3 = np.pv(rate=0.03, nper=100, pmt=0, fv=100)\n",
    "print(\"Investment 3 is worth $\" + str(round(-investment_3, 2)) + \" in today's dollars\")"
   ]
  },
  {
   "cell_type": "markdown",
   "metadata": {},
   "source": [
    "# Chapter 2"
   ]
  },
  {
   "cell_type": "markdown",
   "metadata": {},
   "source": [
    "## Project Proposals and Cash Flows Projections\n",
    "Your project managers have projected the cash flows for each of the proposals.\n",
    "\n",
    "Project 1 provides higher short term cash flows, but Project 2 becomes more profitable over time.\n",
    "\n",
    "The cash flow projections for both projects are as follows:\n",
    "\n",
    "Note: The projections are provided in thousands. For example, 1,000 = 1,000,000. We will use the smaller denominations to make everything easier to read. This is also commonly done in financial statements with thousands or even millions in order to represent millions or billions."
   ]
  },
  {
   "cell_type": "code",
   "execution_count": 18,
   "metadata": {},
   "outputs": [],
   "source": [
    "import numpy as np\n",
    "\n",
    "# Create a numpy array of cash flows for Project 1\n",
    "cf_project_1 = np.array([-1000,200,250,300,350,400,450,500,550,600])\n",
    "\n",
    "# Create a numpy array of cash flows for Project 2\n",
    "cf_project_2 = np.array([-1000,150,225,300,375,425,500,575,600,625])\n",
    "\n",
    "# Scale the original objects by 1000x\n",
    "cf_project1 = cf_project_1 * 1000\n",
    "cf_project2 = cf_project_2 * 1000"
   ]
  },
  {
   "cell_type": "markdown",
   "metadata": {},
   "source": [
    "## Internal Rate of Return\n",
    "Now that you have the cash flow projections ready to go for each project, you want to compare the internal rate of return (IRR) of each project to help you decide which project would be most beneficial for your company in terms of yield (rate of return). In this exercise, you will calculate the internal rate of return for each project using np.irr(values).\n",
    "\n",
    "The cash flows for projects 1 and 2 are available as cf_project1 and cf_project2."
   ]
  },
  {
   "cell_type": "code",
   "execution_count": 19,
   "metadata": {},
   "outputs": [
    {
     "name": "stdout",
     "output_type": "stream",
     "text": [
      "Project 1 IRR: 28.92%\n",
      "Project 2 IRR: 28.78%\n"
     ]
    },
    {
     "name": "stderr",
     "output_type": "stream",
     "text": [
      "C:\\Users\\brama\\Miniconda3\\envs\\ds\\lib\\site-packages\\ipykernel_launcher.py:4: DeprecationWarning: numpy.irr is deprecated and will be removed from NumPy 1.20. Use numpy_financial.irr instead (https://pypi.org/project/numpy-financial/).\n",
      "  after removing the cwd from sys.path.\n",
      "C:\\Users\\brama\\Miniconda3\\envs\\ds\\lib\\site-packages\\ipykernel_launcher.py:8: DeprecationWarning: numpy.irr is deprecated and will be removed from NumPy 1.20. Use numpy_financial.irr instead (https://pypi.org/project/numpy-financial/).\n",
      "  \n"
     ]
    }
   ],
   "source": [
    "\n",
    "import numpy as np\n",
    "\n",
    "# Calculate the internal rate of return for Project 1\n",
    "irr_project1 = np.irr(cf_project1)\n",
    "print(\"Project 1 IRR: \" + str(round(100*irr_project1, 2)) + \"%\")\n",
    "\n",
    "# Calculate the internal rate of return for Project 2\n",
    "irr_project2 = np.irr(cf_project2)\n",
    "print(\"Project 2 IRR: \" + str(round(100*irr_project2, 2)) + \"%\")"
   ]
  },
  {
   "cell_type": "markdown",
   "metadata": {},
   "source": [
    "## Debt and Equity Financing\n",
    "In the previous chapter, you were able to assume that your discount rate for the NPV calculation was solely based on a measure such as inflation.\n",
    "\n",
    "However, in this chapter, you are the CEO of a new company that has outstanding debt and financing costs, which you will have to adjust for.\n",
    "\n",
    "You will use the WACC as your discount rate in upcoming exercises.\n",
    "\n",
    "For this exercise, assume you take out a 1,000,000 loan to finance the project, which will be your company's only outstanding debt. This loan will represent 50% of your company's total financing of 2,000,000. The remaining funding comes from the market value of equity."
   ]
  },
  {
   "cell_type": "code",
   "execution_count": 20,
   "metadata": {},
   "outputs": [
    {
     "name": "stdout",
     "output_type": "stream",
     "text": [
      "Debt Financing: 50.0%\n",
      "Equity Financing: 50.0%\n"
     ]
    }
   ],
   "source": [
    "# Set the market value of debt\n",
    "mval_debt = 1000000\n",
    "\n",
    "# Set the market value of equity\n",
    "mval_equity = 1000000\n",
    "\n",
    "# Compute the total market value of your company's financing\n",
    "mval_total = mval_debt + mval_equity\n",
    "\n",
    "# Compute the proportion of your company's financing via debt\n",
    "percent_debt = 0.5\n",
    "print(\"Debt Financing: \" + str(round(100*percent_debt, 2)) + \"%\")\n",
    "\n",
    "# Compute the proportion of your company's financing via equity\n",
    "percent_equity = 0.5\n",
    "print(\"Equity Financing: \" + str(round(100*percent_equity, 2)) + \"%\")"
   ]
  },
  {
   "cell_type": "markdown",
   "metadata": {},
   "source": [
    "## Calculating WACC\n",
    "In addition to determining the proportion of both equity and debt financing, you will need to estimate the cost of financing via both debt and equity in order to estimate your WACC.\n",
    "\n",
    "The cost of debt financing can be estimated as the amount you will have to pay on a new loan. This can be estimated by looking at the interest rates of loans of similar sizes to similar companies, or could be based on previous loans your company may already have been issued.\n",
    "\n",
    "The cost of equity financing can be estimated as the return on equity of similar companies. Calculating the return on equity is a simple accounting exercise, but all you need to know is that essentially, investors will require a rate of return that is close to what could be earned by a similar investment."
   ]
  },
  {
   "cell_type": "code",
   "execution_count": 21,
   "metadata": {},
   "outputs": [
    {
     "name": "stdout",
     "output_type": "stream",
     "text": [
      "WACC: 12.9%\n"
     ]
    }
   ],
   "source": [
    "# The proportion of debt vs equity financing is predefined\n",
    "percent_debt = 0.50\n",
    "percent_equity = 0.50\n",
    "\n",
    "# Set the cost of equity\n",
    "cost_equity = 0.18\n",
    "\n",
    "# Set the cost of debt\n",
    "cost_debt = .12\n",
    "\n",
    "# Set the corporate tax rate\n",
    "tax_rate = .35\n",
    "\n",
    "# Calculate the WACC\n",
    "wacc = percent_equity * cost_equity + percent_debt*cost_debt*(1-tax_rate)\n",
    "print(\"WACC: \" + str(round(100*wacc, 2)) + \"%\")"
   ]
  },
  {
   "cell_type": "markdown",
   "metadata": {},
   "source": [
    "## Comparing Project NPV with IRR\n",
    "Companies use their WACC as the discount rate when calculating the net present value of potential projects.\n",
    "\n",
    "In the same way that you discounted values by inflation in the previous chapter to account for costs over time, companies adjust the cash flows of potential projects by their cost of financing (the WACC) to account for their investor's required rate of return based on market conditions.\n",
    "\n",
    "Now that you calculated the WACC, you can determine the net present value (NPV) of each project's cash flows. The cash flows for projects 1 and 2 are available as cf_project1 and cf_project2."
   ]
  },
  {
   "cell_type": "code",
   "execution_count": 25,
   "metadata": {},
   "outputs": [],
   "source": [
    "cf_project1 = np.array([-1000000,   200000,   250000,   300000,   350000,   400000,\n",
    "         450000,   500000,   550000,   600000])"
   ]
  },
  {
   "cell_type": "code",
   "execution_count": null,
   "metadata": {},
   "outputs": [],
   "source": [
    "cf_project2 = np.array([-1000000,   150000,   225000,   300000,   375000,   425000,\n",
    "         500000,   575000,   600000,   625000])"
   ]
  },
  {
   "cell_type": "code",
   "execution_count": 26,
   "metadata": {},
   "outputs": [
    {
     "name": "stdout",
     "output_type": "stream",
     "text": [
      "Project 1 NPV: 856073.18\n",
      "Project 2 NPV: 904741.35\n"
     ]
    },
    {
     "name": "stderr",
     "output_type": "stream",
     "text": [
      "C:\\Users\\brama\\Miniconda3\\envs\\ds\\lib\\site-packages\\ipykernel_launcher.py:7: DeprecationWarning: numpy.npv is deprecated and will be removed from NumPy 1.20. Use numpy_financial.npv instead (https://pypi.org/project/numpy-financial/).\n",
      "  import sys\n",
      "C:\\Users\\brama\\Miniconda3\\envs\\ds\\lib\\site-packages\\ipykernel_launcher.py:11: DeprecationWarning: numpy.npv is deprecated and will be removed from NumPy 1.20. Use numpy_financial.npv instead (https://pypi.org/project/numpy-financial/).\n",
      "  # This is added back by InteractiveShellApp.init_path()\n"
     ]
    }
   ],
   "source": [
    "import numpy as np\n",
    "\n",
    "# Set your weighted average cost of capital equal to 12.9%\n",
    "wacc = 0.129\n",
    "\n",
    "# Calculate the net present value for Project 1\n",
    "npv_project1 = np.npv(wacc, cf_project1)\n",
    "print(\"Project 1 NPV: \" + str(round(npv_project1, 2)))\n",
    "\n",
    "# Calculate the net present value for Project 2\n",
    "npv_project2 = np.npv(wacc, cf_project2)\n",
    "print(\"Project 2 NPV: \" + str(round(npv_project2, 2)))"
   ]
  },
  {
   "cell_type": "markdown",
   "metadata": {},
   "source": [
    "## Two Project With Different Lifespans\n",
    "The board of the company has decided to go a different direction, involving slightly shorter term projects and lower initial investments.\n",
    "\n",
    "Your project managers have come up with two new ideas, and projected the cash flows for each of the proposals.\n",
    "\n",
    "Project 1 has a lifespan of 8 years, but Project 2 only has a lifespan of 7 years. Project 1 requires an initial investment of $700,000, but Project 2 only requires $400,000.\n",
    "\n",
    "The cash flow projections for both projects are as follows:"
   ]
  },
  {
   "cell_type": "code",
   "execution_count": 27,
   "metadata": {},
   "outputs": [],
   "source": [
    "import numpy as np\n",
    "\n",
    "# Create a numpy array of cash flows for Project 1\n",
    "cf_project_1 = np.array([-700,100,150,200,250,300,350,400])\n",
    "\n",
    "# Create a numpy array of cash flows for Project 2\n",
    "cf_project_2 = np.array([-400,50,100,150,200,250,300])\n",
    "\n",
    "# Scale the original objects by 1000x\n",
    "cf_project1 = cf_project_1*1000\n",
    "cf_project2 =  cf_project_2*1000"
   ]
  },
  {
   "cell_type": "markdown",
   "metadata": {},
   "source": [
    "## Calculating IRR and NPV With Different Project Lifespans\n",
    "Now that you calculated the WACC, you can calculate and compare the IRRs and NPVs of each project.\n",
    "\n",
    "While the IRR remains relatively comparable across projects, the NPV, on the other hand, will be much more difficult to compare given the additional year required for project 1.\n",
    "\n",
    "Luckily, in the next exercise, we will introduce another method to compare the NPVs of the projects, but we will first need to compute the NPVs as before.\n",
    "\n",
    "The cash flows for projects 1 and 2 are available as cf_project1 and cf_project2."
   ]
  },
  {
   "cell_type": "code",
   "execution_count": 31,
   "metadata": {},
   "outputs": [
    {
     "name": "stdout",
     "output_type": "stream",
     "text": [
      "Project 1 IRR: 22.94%\n",
      "Project 2 IRR: 26.89%\n",
      "Project 1 NPV: 302744.98\n",
      "Project 2 NPV: 231228.39\n"
     ]
    },
    {
     "name": "stderr",
     "output_type": "stream",
     "text": [
      "C:\\Users\\brama\\Miniconda3\\envs\\ds\\lib\\site-packages\\ipykernel_launcher.py:4: DeprecationWarning: numpy.irr is deprecated and will be removed from NumPy 1.20. Use numpy_financial.irr instead (https://pypi.org/project/numpy-financial/).\n",
      "  after removing the cwd from sys.path.\n",
      "C:\\Users\\brama\\Miniconda3\\envs\\ds\\lib\\site-packages\\ipykernel_launcher.py:8: DeprecationWarning: numpy.irr is deprecated and will be removed from NumPy 1.20. Use numpy_financial.irr instead (https://pypi.org/project/numpy-financial/).\n",
      "  \n",
      "C:\\Users\\brama\\Miniconda3\\envs\\ds\\lib\\site-packages\\ipykernel_launcher.py:15: DeprecationWarning: numpy.npv is deprecated and will be removed from NumPy 1.20. Use numpy_financial.npv instead (https://pypi.org/project/numpy-financial/).\n",
      "  from ipykernel import kernelapp as app\n",
      "C:\\Users\\brama\\Miniconda3\\envs\\ds\\lib\\site-packages\\ipykernel_launcher.py:19: DeprecationWarning: numpy.npv is deprecated and will be removed from NumPy 1.20. Use numpy_financial.npv instead (https://pypi.org/project/numpy-financial/).\n"
     ]
    }
   ],
   "source": [
    "import numpy as np\n",
    "\n",
    "# Calculate the IRR for Project 1\n",
    "irr_project1 = np.irr(cf_project1)\n",
    "print(\"Project 1 IRR: \" + str(round(100*irr_project1, 2)) + \"%\")\n",
    "\n",
    "# Calculate the IRR for Project 2\n",
    "irr_project2 = np.irr(cf_project2)\n",
    "print(\"Project 2 IRR: \" + str(round(100*irr_project2, 2)) + \"%\")\n",
    "\n",
    "# Set the wacc equal to 12.9%\n",
    "wacc = 0.129\n",
    "\n",
    "# Calculate the NPV for Project 1\n",
    "npv_project1 = np.npv(wacc, cf_project1)\n",
    "print(\"Project 1 NPV: \" + str(round(npv_project1, 2)))\n",
    "\n",
    "# Calculate the NPV for Project 2\n",
    "npv_project2 = np.npv(wacc, cf_project2)\n",
    "print(\"Project 2 NPV: \" + str(round(npv_project2, 2)))"
   ]
  },
  {
   "cell_type": "markdown",
   "metadata": {},
   "source": [
    "## Using the Equivalent Annual Annuity Approach\n",
    "Since the net present values of each project are not directly comparable given the different lifespans of each project, you will have to consider a different approach.\n",
    "\n",
    "The equivalent annual annuity (EAA) approach allows us to compare two projects by essentially assuming that each project is an investment generating a flat interest rate each year (an annuity), and calculating the annual payment you would receive from each project, discounted to present value.\n",
    "\n",
    "You can compute the EAA of each project using the .pmt(rate, nper, pv, fv) function in numpy.\n",
    "\n",
    "The weighted average cost is available as wacc, and the net present values for projects 1 and 2 are available as npv_project1 and npv_project2."
   ]
  },
  {
   "cell_type": "code",
   "execution_count": 32,
   "metadata": {},
   "outputs": [
    {
     "name": "stdout",
     "output_type": "stream",
     "text": [
      "Project 1 EAA: -62872.2\n",
      "Project 2 EAA: -52120.61\n"
     ]
    },
    {
     "name": "stderr",
     "output_type": "stream",
     "text": [
      "C:\\Users\\brama\\Miniconda3\\envs\\ds\\lib\\site-packages\\ipykernel_launcher.py:4: DeprecationWarning: numpy.pmt is deprecated and will be removed from NumPy 1.20. Use numpy_financial.pmt instead (https://pypi.org/project/numpy-financial/).\n",
      "  after removing the cwd from sys.path.\n",
      "C:\\Users\\brama\\Miniconda3\\envs\\ds\\lib\\site-packages\\ipykernel_launcher.py:8: DeprecationWarning: numpy.pmt is deprecated and will be removed from NumPy 1.20. Use numpy_financial.pmt instead (https://pypi.org/project/numpy-financial/).\n",
      "  \n"
     ]
    }
   ],
   "source": [
    "import numpy as np\n",
    "\n",
    "# Calculate the EAA for Project 1\n",
    "eaa_project1 = np.pmt(rate=wacc, nper=8, pv=npv_project1, fv=0)\n",
    "print(\"Project 1 EAA: \" + str(round(eaa_project1, 2)))\n",
    "\n",
    "# Calculate the EAA for Project 2\n",
    "eaa_project2 = np.pmt(rate=wacc, nper=7, pv=npv_project2, fv=0)\n",
    "print(\"Project 2 EAA: \" + str(round(eaa_project2, 2)))"
   ]
  },
  {
   "cell_type": "code",
   "execution_count": null,
   "metadata": {},
   "outputs": [],
   "source": []
  }
 ],
 "metadata": {
  "kernelspec": {
   "display_name": "Python 3",
   "language": "python",
   "name": "python3"
  },
  "language_info": {
   "codemirror_mode": {
    "name": "ipython",
    "version": 3
   },
   "file_extension": ".py",
   "mimetype": "text/x-python",
   "name": "python",
   "nbconvert_exporter": "python",
   "pygments_lexer": "ipython3",
   "version": "3.6.10"
  }
 },
 "nbformat": 4,
 "nbformat_minor": 4
}
