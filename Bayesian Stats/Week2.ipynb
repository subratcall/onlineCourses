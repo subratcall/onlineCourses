{
 "cells": [
  {
   "cell_type": "code",
   "execution_count": 5,
   "metadata": {},
   "outputs": [],
   "source": [
    "import pandas\n",
    "import numpy \n",
    "import math\n",
    "from math import pow"
   ]
  },
  {
   "cell_type": "code",
   "execution_count": 3,
   "metadata": {},
   "outputs": [],
   "source": [
    "import operator as op\n",
    "from functools import reduce\n",
    "\n",
    "def ncr(n, r):\n",
    "    r = min(r, n-r)\n",
    "    numer = reduce(op.mul, range(n, n-r, -1), 1)\n",
    "    denom = reduce(op.mul, range(1, r+1), 1)\n",
    "    return numer // denom  # or / in Python 2"
   ]
  },
  {
   "cell_type": "code",
   "execution_count": 23,
   "metadata": {},
   "outputs": [],
   "source": [
    "def mle(prob_a, prob_b, num_trial, num_pos, theta=True):\n",
    "    if theta==True:\n",
    "        i=1\n",
    "    else:\n",
    "        i=0\n",
    "    comb = ncr(num_trial, num_pos)\n",
    "    numer = comb * pow(prob_a,num_pos) * pow(1-prob_a, num_trial-num_pos) * i + comb * pow(prob_b,num_pos) * pow(1-prob_b, num_trial-num_pos) * (-1)*(i-1)\n",
    "    return numer"
   ]
  },
  {
   "cell_type": "code",
   "execution_count": 26,
   "metadata": {},
   "outputs": [],
   "source": [
    "def binomial_bayes_infer_2(prob_prior, prob_a, prob_b, num_trial, num_pos, theta=True):\n",
    "    if theta==True:\n",
    "        i=1\n",
    "    else:\n",
    "        i=0\n",
    "    comb = ncr(num_trial, num_pos)\n",
    "    numer = comb * pow(prob_a,num_pos) * pow(1-prob_a, num_trial-num_pos) * prob_prior * i + comb * pow(prob_b,num_pos) * pow(1-prob_b, num_trial-num_pos) * (1-prob_prior) * (-1)*(i-1)\n",
    "    denom = comb * prob_prior * pow(prob_a,num_pos) * pow(1-prob_a, num_trial-num_pos) + comb * (1-prob_prior) * pow(prob_b,num_pos) * pow(1-prob_b, num_trial-num_pos)\n",
    "    \n",
    "    return numer / denom"
   ]
  },
  {
   "cell_type": "code",
   "execution_count": 27,
   "metadata": {},
   "outputs": [],
   "source": [
    "def binomial_bayes_infer_3(prob_priors, prob_events, num_trial, num_pos, theta_idx=0):\n",
    "    if theta_idx==0:\n",
    "        i1=1\n",
    "        i2=0\n",
    "        i3=0\n",
    "    elif theta_idx==1:\n",
    "        i1=0\n",
    "        i2=1\n",
    "        i3=0\n",
    "    else:\n",
    "        i1=0\n",
    "        i2=0\n",
    "        i3=1\n",
    "    comb = ncr(num_trial, num_pos)\n",
    "    numer = (comb * pow(prob_events[0],num_pos) * pow(1-prob_events[0], num_trial-num_pos) * prob_priors[0] * i1 \n",
    "             + comb * pow(prob_events[1],num_pos) * pow(1-prob_events[1], num_trial-num_pos) * prob_priors[1] * i2\n",
    "             + comb * pow(prob_events[2],num_pos) * pow(1-prob_events[2], num_trial-num_pos) * prob_priors[2] * i3\n",
    "            )\n",
    "    denom = (comb * prob_priors[0] * pow(prob_events[0],num_pos) * pow(1-prob_events[0], num_trial-num_pos) \n",
    "             + comb * prob_priors[1] * pow(prob_events[1],num_pos) * pow(1-prob_events[1], num_trial-num_pos)\n",
    "             + comb * prob_priors[2] * pow(prob_events[2],num_pos) * pow(1-prob_events[2], num_trial-num_pos))\n",
    "    \n",
    "    return numer / denom"
   ]
  },
  {
   "cell_type": "code",
   "execution_count": 20,
   "metadata": {},
   "outputs": [
    {
     "data": {
      "text/plain": [
       "0.9550733496332517"
      ]
     },
     "execution_count": 20,
     "metadata": {},
     "output_type": "execute_result"
    }
   ],
   "source": [
    "binomial_bayes_infer_2(0.9, 0.5,0.7,5,2, theta=True)"
   ]
  },
  {
   "cell_type": "code",
   "execution_count": 22,
   "metadata": {},
   "outputs": [
    {
     "data": {
      "text/plain": [
       "0.9980996496228993"
      ]
     },
     "execution_count": 22,
     "metadata": {},
     "output_type": "execute_result"
    }
   ],
   "source": [
    "binomial_bayes_infer_2(0.5, 0.8,0.3,5,0, theta=False)"
   ]
  },
  {
   "cell_type": "code",
   "execution_count": 24,
   "metadata": {},
   "outputs": [
    {
     "data": {
      "text/plain": [
       "0.00031999999999999965"
      ]
     },
     "execution_count": 24,
     "metadata": {},
     "output_type": "execute_result"
    }
   ],
   "source": [
    "mle(0.8,0.3,5,0,theta=True)"
   ]
  },
  {
   "cell_type": "code",
   "execution_count": 25,
   "metadata": {},
   "outputs": [
    {
     "data": {
      "text/plain": [
       "0.16806999999999994"
      ]
     },
     "execution_count": 25,
     "metadata": {},
     "output_type": "execute_result"
    }
   ],
   "source": [
    "mle(0.8,0.3,5,0,theta=False)"
   ]
  },
  {
   "cell_type": "code",
   "execution_count": 28,
   "metadata": {},
   "outputs": [
    {
     "data": {
      "text/plain": [
       "0.4858142246404975"
      ]
     },
     "execution_count": 28,
     "metadata": {},
     "output_type": "execute_result"
    }
   ],
   "source": [
    "binomial_bayes_infer_3([0.4,0.3,0.3],[0.5,0.7,0.3],4,2,0)"
   ]
  },
  {
   "cell_type": "code",
   "execution_count": null,
   "metadata": {},
   "outputs": [],
   "source": []
  }
 ],
 "metadata": {
  "kernelspec": {
   "display_name": "Python 3",
   "language": "python",
   "name": "python3"
  },
  "language_info": {
   "codemirror_mode": {
    "name": "ipython",
    "version": 3
   },
   "file_extension": ".py",
   "mimetype": "text/x-python",
   "name": "python",
   "nbconvert_exporter": "python",
   "pygments_lexer": "ipython3",
   "version": "3.6.10"
  }
 },
 "nbformat": 4,
 "nbformat_minor": 4
}
