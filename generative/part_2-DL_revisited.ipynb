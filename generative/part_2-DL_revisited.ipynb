{
 "cells": [
  {
   "cell_type": "code",
   "execution_count": 3,
   "metadata": {},
   "outputs": [],
   "source": [
    "import numpy as np\n",
    "from keras.utils import to_categorical\n",
    "from keras.datasets import cifar10"
   ]
  },
  {
   "cell_type": "code",
   "execution_count": 4,
   "metadata": {},
   "outputs": [
    {
     "name": "stdout",
     "output_type": "stream",
     "text": [
      "Downloading data from https://www.cs.toronto.edu/~kriz/cifar-10-python.tar.gz\n",
      "170500096/170498071 [==============================] - 146s 1us/step\n"
     ]
    }
   ],
   "source": [
    "(x_train, y_train), (x_test, y_test) = cifar10.load_data()"
   ]
  },
  {
   "cell_type": "code",
   "execution_count": 5,
   "metadata": {},
   "outputs": [],
   "source": [
    "NUM_CLASSES = 10"
   ]
  },
  {
   "cell_type": "code",
   "execution_count": 6,
   "metadata": {},
   "outputs": [],
   "source": [
    "x_train = x_train.astype('float32') / 255.0\n",
    "x_test = x_test.astype('float32') / 255.0\n",
    "\n",
    "y_train = to_categorical(y_train, NUM_CLASSES)\n",
    "y_test = to_categorical(y_test, NUM_CLASSES)"
   ]
  },
  {
   "cell_type": "code",
   "execution_count": 7,
   "metadata": {},
   "outputs": [],
   "source": [
    "from keras.layers import Input, Flatten, Dense\n",
    "from keras.models import Model"
   ]
  },
  {
   "cell_type": "code",
   "execution_count": 8,
   "metadata": {},
   "outputs": [
    {
     "name": "stderr",
     "output_type": "stream",
     "text": [
      "WARNING: Logging before flag parsing goes to stderr.\n",
      "W0604 22:41:22.909537  5740 deprecation_wrapper.py:119] From C:\\Users\\brama\\Miniconda3\\envs\\generative\\lib\\site-packages\\keras\\backend\\tensorflow_backend.py:74: The name tf.get_default_graph is deprecated. Please use tf.compat.v1.get_default_graph instead.\n",
      "\n",
      "W0604 22:41:22.940544  5740 deprecation_wrapper.py:119] From C:\\Users\\brama\\Miniconda3\\envs\\generative\\lib\\site-packages\\keras\\backend\\tensorflow_backend.py:517: The name tf.placeholder is deprecated. Please use tf.compat.v1.placeholder instead.\n",
      "\n",
      "W0604 22:41:22.962536  5740 deprecation_wrapper.py:119] From C:\\Users\\brama\\Miniconda3\\envs\\generative\\lib\\site-packages\\keras\\backend\\tensorflow_backend.py:4138: The name tf.random_uniform is deprecated. Please use tf.random.uniform instead.\n",
      "\n"
     ]
    }
   ],
   "source": [
    "input_layer = Input(shape=(32, 32, 3))\n",
    "\n",
    "x = Flatten()(input_layer)\n",
    "\n",
    "x = Dense(units = 300, activation = 'relu')(x)\n",
    "x = Dense(units = 100, activation = 'relu')(x)\n",
    "\n",
    "output_layer = Dense(units=NUM_CLASSES, activation='softmax')(x)\n",
    "\n",
    "model = Model(input_layer, output_layer)"
   ]
  },
  {
   "cell_type": "code",
   "execution_count": 9,
   "metadata": {
    "scrolled": true
   },
   "outputs": [
    {
     "name": "stdout",
     "output_type": "stream",
     "text": [
      "_________________________________________________________________\n",
      "Layer (type)                 Output Shape              Param #   \n",
      "=================================================================\n",
      "input_1 (InputLayer)         (None, 32, 32, 3)         0         \n",
      "_________________________________________________________________\n",
      "flatten_1 (Flatten)          (None, 3072)              0         \n",
      "_________________________________________________________________\n",
      "dense_1 (Dense)              (None, 300)               921900    \n",
      "_________________________________________________________________\n",
      "dense_2 (Dense)              (None, 100)               30100     \n",
      "_________________________________________________________________\n",
      "dense_3 (Dense)              (None, 10)                1010      \n",
      "=================================================================\n",
      "Total params: 953,010\n",
      "Trainable params: 953,010\n",
      "Non-trainable params: 0\n",
      "_________________________________________________________________\n"
     ]
    }
   ],
   "source": [
    "model.summary()"
   ]
  },
  {
   "cell_type": "code",
   "execution_count": 10,
   "metadata": {},
   "outputs": [
    {
     "name": "stderr",
     "output_type": "stream",
     "text": [
      "W0604 22:41:26.430573  5740 deprecation_wrapper.py:119] From C:\\Users\\brama\\Miniconda3\\envs\\generative\\lib\\site-packages\\keras\\optimizers.py:790: The name tf.train.Optimizer is deprecated. Please use tf.compat.v1.train.Optimizer instead.\n",
      "\n",
      "W0604 22:41:26.438569  5740 deprecation_wrapper.py:119] From C:\\Users\\brama\\Miniconda3\\envs\\generative\\lib\\site-packages\\keras\\backend\\tensorflow_backend.py:3295: The name tf.log is deprecated. Please use tf.math.log instead.\n",
      "\n"
     ]
    }
   ],
   "source": [
    "from keras.optimizers import Adam\n",
    "\n",
    "opt = Adam(lr = 0.0005)\n",
    "\n",
    "model.compile(loss='categorical_crossentropy', optimizer=opt, metrics=['accuracy'])"
   ]
  },
  {
   "cell_type": "code",
   "execution_count": 11,
   "metadata": {},
   "outputs": [
    {
     "name": "stderr",
     "output_type": "stream",
     "text": [
      "W0604 22:41:29.138020  5740 deprecation.py:323] From C:\\Users\\brama\\Miniconda3\\envs\\generative\\lib\\site-packages\\tensorflow\\python\\ops\\math_grad.py:1250: add_dispatch_support.<locals>.wrapper (from tensorflow.python.ops.array_ops) is deprecated and will be removed in a future version.\n",
      "Instructions for updating:\n",
      "Use tf.where in 2.0, which has the same broadcast rule as np.where\n",
      "W0604 22:41:29.184990  5740 deprecation_wrapper.py:119] From C:\\Users\\brama\\Miniconda3\\envs\\generative\\lib\\site-packages\\keras\\backend\\tensorflow_backend.py:986: The name tf.assign_add is deprecated. Please use tf.compat.v1.assign_add instead.\n",
      "\n"
     ]
    },
    {
     "name": "stdout",
     "output_type": "stream",
     "text": [
      "Epoch 1/10\n",
      "50000/50000 [==============================] - 16s 324us/step - loss: 1.8649 - acc: 0.3278\n",
      "Epoch 2/10\n",
      "50000/50000 [==============================] - 13s 262us/step - loss: 1.6748 - acc: 0.4024\n",
      "Epoch 3/10\n",
      "50000/50000 [==============================] - 13s 259us/step - loss: 1.5979 - acc: 0.4309\n",
      "Epoch 4/10\n",
      "50000/50000 [==============================] - 13s 254us/step - loss: 1.5373 - acc: 0.4536\n",
      "Epoch 5/10\n",
      "50000/50000 [==============================] - 12s 247us/step - loss: 1.5005 - acc: 0.4647\n",
      "Epoch 6/10\n",
      "50000/50000 [==============================] - 12s 244us/step - loss: 1.4633 - acc: 0.4795\n",
      "Epoch 7/10\n",
      "50000/50000 [==============================] - 12s 244us/step - loss: 1.4366 - acc: 0.4876\n",
      "Epoch 8/10\n",
      "50000/50000 [==============================] - 12s 246us/step - loss: 1.4128 - acc: 0.4969\n",
      "Epoch 9/10\n",
      "50000/50000 [==============================] - 12s 246us/step - loss: 1.3866 - acc: 0.5081\n",
      "Epoch 10/10\n",
      "50000/50000 [==============================] - 12s 250us/step - loss: 1.3645 - acc: 0.5131\n"
     ]
    },
    {
     "data": {
      "text/plain": [
       "<keras.callbacks.History at 0x232e880a940>"
      ]
     },
     "execution_count": 11,
     "metadata": {},
     "output_type": "execute_result"
    }
   ],
   "source": [
    "model.fit(x_train, y_train, batch_size=32, epochs=10, shuffle=True)"
   ]
  },
  {
   "cell_type": "code",
   "execution_count": 12,
   "metadata": {},
   "outputs": [
    {
     "name": "stdout",
     "output_type": "stream",
     "text": [
      "10000/10000 [==============================] - 1s 90us/step\n"
     ]
    },
    {
     "data": {
      "text/plain": [
       "[1.4278397064208985, 0.497]"
      ]
     },
     "execution_count": 12,
     "metadata": {},
     "output_type": "execute_result"
    }
   ],
   "source": [
    "model.evaluate(x_test, y_test)"
   ]
  },
  {
   "cell_type": "code",
   "execution_count": 13,
   "metadata": {},
   "outputs": [],
   "source": [
    "CLASSES = np.array([\n",
    "    'airplane',\n",
    "    'automobile',\n",
    "    'bird',\n",
    "    'cat',\n",
    "    'deer',\n",
    "    'dog',\n",
    "    'frog',\n",
    "    'horse',\n",
    "    'ship',\n",
    "    'truck',\n",
    "])\n",
    "\n",
    "preds = model.predict(x_test)\n",
    "preds_single = CLASSES[np.argmax(preds, axis = -1)]\n",
    "actual_single = CLASSES[np.argmax(y_test, axis = -1)]"
   ]
  },
  {
   "cell_type": "code",
   "execution_count": 14,
   "metadata": {},
   "outputs": [],
   "source": [
    "import matplotlib.pyplot as plt"
   ]
  },
  {
   "cell_type": "code",
   "execution_count": 15,
   "metadata": {},
   "outputs": [
    {
     "data": {
      "image/png": "[encoded data removed]",
      "text/plain": [
       "<Figure size 1080x216 with 10 Axes>"
      ]
     },
     "metadata": {
      "needs_background": "light"
     },
     "output_type": "display_data"
    }
   ],
   "source": [
    "n_to_show = 10\n",
    "indices = np.random.choice(range(len(x_test)), n_to_show)\n",
    "\n",
    "fig = plt.figure(figsize=(15,3))\n",
    "fig.subplots_adjust(hspace=0.4, wspace=0.4)\n",
    "\n",
    "for i, idx in enumerate(indices):\n",
    "    img = x_test[idx]\n",
    "    ax = fig.add_subplot(1, n_to_show, i+1)\n",
    "    ax.axis('off')\n",
    "    ax.text(0.5, -0.35, 'pred = '+str(preds_single[idx]), fontsize=10, ha='center', transform=ax.transAxes)\n",
    "    ax.text(0.5, -0.7, 'act = '+str(actual_single[idx]), fontsize=10, ha='center', transform=ax.transAxes)\n",
    "    ax.imshow(img)"
   ]
  },
  {
   "cell_type": "markdown",
   "metadata": {},
   "source": [
    "CNN"
   ]
  },
  {
   "cell_type": "code",
   "execution_count": 16,
   "metadata": {},
   "outputs": [],
   "source": [
    "from keras.layers import Conv2D"
   ]
  },
  {
   "cell_type": "code",
   "execution_count": 17,
   "metadata": {},
   "outputs": [],
   "source": [
    "cnn_input_layer = Input(shape = (32, 32, 3))\n",
    "\n",
    "conv_1 = Conv2D(\n",
    "    filters = 12,\n",
    "    kernel_size = (4, 4),\n",
    "    strides = 2,\n",
    "    padding = 'same')(cnn_input_layer)\n",
    "\n",
    "conv_2 = Conv2D(\n",
    "    filters = 24,\n",
    "    kernel_size = (3,3),\n",
    "    strides = 2,\n",
    "    padding = 'same')(conv_1)\n",
    "\n",
    "flatten_layer = Flatten()(conv_2)\n",
    "output_layer = Dense(units = NUM_CLASSES, activation = 'softmax')(flatten_layer)\n",
    "\n",
    "cnn_model = Model(cnn_input_layer, output_layer)"
   ]
  },
  {
   "cell_type": "code",
   "execution_count": 18,
   "metadata": {},
   "outputs": [
    {
     "name": "stdout",
     "output_type": "stream",
     "text": [
      "_________________________________________________________________\n",
      "Layer (type)                 Output Shape              Param #   \n",
      "=================================================================\n",
      "input_2 (InputLayer)         (None, 32, 32, 3)         0         \n",
      "_________________________________________________________________\n",
      "conv2d_1 (Conv2D)            (None, 16, 16, 12)        588       \n",
      "_________________________________________________________________\n",
      "conv2d_2 (Conv2D)            (None, 8, 8, 24)          2616      \n",
      "_________________________________________________________________\n",
      "flatten_2 (Flatten)          (None, 1536)              0         \n",
      "_________________________________________________________________\n",
      "dense_4 (Dense)              (None, 10)                15370     \n",
      "=================================================================\n",
      "Total params: 18,574\n",
      "Trainable params: 18,574\n",
      "Non-trainable params: 0\n",
      "_________________________________________________________________\n"
     ]
    }
   ],
   "source": [
    "cnn_model.summary()"
   ]
  },
  {
   "cell_type": "code",
   "execution_count": 19,
   "metadata": {},
   "outputs": [],
   "source": [
    "cnn_model.compile(optimizer=opt, loss = 'categorical_crossentropy', metrics=['accuracy'])"
   ]
  },
  {
   "cell_type": "code",
   "execution_count": 20,
   "metadata": {},
   "outputs": [
    {
     "name": "stdout",
     "output_type": "stream",
     "text": [
      "Epoch 1/10\n",
      "50000/50000 [==============================] - 13s 270us/step - loss: 1.7991 - acc: 0.3781\n",
      "Epoch 2/10\n",
      "50000/50000 [==============================] - 11s 227us/step - loss: 1.7176 - acc: 0.4116\n",
      "Epoch 3/10\n",
      "50000/50000 [==============================] - 12s 242us/step - loss: 1.7051 - acc: 0.4180\n",
      "Epoch 4/10\n",
      "50000/50000 [==============================] - 11s 224us/step - loss: 1.6935 - acc: 0.4222\n",
      "Epoch 5/10\n",
      "50000/50000 [==============================] - 11s 229us/step - loss: 1.6878 - acc: 0.4258\n",
      "Epoch 6/10\n",
      "50000/50000 [==============================] - 12s 236us/step - loss: 1.6809 - acc: 0.4280\n",
      "Epoch 7/10\n",
      "50000/50000 [==============================] - 12s 237us/step - loss: 1.6768 - acc: 0.4301\n",
      "Epoch 8/10\n",
      "50000/50000 [==============================] - 12s 231us/step - loss: 1.6733 - acc: 0.4305\n",
      "Epoch 9/10\n",
      "50000/50000 [==============================] - 12s 242us/step - loss: 1.6688 - acc: 0.4328\n",
      "Epoch 10/10\n",
      "50000/50000 [==============================] - 11s 228us/step - loss: 1.6645 - acc: 0.4330\n"
     ]
    },
    {
     "data": {
      "text/plain": [
       "<keras.callbacks.History at 0x233ac07a4a8>"
      ]
     },
     "execution_count": 20,
     "metadata": {},
     "output_type": "execute_result"
    }
   ],
   "source": [
    "cnn_model.fit(x_train, y_train, epochs=10, shuffle=True, batch_size=32)"
   ]
  },
  {
   "cell_type": "code",
   "execution_count": 21,
   "metadata": {},
   "outputs": [
    {
     "name": "stdout",
     "output_type": "stream",
     "text": [
      "10000/10000 [==============================] - 1s 105us/step\n"
     ]
    },
    {
     "data": {
      "text/plain": [
       "[1.714497669029236, 0.4112]"
      ]
     },
     "execution_count": 21,
     "metadata": {},
     "output_type": "execute_result"
    }
   ],
   "source": [
    "cnn_model.evaluate(x_test, y_test)"
   ]
  },
  {
   "cell_type": "markdown",
   "metadata": {},
   "source": [
    "CNN model 2"
   ]
  },
  {
   "cell_type": "code",
   "execution_count": 22,
   "metadata": {},
   "outputs": [],
   "source": [
    "from keras.layers import BatchNormalization, LeakyReLU, Dropout"
   ]
  },
  {
   "cell_type": "code",
   "execution_count": 23,
   "metadata": {},
   "outputs": [
    {
     "name": "stderr",
     "output_type": "stream",
     "text": [
      "W0604 22:46:21.048777  5740 deprecation_wrapper.py:119] From C:\\Users\\brama\\Miniconda3\\envs\\generative\\lib\\site-packages\\keras\\backend\\tensorflow_backend.py:1834: The name tf.nn.fused_batch_norm is deprecated. Please use tf.compat.v1.nn.fused_batch_norm instead.\n",
      "\n",
      "W0604 22:46:21.400470  5740 deprecation.py:506] From C:\\Users\\brama\\Miniconda3\\envs\\generative\\lib\\site-packages\\keras\\backend\\tensorflow_backend.py:3445: calling dropout (from tensorflow.python.ops.nn_ops) with keep_prob is deprecated and will be removed in a future version.\n",
      "Instructions for updating:\n",
      "Please use `rate` instead of `keep_prob`. Rate should be set to `rate = 1 - keep_prob`.\n"
     ]
    }
   ],
   "source": [
    "x = Conv2D(filters=32, kernel_size=3, strides=1, padding='same')(cnn_input_layer)\n",
    "x = BatchNormalization()(x)\n",
    "x = LeakyReLU()(x)\n",
    "\n",
    "x = Conv2D(filters=32, kernel_size=3, strides=2, padding='same')(x)\n",
    "x = BatchNormalization()(x)\n",
    "x = LeakyReLU()(x)\n",
    "\n",
    "x = Conv2D(filters=64, kernel_size=3, strides=1, padding='same')(x)\n",
    "x = BatchNormalization()(x)\n",
    "x = LeakyReLU()(x)\n",
    "\n",
    "x = Conv2D(filters=64, kernel_size=3, strides=2, padding='same')(x)\n",
    "x = BatchNormalization()(x)\n",
    "x = LeakyReLU()(x)\n",
    "\n",
    "x = Flatten()(x)\n",
    "\n",
    "x = Dense(units = 128)(x)\n",
    "x = BatchNormalization()(x)\n",
    "x = LeakyReLU()(x)\n",
    "x = Dropout(rate = 0.5)(x)\n",
    "\n",
    "output_layer = Dense(units=NUM_CLASSES, activation='softmax')(x)\n",
    "\n",
    "cnn_model2 = Model(cnn_input_layer, output_layer,)"
   ]
  },
  {
   "cell_type": "code",
   "execution_count": 24,
   "metadata": {},
   "outputs": [
    {
     "name": "stdout",
     "output_type": "stream",
     "text": [
      "_________________________________________________________________\n",
      "Layer (type)                 Output Shape              Param #   \n",
      "=================================================================\n",
      "input_2 (InputLayer)         (None, 32, 32, 3)         0         \n",
      "_________________________________________________________________\n",
      "conv2d_3 (Conv2D)            (None, 32, 32, 32)        896       \n",
      "_________________________________________________________________\n",
      "batch_normalization_1 (Batch (None, 32, 32, 32)        128       \n",
      "_________________________________________________________________\n",
      "leaky_re_lu_1 (LeakyReLU)    (None, 32, 32, 32)        0         \n",
      "_________________________________________________________________\n",
      "conv2d_4 (Conv2D)            (None, 16, 16, 32)        9248      \n",
      "_________________________________________________________________\n",
      "batch_normalization_2 (Batch (None, 16, 16, 32)        128       \n",
      "_________________________________________________________________\n",
      "leaky_re_lu_2 (LeakyReLU)    (None, 16, 16, 32)        0         \n",
      "_________________________________________________________________\n",
      "conv2d_5 (Conv2D)            (None, 16, 16, 64)        18496     \n",
      "_________________________________________________________________\n",
      "batch_normalization_3 (Batch (None, 16, 16, 64)        256       \n",
      "_________________________________________________________________\n",
      "leaky_re_lu_3 (LeakyReLU)    (None, 16, 16, 64)        0         \n",
      "_________________________________________________________________\n",
      "conv2d_6 (Conv2D)            (None, 8, 8, 64)          36928     \n",
      "_________________________________________________________________\n",
      "batch_normalization_4 (Batch (None, 8, 8, 64)          256       \n",
      "_________________________________________________________________\n",
      "leaky_re_lu_4 (LeakyReLU)    (None, 8, 8, 64)          0         \n",
      "_________________________________________________________________\n",
      "flatten_3 (Flatten)          (None, 4096)              0         \n",
      "_________________________________________________________________\n",
      "dense_5 (Dense)              (None, 128)               524416    \n",
      "_________________________________________________________________\n",
      "batch_normalization_5 (Batch (None, 128)               512       \n",
      "_________________________________________________________________\n",
      "leaky_re_lu_5 (LeakyReLU)    (None, 128)               0         \n",
      "_________________________________________________________________\n",
      "dropout_1 (Dropout)          (None, 128)               0         \n",
      "_________________________________________________________________\n",
      "dense_6 (Dense)              (None, 10)                1290      \n",
      "=================================================================\n",
      "Total params: 592,554\n",
      "Trainable params: 591,914\n",
      "Non-trainable params: 640\n",
      "_________________________________________________________________\n"
     ]
    }
   ],
   "source": [
    "cnn_model2.summary()"
   ]
  },
  {
   "cell_type": "code",
   "execution_count": 29,
   "metadata": {},
   "outputs": [],
   "source": [
    "model.compile(optimizer=opt, loss='categorical_crossentropy', metrics=['accuracy'])"
   ]
  },
  {
   "cell_type": "code",
   "execution_count": 30,
   "metadata": {},
   "outputs": [
    {
     "name": "stdout",
     "output_type": "stream",
     "text": [
      "Epoch 1/50\n",
      "50000/50000 [==============================] - 14s 274us/step - loss: 1.3317 - acc: 0.5256\n",
      "Epoch 2/50\n",
      "50000/50000 [==============================] - 13s 269us/step - loss: 1.2368 - acc: 0.5564\n",
      "Epoch 3/50\n",
      "50000/50000 [==============================] - 13s 260us/step - loss: 1.2109 - acc: 0.5687\n",
      "Epoch 4/50\n",
      "50000/50000 [==============================] - 13s 260us/step - loss: 1.1986 - acc: 0.5724\n",
      "Epoch 5/50\n",
      "50000/50000 [==============================] - 13s 259us/step - loss: 1.1889 - acc: 0.5752\n",
      "Epoch 6/50\n",
      "50000/50000 [==============================] - 13s 260us/step - loss: 1.1740 - acc: 0.5805\n",
      "Epoch 7/50\n",
      "50000/50000 [==============================] - 13s 261us/step - loss: 1.1674 - acc: 0.5827\n",
      "Epoch 8/50\n",
      "50000/50000 [==============================] - 13s 259us/step - loss: 1.1572 - acc: 0.5877\n",
      "Epoch 9/50\n",
      "50000/50000 [==============================] - 13s 258us/step - loss: 1.1493 - acc: 0.5900\n",
      "Epoch 10/50\n",
      "50000/50000 [==============================] - 13s 260us/step - loss: 1.1459 - acc: 0.5917\n",
      "Epoch 11/50\n",
      "50000/50000 [==============================] - 13s 258us/step - loss: 1.1364 - acc: 0.5945\n",
      "Epoch 12/50\n",
      "50000/50000 [==============================] - 13s 259us/step - loss: 1.1269 - acc: 0.5977\n",
      "Epoch 13/50\n",
      "50000/50000 [==============================] - 13s 266us/step - loss: 1.1197 - acc: 0.6009\n",
      "Epoch 14/50\n",
      "50000/50000 [==============================] - 13s 263us/step - loss: 1.1097 - acc: 0.6037\n",
      "Epoch 15/50\n",
      "50000/50000 [==============================] - 13s 258us/step - loss: 1.1065 - acc: 0.6039\n",
      "Epoch 16/50\n",
      "50000/50000 [==============================] - 13s 258us/step - loss: 1.0984 - acc: 0.6084\n",
      "Epoch 17/50\n",
      "50000/50000 [==============================] - 13s 257us/step - loss: 1.0947 - acc: 0.6093\n",
      "Epoch 18/50\n",
      "50000/50000 [==============================] - 13s 257us/step - loss: 1.0891 - acc: 0.6125\n",
      "Epoch 19/50\n",
      "50000/50000 [==============================] - 13s 258us/step - loss: 1.0825 - acc: 0.6129\n",
      "Epoch 20/50\n",
      "50000/50000 [==============================] - 13s 257us/step - loss: 1.0767 - acc: 0.6156\n",
      "Epoch 21/50\n",
      "50000/50000 [==============================] - 13s 258us/step - loss: 1.0692 - acc: 0.6198\n",
      "Epoch 22/50\n",
      "50000/50000 [==============================] - 13s 259us/step - loss: 1.0660 - acc: 0.6191\n",
      "Epoch 23/50\n",
      "50000/50000 [==============================] - 13s 259us/step - loss: 1.0571 - acc: 0.6238\n",
      "Epoch 24/50\n",
      "50000/50000 [==============================] - 13s 259us/step - loss: 1.0561 - acc: 0.6221\n",
      "Epoch 25/50\n",
      "50000/50000 [==============================] - 13s 259us/step - loss: 1.0521 - acc: 0.6244\n",
      "Epoch 26/50\n",
      "50000/50000 [==============================] - 13s 259us/step - loss: 1.0404 - acc: 0.6293\n",
      "Epoch 27/50\n",
      "50000/50000 [==============================] - 13s 261us/step - loss: 1.0369 - acc: 0.6319\n",
      "Epoch 28/50\n",
      "50000/50000 [==============================] - 13s 259us/step - loss: 1.0357 - acc: 0.6301\n",
      "Epoch 29/50\n",
      "50000/50000 [==============================] - 13s 269us/step - loss: 1.0271 - acc: 0.6363\n",
      "Epoch 30/50\n",
      "50000/50000 [==============================] - 14s 273us/step - loss: 1.0246 - acc: 0.6337\n",
      "Epoch 31/50\n",
      "50000/50000 [==============================] - 14s 271us/step - loss: 1.0186 - acc: 0.6366\n",
      "Epoch 32/50\n",
      "50000/50000 [==============================] - 13s 262us/step - loss: 1.0110 - acc: 0.6384\n",
      "Epoch 33/50\n",
      "50000/50000 [==============================] - 14s 270us/step - loss: 1.0068 - acc: 0.6422\n",
      "Epoch 34/50\n",
      "50000/50000 [==============================] - 14s 273us/step - loss: 1.0054 - acc: 0.6414\n",
      "Epoch 35/50\n",
      "50000/50000 [==============================] - 13s 268us/step - loss: 1.0028 - acc: 0.6393\n",
      "Epoch 36/50\n",
      "50000/50000 [==============================] - 13s 264us/step - loss: 0.9957 - acc: 0.6441\n",
      "Epoch 37/50\n",
      "50000/50000 [==============================] - 13s 263us/step - loss: 0.9938 - acc: 0.6436\n",
      "Epoch 38/50\n",
      "50000/50000 [==============================] - 13s 263us/step - loss: 0.9873 - acc: 0.6475\n",
      "Epoch 39/50\n",
      "50000/50000 [==============================] - 13s 263us/step - loss: 0.9831 - acc: 0.6491\n",
      "Epoch 40/50\n",
      "50000/50000 [==============================] - 13s 263us/step - loss: 0.9769 - acc: 0.6504\n",
      "Epoch 41/50\n",
      "50000/50000 [==============================] - 13s 263us/step - loss: 0.9711 - acc: 0.6526\n",
      "Epoch 42/50\n",
      "50000/50000 [==============================] - 13s 265us/step - loss: 0.9689 - acc: 0.6527\n",
      "Epoch 43/50\n",
      "50000/50000 [==============================] - 13s 264us/step - loss: 0.9674 - acc: 0.6544\n",
      "Epoch 44/50\n",
      "50000/50000 [==============================] - 13s 266us/step - loss: 0.9661 - acc: 0.6558\n",
      "Epoch 45/50\n",
      "50000/50000 [==============================] - 13s 260us/step - loss: 0.9558 - acc: 0.6592\n",
      "Epoch 46/50\n",
      "50000/50000 [==============================] - 13s 259us/step - loss: 0.9568 - acc: 0.6566\n",
      "Epoch 47/50\n",
      "50000/50000 [==============================] - 13s 259us/step - loss: 0.9464 - acc: 0.6608\n",
      "Epoch 48/50\n",
      "50000/50000 [==============================] - 13s 261us/step - loss: 0.9486 - acc: 0.6588\n",
      "Epoch 49/50\n",
      "50000/50000 [==============================] - 13s 261us/step - loss: 0.9448 - acc: 0.6617\n",
      "Epoch 50/50\n",
      "50000/50000 [==============================] - 13s 263us/step - loss: 0.9359 - acc: 0.6648\n"
     ]
    },
    {
     "data": {
      "text/plain": [
       "<keras.callbacks.History at 0x233d9652c88>"
      ]
     },
     "execution_count": 30,
     "metadata": {},
     "output_type": "execute_result"
    }
   ],
   "source": [
    "model.fit(x=x_train, y=y_train, batch_size=32, epochs=50)"
   ]
  },
  {
   "cell_type": "code",
   "execution_count": 40,
   "metadata": {},
   "outputs": [
    {
     "name": "stdout",
     "output_type": "stream",
     "text": [
      "10000/10000 [==============================] - 1s 84us/step\n"
     ]
    },
    {
     "data": {
      "text/plain": [
       "[1.8539651086807252, 0.4936]"
      ]
     },
     "execution_count": 40,
     "metadata": {},
     "output_type": "execute_result"
    }
   ],
   "source": [
    "model.evaluate(x = x_test, y = y_test)"
   ]
  },
  {
   "cell_type": "code",
   "execution_count": 41,
   "metadata": {},
   "outputs": [],
   "source": [
    "preds = model.predict(x_test)\n",
    "preds_single = CLASSES[np.argmax(preds, axis = -1)]\n",
    "actual_single = CLASSES[np.argmax(y_test, axis = -1)]"
   ]
  },
  {
   "cell_type": "code",
   "execution_count": 42,
   "metadata": {},
   "outputs": [
    {
     "data": {
      "image/png": "[encoded data removed]",
      "text/plain": [
       "<Figure size 1080x216 with 10 Axes>"
      ]
     },
     "metadata": {
      "needs_background": "light"
     },
     "output_type": "display_data"
    }
   ],
   "source": [
    "n_to_show = 10\n",
    "indices = np.random.choice(range(len(x_test)), n_to_show)\n",
    "\n",
    "fig = plt.figure(figsize=(15,3))\n",
    "fig.subplots_adjust(hspace=0.4, wspace=0.4)\n",
    "\n",
    "for i, idx in enumerate(indices):\n",
    "    img = x_test[idx]\n",
    "    ax = fig.add_subplot(1, n_to_show, i+1)\n",
    "    ax.axis('off')\n",
    "    ax.text(0.5, -0.35, 'pred = '+str(preds_single[idx]), fontsize=10, ha='center', transform=ax.transAxes)\n",
    "    ax.text(0.5, -0.7, 'act = '+str(actual_single[idx]), fontsize=10, ha='center', transform=ax.transAxes)\n",
    "    ax.imshow(img)"
   ]
  },
  {
   "cell_type": "code",
   "execution_count": 37,
   "metadata": {},
   "outputs": [
    {
     "name": "stdout",
     "output_type": "stream",
     "text": [
      "Epoch 1/50\n",
      "50000/50000 [==============================] - 13s 260us/step - loss: 0.9361 - acc: 0.6647\n",
      "Epoch 2/50\n",
      "50000/50000 [==============================] - 13s 259us/step - loss: 0.9364 - acc: 0.6659\n",
      "Epoch 3/50\n",
      "50000/50000 [==============================] - 13s 261us/step - loss: 0.9275 - acc: 0.6685\n",
      "Epoch 4/50\n",
      "50000/50000 [==============================] - 13s 259us/step - loss: 0.9259 - acc: 0.6685\n",
      "Epoch 5/50\n",
      "50000/50000 [==============================] - 13s 259us/step - loss: 0.9206 - acc: 0.6709\n",
      "Epoch 6/50\n",
      "50000/50000 [==============================] - 13s 264us/step - loss: 0.9163 - acc: 0.6720\n",
      "Epoch 7/50\n",
      "50000/50000 [==============================] - 13s 255us/step - loss: 0.9097 - acc: 0.6739\n",
      "Epoch 8/50\n",
      "50000/50000 [==============================] - 13s 253us/step - loss: 0.9077 - acc: 0.6736\n",
      "Epoch 9/50\n",
      "50000/50000 [==============================] - 13s 253us/step - loss: 0.9060 - acc: 0.6764\n",
      "Epoch 10/50\n",
      "50000/50000 [==============================] - 13s 253us/step - loss: 0.9053 - acc: 0.6757\n",
      "Epoch 11/50\n",
      "50000/50000 [==============================] - 13s 261us/step - loss: 0.8997 - acc: 0.6771\n",
      "Epoch 12/50\n",
      "50000/50000 [==============================] - 14s 275us/step - loss: 0.8998 - acc: 0.6781\n",
      "Epoch 13/50\n",
      "50000/50000 [==============================] - 15s 291us/step - loss: 0.8965 - acc: 0.67841s - loss\n",
      "Epoch 14/50\n",
      "50000/50000 [==============================] - 13s 267us/step - loss: 0.8952 - acc: 0.6791\n",
      "Epoch 15/50\n",
      "50000/50000 [==============================] - 13s 258us/step - loss: 0.8897 - acc: 0.6820\n",
      "Epoch 16/50\n",
      "50000/50000 [==============================] - 13s 258us/step - loss: 0.8905 - acc: 0.6809\n",
      "Epoch 17/50\n",
      "50000/50000 [==============================] - 13s 259us/step - loss: 0.8824 - acc: 0.6839\n",
      "Epoch 18/50\n",
      "50000/50000 [==============================] - 13s 257us/step - loss: 0.8832 - acc: 0.6837\n",
      "Epoch 19/50\n",
      "50000/50000 [==============================] - 13s 256us/step - loss: 0.8756 - acc: 0.6866\n",
      "Epoch 20/50\n",
      "50000/50000 [==============================] - 14s 271us/step - loss: 0.8721 - acc: 0.6866\n",
      "Epoch 21/50\n",
      "50000/50000 [==============================] - 13s 270us/step - loss: 0.8721 - acc: 0.6904\n",
      "Epoch 22/50\n",
      "50000/50000 [==============================] - 14s 275us/step - loss: 0.8712 - acc: 0.6876\n",
      "Epoch 23/50\n",
      "50000/50000 [==============================] - 14s 271us/step - loss: 0.8632 - acc: 0.6868\n",
      "Epoch 24/50\n",
      "50000/50000 [==============================] - 14s 272us/step - loss: 0.8582 - acc: 0.6930\n",
      "Epoch 25/50\n",
      "50000/50000 [==============================] - 13s 269us/step - loss: 0.8605 - acc: 0.6913\n",
      "Epoch 26/50\n",
      "50000/50000 [==============================] - 13s 256us/step - loss: 0.8577 - acc: 0.6921\n",
      "Epoch 27/50\n",
      "50000/50000 [==============================] - 13s 254us/step - loss: 0.8519 - acc: 0.6943\n",
      "Epoch 28/50\n",
      "50000/50000 [==============================] - 13s 255us/step - loss: 0.8546 - acc: 0.6931\n",
      "Epoch 29/50\n",
      "50000/50000 [==============================] - 13s 253us/step - loss: 0.8450 - acc: 0.6964\n",
      "Epoch 30/50\n",
      "50000/50000 [==============================] - 13s 252us/step - loss: 0.8472 - acc: 0.6981\n",
      "Epoch 31/50\n",
      "50000/50000 [==============================] - 14s 280us/step - loss: 0.8466 - acc: 0.6959\n",
      "Epoch 32/50\n",
      "50000/50000 [==============================] - 14s 270us/step - loss: 0.8382 - acc: 0.6995\n",
      "Epoch 33/50\n",
      "50000/50000 [==============================] - 14s 272us/step - loss: 0.8349 - acc: 0.7000\n",
      "Epoch 34/50\n",
      "50000/50000 [==============================] - 13s 268us/step - loss: 0.8355 - acc: 0.6996\n",
      "Epoch 35/50\n",
      "50000/50000 [==============================] - 13s 260us/step - loss: 0.8342 - acc: 0.6985\n",
      "Epoch 36/50\n",
      "50000/50000 [==============================] - 13s 266us/step - loss: 0.8317 - acc: 0.6995\n",
      "Epoch 37/50\n",
      "50000/50000 [==============================] - 13s 253us/step - loss: 0.8261 - acc: 0.7030\n",
      "Epoch 38/50\n",
      "50000/50000 [==============================] - 13s 251us/step - loss: 0.8255 - acc: 0.7037\n",
      "Epoch 39/50\n",
      "50000/50000 [==============================] - 13s 255us/step - loss: 0.8265 - acc: 0.7036\n",
      "Epoch 40/50\n",
      "50000/50000 [==============================] - 13s 270us/step - loss: 0.8202 - acc: 0.7080\n",
      "Epoch 41/50\n",
      "50000/50000 [==============================] - 13s 269us/step - loss: 0.8200 - acc: 0.7049\n",
      "Epoch 42/50\n",
      "50000/50000 [==============================] - 14s 277us/step - loss: 0.8132 - acc: 0.7076\n",
      "Epoch 43/50\n",
      "50000/50000 [==============================] - 13s 253us/step - loss: 0.8143 - acc: 0.7071\n",
      "Epoch 44/50\n",
      "50000/50000 [==============================] - 14s 279us/step - loss: 0.8063 - acc: 0.7094\n",
      "Epoch 45/50\n",
      "50000/50000 [==============================] - 14s 287us/step - loss: 0.8120 - acc: 0.7077\n",
      "Epoch 46/50\n",
      "50000/50000 [==============================] - 13s 268us/step - loss: 0.8050 - acc: 0.7110\n",
      "Epoch 47/50\n",
      "50000/50000 [==============================] - 13s 266us/step - loss: 0.8006 - acc: 0.7134\n",
      "Epoch 48/50\n",
      "50000/50000 [==============================] - 13s 255us/step - loss: 0.8030 - acc: 0.7112\n",
      "Epoch 49/50\n",
      "50000/50000 [==============================] - 13s 257us/step - loss: 0.7978 - acc: 0.7134\n",
      "Epoch 50/50\n",
      "50000/50000 [==============================] - 13s 252us/step - loss: 0.7999 - acc: 0.7125\n"
     ]
    },
    {
     "data": {
      "text/plain": [
       "<keras.callbacks.History at 0x233e1c8d080>"
      ]
     },
     "execution_count": 37,
     "metadata": {},
     "output_type": "execute_result"
    }
   ],
   "source": [
    "model.fit(x=x_train, y=y_train, batch_size=32, epochs=50)"
   ]
  },
  {
   "cell_type": "code",
   "execution_count": null,
   "metadata": {},
   "outputs": [],
   "source": []
  }
 ],
 "metadata": {
  "kernelspec": {
   "display_name": "Python 3",
   "language": "python",
   "name": "python3"
  },
  "language_info": {
   "codemirror_mode": {
    "name": "ipython",
    "version": 3
   },
   "file_extension": ".py",
   "mimetype": "text/x-python",
   "name": "python",
   "nbconvert_exporter": "python",
   "pygments_lexer": "ipython3",
   "version": "3.6.10"
  }
 },
 "nbformat": 4,
 "nbformat_minor": 2
}
