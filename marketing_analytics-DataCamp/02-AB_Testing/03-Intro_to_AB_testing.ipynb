{
 "cells": [
  {
   "cell_type": "code",
   "execution_count": 1,
   "metadata": {},
   "outputs": [],
   "source": [
    "import pandas as pd\n",
    "import numpy as np\n",
    "import matplotlib.pyplot as plt"
   ]
  },
  {
   "cell_type": "code",
   "execution_count": 6,
   "metadata": {},
   "outputs": [
    {
     "name": "stdout",
     "output_type": "stream",
     "text": [
      "        date       uid            sku  price              reg_date device  \\\n",
      "0 2017-07-10  41195147  sku_three_499    499  2017-06-26T00:00:00Z    and   \n",
      "1 2017-07-15  41195147  sku_three_499    499  2017-06-26T00:00:00Z    and   \n",
      "2 2017-11-12  41195147   sku_four_599    599  2017-06-26T00:00:00Z    and   \n",
      "3 2017-09-26  91591874    sku_two_299    299  2017-01-05T00:00:00Z    and   \n",
      "4 2017-12-01  91591874   sku_four_599    599  2017-01-05T00:00:00Z    and   \n",
      "\n",
      "  gender country  age  \n",
      "0      M     BRA   17  \n",
      "1      M     BRA   17  \n",
      "2      M     BRA   17  \n",
      "3      M     TUR   17  \n",
      "4      M     TUR   17  \n"
     ]
    }
   ],
   "source": [
    "p_d = pd.read_csv('../DATASETS/purchase_data_v1.csv')\n",
    "u_demo = pd.read_csv('../DATASETS/user_demographics_v1.csv')\n",
    "\n",
    "purchase_data = pd.merge(p_d, u_demo, on='uid', how='inner')\n",
    "purchase_data.date = pd.to_datetime(purchase_data.date)\n",
    "print(purchase_data.head())"
   ]
  },
  {
   "cell_type": "code",
   "execution_count": 7,
   "metadata": {},
   "outputs": [],
   "source": [
    "#converting to date to day\n",
    "purchase_data.date = purchase_data.date.dt.floor('d')"
   ]
  },
  {
   "cell_type": "code",
   "execution_count": 9,
   "metadata": {},
   "outputs": [],
   "source": [
    "#replacing nan\n",
    "purchase_data.price = np.where(np.isnan(purchase_data.price), 0,purchase_data.price)"
   ]
  },
  {
   "cell_type": "code",
   "execution_count": 14,
   "metadata": {},
   "outputs": [
    {
     "name": "stdout",
     "output_type": "stream",
     "text": [
      "407.95033407572384\n"
     ]
    }
   ],
   "source": [
    "#getting average revenue per user per day\n",
    "purchase_data_agg = purchase_data.groupby(by=['uid', 'date'], as_index=False)\n",
    "revenue_user_day = purchase_data_agg.sum().price.mean()\n",
    "print(revenue_user_day)"
   ]
  },
  {
   "cell_type": "raw",
   "metadata": {},
   "source": []
  }
 ],
 "metadata": {
  "kernelspec": {
   "display_name": "Python 3",
   "language": "python",
   "name": "python3"
  },
  "language_info": {
   "codemirror_mode": {
    "name": "ipython",
    "version": 3
   },
   "file_extension": ".py",
   "mimetype": "text/x-python",
   "name": "python",
   "nbconvert_exporter": "python",
   "pygments_lexer": "ipython3",
   "version": "3.6.10"
  }
 },
 "nbformat": 4,
 "nbformat_minor": 4
}
