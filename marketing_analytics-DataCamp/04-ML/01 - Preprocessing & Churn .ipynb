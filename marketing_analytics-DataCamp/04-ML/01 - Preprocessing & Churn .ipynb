{
 "cells": [
  {
   "cell_type": "code",
   "execution_count": 1,
   "metadata": {},
   "outputs": [],
   "source": [
    "import pandas as pd\n",
    "import numpy as np"
   ]
  },
  {
   "cell_type": "code",
   "execution_count": 2,
   "metadata": {},
   "outputs": [
    {
     "name": "stdout",
     "output_type": "stream",
     "text": [
      "   customerID  gender  SeniorCitizen Partner Dependents  tenure PhoneService  \\\n",
      "0  7590-VHVEG  Female              0     Yes         No       1           No   \n",
      "1  5575-GNVDE    Male              0      No         No      34          Yes   \n",
      "2  3668-QPYBK    Male              0      No         No       2          Yes   \n",
      "3  7795-CFOCW    Male              0      No         No      45           No   \n",
      "4  9237-HQITU  Female              0      No         No       2          Yes   \n",
      "\n",
      "      MultipleLines InternetService OnlineSecurity  ... DeviceProtection  \\\n",
      "0  No phone service             DSL             No  ...               No   \n",
      "1                No             DSL            Yes  ...              Yes   \n",
      "2                No             DSL            Yes  ...               No   \n",
      "3  No phone service             DSL            Yes  ...              Yes   \n",
      "4                No     Fiber optic             No  ...               No   \n",
      "\n",
      "  TechSupport StreamingTV StreamingMovies        Contract PaperlessBilling  \\\n",
      "0          No          No              No  Month-to-month              Yes   \n",
      "1          No          No              No        One year               No   \n",
      "2          No          No              No  Month-to-month              Yes   \n",
      "3         Yes          No              No        One year               No   \n",
      "4          No          No              No  Month-to-month              Yes   \n",
      "\n",
      "               PaymentMethod MonthlyCharges  TotalCharges Churn  \n",
      "0           Electronic check          29.85         29.85    No  \n",
      "1               Mailed check          56.95        1889.5    No  \n",
      "2               Mailed check          53.85        108.15   Yes  \n",
      "3  Bank transfer (automatic)          42.30       1840.75    No  \n",
      "4           Electronic check          70.70        151.65   Yes  \n",
      "\n",
      "[5 rows x 21 columns]\n"
     ]
    }
   ],
   "source": [
    "telco_raw = pd.read_csv('../DATASETS/part4/telco.csv')\n",
    "print(telco_raw.head())"
   ]
  },
  {
   "cell_type": "code",
   "execution_count": 3,
   "metadata": {},
   "outputs": [],
   "source": [
    "#telco_raw['TotalCharges'] = telco_raw['TotalCharges'].str.replace(' ', '0')\n",
    "telco_raw['TotalCharges'] = telco_raw['TotalCharges'].replace(r'^\\s*$', np.nan, regex=True)"
   ]
  },
  {
   "cell_type": "code",
   "execution_count": 4,
   "metadata": {},
   "outputs": [],
   "source": [
    "telco_raw['TotalCharges'] =telco_raw['TotalCharges'].astype(float)"
   ]
  },
  {
   "cell_type": "code",
   "execution_count": 5,
   "metadata": {},
   "outputs": [],
   "source": [
    "telco_raw.dropna(inplace=True)"
   ]
  },
  {
   "cell_type": "code",
   "execution_count": 6,
   "metadata": {},
   "outputs": [],
   "source": [
    "# Store customerID and Churn column names\n",
    "custid = ['customerID']\n",
    "target = ['Churn']\n",
    "\n",
    "# Store categorical column names\n",
    "categorical = telco_raw.nunique()[telco_raw.nunique() < 5].keys().tolist()\n",
    "\n",
    "# Remove target from the list of categorical variables\n",
    "categorical.remove(target[0])\n",
    "\n",
    "# Store numerical column names\n",
    "numerical = [x for x in telco_raw.columns if x not in custid + target + categorical]"
   ]
  },
  {
   "cell_type": "code",
   "execution_count": 7,
   "metadata": {},
   "outputs": [
    {
     "name": "stdout",
     "output_type": "stream",
     "text": [
      "['gender', 'SeniorCitizen', 'Partner', 'Dependents', 'PhoneService', 'MultipleLines', 'InternetService', 'OnlineSecurity', 'OnlineBackup', 'DeviceProtection', 'TechSupport', 'StreamingTV', 'StreamingMovies', 'Contract', 'PaperlessBilling', 'PaymentMethod']\n"
     ]
    }
   ],
   "source": [
    "print(categorical)"
   ]
  },
  {
   "cell_type": "code",
   "execution_count": 8,
   "metadata": {},
   "outputs": [
    {
     "name": "stdout",
     "output_type": "stream",
     "text": [
      "['tenure', 'MonthlyCharges', 'TotalCharges']\n"
     ]
    }
   ],
   "source": [
    "print(numerical)"
   ]
  },
  {
   "cell_type": "code",
   "execution_count": 9,
   "metadata": {},
   "outputs": [],
   "source": [
    "from sklearn.preprocessing import StandardScaler"
   ]
  },
  {
   "cell_type": "code",
   "execution_count": 10,
   "metadata": {},
   "outputs": [
    {
     "name": "stdout",
     "output_type": "stream",
     "text": [
      "   customerID  tenure  MonthlyCharges  TotalCharges Churn  gender_Male  \\\n",
      "0  7590-VHVEG       1           29.85         29.85    No            0   \n",
      "1  5575-GNVDE      34           56.95       1889.50    No            1   \n",
      "2  3668-QPYBK       2           53.85        108.15   Yes            1   \n",
      "3  7795-CFOCW      45           42.30       1840.75    No            1   \n",
      "4  9237-HQITU       2           70.70        151.65   Yes            0   \n",
      "\n",
      "   SeniorCitizen_1  Partner_Yes  Dependents_Yes  PhoneService_Yes  ...  \\\n",
      "0                0            1               0                 0  ...   \n",
      "1                0            0               0                 1  ...   \n",
      "2                0            0               0                 1  ...   \n",
      "3                0            0               0                 0  ...   \n",
      "4                0            0               0                 1  ...   \n",
      "\n",
      "   StreamingTV_No internet service  StreamingTV_Yes  \\\n",
      "0                                0                0   \n",
      "1                                0                0   \n",
      "2                                0                0   \n",
      "3                                0                0   \n",
      "4                                0                0   \n",
      "\n",
      "   StreamingMovies_No internet service  StreamingMovies_Yes  \\\n",
      "0                                    0                    0   \n",
      "1                                    0                    0   \n",
      "2                                    0                    0   \n",
      "3                                    0                    0   \n",
      "4                                    0                    0   \n",
      "\n",
      "   Contract_One year  Contract_Two year  PaperlessBilling_Yes  \\\n",
      "0                  0                  0                     1   \n",
      "1                  1                  0                     0   \n",
      "2                  0                  0                     1   \n",
      "3                  1                  0                     0   \n",
      "4                  0                  0                     1   \n",
      "\n",
      "   PaymentMethod_Credit card (automatic)  PaymentMethod_Electronic check  \\\n",
      "0                                      0                               1   \n",
      "1                                      0                               0   \n",
      "2                                      0                               0   \n",
      "3                                      0                               0   \n",
      "4                                      0                               1   \n",
      "\n",
      "   PaymentMethod_Mailed check  \n",
      "0                           0  \n",
      "1                           1  \n",
      "2                           1  \n",
      "3                           0  \n",
      "4                           0  \n",
      "\n",
      "[5 rows x 32 columns]\n"
     ]
    }
   ],
   "source": [
    "# Perform one-hot encoding to categorical variables \n",
    "telco_raw = pd.get_dummies(data = telco_raw, columns = categorical, drop_first=True)\n",
    "print(telco_raw.head())"
   ]
  },
  {
   "cell_type": "code",
   "execution_count": 11,
   "metadata": {},
   "outputs": [],
   "source": [
    "# Initialize StandardScaler instance\n",
    "scaler = StandardScaler()\n",
    "\n",
    "# Fit and transform the scaler on numerical columns\n",
    "scaled_numerical = scaler.fit_transform(telco_raw[numerical])"
   ]
  },
  {
   "cell_type": "code",
   "execution_count": 12,
   "metadata": {},
   "outputs": [],
   "source": [
    "# Build a DataFrame from scaled_numerical\n",
    "scaled_numerical = pd.DataFrame(scaled_numerical, columns=numerical)"
   ]
  },
  {
   "cell_type": "code",
   "execution_count": 13,
   "metadata": {},
   "outputs": [
    {
     "data": {
      "text/html": [
       "<div>\n",
       "<style scoped>\n",
       "    .dataframe tbody tr th:only-of-type {\n",
       "        vertical-align: middle;\n",
       "    }\n",
       "\n",
       "    .dataframe tbody tr th {\n",
       "        vertical-align: top;\n",
       "    }\n",
       "\n",
       "    .dataframe thead th {\n",
       "        text-align: right;\n",
       "    }\n",
       "</style>\n",
       "<table border=\"1\" class=\"dataframe\">\n",
       "  <thead>\n",
       "    <tr style=\"text-align: right;\">\n",
       "      <th></th>\n",
       "      <th>tenure</th>\n",
       "      <th>MonthlyCharges</th>\n",
       "      <th>TotalCharges</th>\n",
       "    </tr>\n",
       "  </thead>\n",
       "  <tbody>\n",
       "    <tr>\n",
       "      <th>0</th>\n",
       "      <td>-1.280248</td>\n",
       "      <td>-1.161694</td>\n",
       "      <td>-0.994194</td>\n",
       "    </tr>\n",
       "    <tr>\n",
       "      <th>1</th>\n",
       "      <td>0.064303</td>\n",
       "      <td>-0.260878</td>\n",
       "      <td>-0.173740</td>\n",
       "    </tr>\n",
       "    <tr>\n",
       "      <th>2</th>\n",
       "      <td>-1.239504</td>\n",
       "      <td>-0.363923</td>\n",
       "      <td>-0.959649</td>\n",
       "    </tr>\n",
       "    <tr>\n",
       "      <th>3</th>\n",
       "      <td>0.512486</td>\n",
       "      <td>-0.747850</td>\n",
       "      <td>-0.195248</td>\n",
       "    </tr>\n",
       "    <tr>\n",
       "      <th>4</th>\n",
       "      <td>-1.239504</td>\n",
       "      <td>0.196178</td>\n",
       "      <td>-0.940457</td>\n",
       "    </tr>\n",
       "  </tbody>\n",
       "</table>\n",
       "</div>"
      ],
      "text/plain": [
       "     tenure  MonthlyCharges  TotalCharges\n",
       "0 -1.280248       -1.161694     -0.994194\n",
       "1  0.064303       -0.260878     -0.173740\n",
       "2 -1.239504       -0.363923     -0.959649\n",
       "3  0.512486       -0.747850     -0.195248\n",
       "4 -1.239504        0.196178     -0.940457"
      ]
     },
     "execution_count": 13,
     "metadata": {},
     "output_type": "execute_result"
    }
   ],
   "source": [
    "scaled_numerical.head()"
   ]
  },
  {
   "cell_type": "code",
   "execution_count": 14,
   "metadata": {},
   "outputs": [],
   "source": [
    "telco_raw = pd.get_dummies(data = telco_raw, columns = target, drop_first=True)\n"
   ]
  },
  {
   "cell_type": "code",
   "execution_count": 15,
   "metadata": {},
   "outputs": [
    {
     "name": "stdout",
     "output_type": "stream",
     "text": [
      "   customerID    tenure  MonthlyCharges  TotalCharges  gender_Male  \\\n",
      "0  7590-VHVEG -1.280248       -1.161694     -0.994194            0   \n",
      "1  5575-GNVDE  0.064303       -0.260878     -0.173740            1   \n",
      "2  3668-QPYBK -1.239504       -0.363923     -0.959649            1   \n",
      "3  7795-CFOCW  0.512486       -0.747850     -0.195248            1   \n",
      "4  9237-HQITU -1.239504        0.196178     -0.940457            0   \n",
      "\n",
      "   SeniorCitizen_1  Partner_Yes  Dependents_Yes  PhoneService_Yes  \\\n",
      "0                0            1               0                 0   \n",
      "1                0            0               0                 1   \n",
      "2                0            0               0                 1   \n",
      "3                0            0               0                 0   \n",
      "4                0            0               0                 1   \n",
      "\n",
      "   MultipleLines_No phone service  ...  StreamingTV_Yes  \\\n",
      "0                               1  ...                0   \n",
      "1                               0  ...                0   \n",
      "2                               0  ...                0   \n",
      "3                               1  ...                0   \n",
      "4                               0  ...                0   \n",
      "\n",
      "   StreamingMovies_No internet service  StreamingMovies_Yes  \\\n",
      "0                                    0                    0   \n",
      "1                                    0                    0   \n",
      "2                                    0                    0   \n",
      "3                                    0                    0   \n",
      "4                                    0                    0   \n",
      "\n",
      "   Contract_One year  Contract_Two year  PaperlessBilling_Yes  \\\n",
      "0                  0                  0                     1   \n",
      "1                  1                  0                     0   \n",
      "2                  0                  0                     1   \n",
      "3                  1                  0                     0   \n",
      "4                  0                  0                     1   \n",
      "\n",
      "   PaymentMethod_Credit card (automatic)  PaymentMethod_Electronic check  \\\n",
      "0                                      0                               1   \n",
      "1                                      0                               0   \n",
      "2                                      0                               0   \n",
      "3                                      0                               0   \n",
      "4                                      0                               1   \n",
      "\n",
      "   PaymentMethod_Mailed check  Churn_Yes  \n",
      "0                           0          0  \n",
      "1                           1          0  \n",
      "2                           1          1  \n",
      "3                           0          0  \n",
      "4                           0          1  \n",
      "\n",
      "[5 rows x 32 columns]\n"
     ]
    }
   ],
   "source": [
    "telcom = telco_raw\n",
    "telcom[numerical] = scaled_numerical\n",
    "telcom.dropna(inplace = True)\n",
    "print(telcom.head())"
   ]
  },
  {
   "cell_type": "markdown",
   "metadata": {},
   "source": [
    "# churn prediction"
   ]
  },
  {
   "cell_type": "code",
   "execution_count": 16,
   "metadata": {},
   "outputs": [
    {
     "name": "stdout",
     "output_type": "stream",
     "text": [
      "{0, 1}\n",
      "Churn\n",
      "0    73.422589\n",
      "1    26.577411\n",
      "dtype: float64\n"
     ]
    }
   ],
   "source": [
    "telcom.rename(columns={'Churn_Yes':'Churn'}, inplace=True)\n",
    "\n",
    "# Print the unique Churn values\n",
    "print(set(telcom['Churn']))\n",
    "\n",
    "# Calculate the ratio size of each churn group\n",
    "print(telcom.groupby(['Churn']).size() / telcom.shape[0] * 100)\n",
    "\n",
    "# Import the function for splitting data to train and test\n",
    "from sklearn.model_selection import train_test_split\n",
    "\n",
    "# Split the data into train and test\n",
    "train, test = train_test_split(telcom, test_size = .25)"
   ]
  },
  {
   "cell_type": "markdown",
   "metadata": {},
   "source": [
    "general consensus when assessing class ration is at least one class constitute 5% of data"
   ]
  },
  {
   "cell_type": "code",
   "execution_count": 17,
   "metadata": {},
   "outputs": [],
   "source": [
    "# Store column names from `telcom` excluding target variable and customer ID\n",
    "cols = [col for col in telcom.columns if col not in custid + target]\n",
    "\n",
    "# Extract training features\n",
    "train_X = train[cols].values\n",
    "\n",
    "# Extract training target\n",
    "train_Y = train[target].values.ravel()\n",
    "\n",
    "# Extract testing features\n",
    "test_X = test[cols].values\n",
    "\n",
    "# Extract testing target\n",
    "test_Y = test[target].values.ravel()"
   ]
  },
  {
   "cell_type": "code",
   "execution_count": 18,
   "metadata": {},
   "outputs": [
    {
     "data": {
      "text/plain": [
       "numpy.ndarray"
      ]
     },
     "execution_count": 18,
     "metadata": {},
     "output_type": "execute_result"
    }
   ],
   "source": [
    "type(train_Y)"
   ]
  },
  {
   "cell_type": "code",
   "execution_count": 19,
   "metadata": {},
   "outputs": [],
   "source": [
    "from sklearn.linear_model import LogisticRegression\n",
    "from sklearn.metrics import accuracy_score, recall_score"
   ]
  },
  {
   "cell_type": "code",
   "execution_count": 20,
   "metadata": {},
   "outputs": [
    {
     "data": {
      "text/plain": [
       "LogisticRegression(C=1.0, class_weight=None, dual=False, fit_intercept=True,\n",
       "                   intercept_scaling=1, l1_ratio=None, max_iter=100,\n",
       "                   multi_class='auto', n_jobs=None, penalty='l2',\n",
       "                   random_state=None, solver='lbfgs', tol=0.0001, verbose=0,\n",
       "                   warm_start=False)"
      ]
     },
     "execution_count": 20,
     "metadata": {},
     "output_type": "execute_result"
    }
   ],
   "source": [
    "logreg = LogisticRegression()\n",
    "\n",
    "logreg.fit(train_X, train_Y)"
   ]
  },
  {
   "cell_type": "code",
   "execution_count": 21,
   "metadata": {},
   "outputs": [
    {
     "name": "stdout",
     "output_type": "stream",
     "text": [
      "Test accuracy: 0.7904\n"
     ]
    }
   ],
   "source": [
    "pred_test_Y = logreg.predict(test_X)\n",
    "\n",
    "# Calculate accuracy score on testing data\n",
    "test_accuracy = accuracy_score(test_Y, pred_test_Y)\n",
    "\n",
    "# Print test accuracy score rounded to 4 decimals\n",
    "print('Test accuracy:', round(test_accuracy, 4))"
   ]
  },
  {
   "cell_type": "code",
   "execution_count": 22,
   "metadata": {},
   "outputs": [
    {
     "name": "stdout",
     "output_type": "stream",
     "text": [
      "Test accuracy:a 0.7825\n"
     ]
    }
   ],
   "source": [
    "# Initialize logistic regression instance \n",
    "logreg = LogisticRegression(penalty='l1', C=0.025, solver='liblinear')\n",
    "\n",
    "# Fit the model on training data\n",
    "logreg.fit(train_X, train_Y)\n",
    "\n",
    "# Predict churn values on test data\n",
    "pred_test_Y = logreg.predict(test_X)\n",
    "\n",
    "# Print the accuracy score on test data\n",
    "print('Test accuracy:a', round(accuracy_score(test_Y, pred_test_Y), 4))"
   ]
  },
  {
   "cell_type": "code",
   "execution_count": 23,
   "metadata": {},
   "outputs": [],
   "source": [
    "C = [1, 0.5, 0.25, 0.1, 0.05, 0.025, 0.01, 0.005, 0.0025]\n",
    "col_names =['C', 'Non-Zero Coeffs', 'Recall']\n",
    "l1_metrics = np.zeros((len(C),3))\n",
    "l1_metrics[:,0] = C"
   ]
  },
  {
   "cell_type": "code",
   "execution_count": 24,
   "metadata": {},
   "outputs": [
    {
     "name": "stdout",
     "output_type": "stream",
     "text": [
      "        C  Non-Zero Coeffs    Recall\n",
      "0  1.0000             25.0  0.535865\n",
      "1  0.5000             26.0  0.535865\n",
      "2  0.2500             25.0  0.533755\n",
      "3  0.1000             22.0  0.525316\n",
      "4  0.0500             22.0  0.474684\n",
      "5  0.0250             16.0  0.434599\n",
      "6  0.0100             10.0  0.223629\n",
      "7  0.0050              8.0  0.000000\n",
      "8  0.0025              0.0  0.000000\n"
     ]
    }
   ],
   "source": [
    "# Run a for loop over the range of C list length\n",
    "for index in range(0, len(C)):\n",
    "  # Initialize and fit Logistic Regression with the C candidate\n",
    "  logreg = LogisticRegression(penalty='l1', C=C[index], solver='liblinear')\n",
    "  logreg.fit(train_X, train_Y)\n",
    "  # Predict churn on the testing data\n",
    "  pred_test_Y = logreg.predict(test_X)\n",
    "  # Create non-zero count and recall score columns\n",
    "  l1_metrics[index,1] = np.count_nonzero(logreg.coef_)\n",
    "  l1_metrics[index,2] = recall_score(test_Y, pred_test_Y)\n",
    "\n",
    "# Name the columns and print the array as pandas DataFrame\n",
    "col_names = ['C','Non-Zero Coeffs','Recall']\n",
    "print(pd.DataFrame(l1_metrics, columns=col_names))"
   ]
  },
  {
   "cell_type": "markdown",
   "metadata": {},
   "source": [
    "# decission tree"
   ]
  },
  {
   "cell_type": "code",
   "execution_count": 25,
   "metadata": {},
   "outputs": [],
   "source": [
    "from sklearn import tree"
   ]
  },
  {
   "cell_type": "code",
   "execution_count": 26,
   "metadata": {},
   "outputs": [
    {
     "name": "stdout",
     "output_type": "stream",
     "text": [
      "Test accuracy: 0.7124\n"
     ]
    }
   ],
   "source": [
    "# Initialize decision tree classifier\n",
    "mytree = tree.DecisionTreeClassifier()\n",
    "\n",
    "# Fit the decision tree on training data\n",
    "mytree.fit(train_X, train_Y)\n",
    "\n",
    "# Predict churn labels on testing data\n",
    "pred_test_Y = mytree.predict(test_X)\n",
    "\n",
    "# Calculate accuracy score on testing data\n",
    "test_accuracy = accuracy_score(test_Y, pred_test_Y)\n",
    "\n",
    "# Print test accuracy\n",
    "print('Test accuracy:', round(test_accuracy, 4))"
   ]
  },
  {
   "cell_type": "code",
   "execution_count": 27,
   "metadata": {},
   "outputs": [
    {
     "name": "stdout",
     "output_type": "stream",
     "text": [
      "    Max_Depth    Recall\n",
      "0         2.0  0.525316\n",
      "1         3.0  0.518987\n",
      "2         4.0  0.417722\n",
      "3         5.0  0.424051\n",
      "4         6.0  0.364979\n",
      "5         7.0  0.430380\n",
      "6         8.0  0.449367\n",
      "7         9.0  0.457806\n",
      "8        10.0  0.432489\n",
      "9        11.0  0.459916\n",
      "10       12.0  0.556962\n",
      "11       13.0  0.449367\n",
      "12       14.0  0.561181\n"
     ]
    }
   ],
   "source": [
    "depth_list = list(range(2,15)) \n",
    "depth_tuning = np.zeros((len(depth_list), 2)) \n",
    "depth_tuning[:,0] = depth_list\n",
    "\n",
    "# Run a for loop over the range of depth list length\n",
    "for index in range(0, len(depth_list)):\n",
    "    # Initialize and fit decision tree with the `max_depth` candidate\n",
    "    mytree = tree.DecisionTreeClassifier(max_depth=depth_list[index])\n",
    "    mytree.fit(train_X, train_Y)\n",
    "    # Predict churn on the testing data\n",
    "    pred_test_Y = mytree.predict(test_X)\n",
    "    # Calculate the recall score \n",
    "    depth_tuning[index,1] = recall_score(test_Y, pred_test_Y)\n",
    "\n",
    "# Name the columns and print the array as pandas DataFrame\n",
    "col_names = ['Max_Depth','Recall']\n",
    "print(pd.DataFrame(depth_tuning, columns=col_names))"
   ]
  },
  {
   "cell_type": "code",
   "execution_count": 28,
   "metadata": {},
   "outputs": [
    {
     "ename": "AttributeError",
     "evalue": "'numpy.ndarray' object has no attribute 'columns'",
     "output_type": "error",
     "traceback": [
      "\u001b[1;31m---------------------------------------------------------------------------\u001b[0m",
      "\u001b[1;31mAttributeError\u001b[0m                            Traceback (most recent call last)",
      "\u001b[1;32m<ipython-input-28-bd871616eee2>\u001b[0m in \u001b[0;36m<module>\u001b[1;34m\u001b[0m\n\u001b[0;32m      1\u001b[0m \u001b[1;31m# Combine feature names and coefficients into pandas DataFrame\u001b[0m\u001b[1;33m\u001b[0m\u001b[1;33m\u001b[0m\u001b[1;33m\u001b[0m\u001b[0m\n\u001b[1;32m----> 2\u001b[1;33m \u001b[0mfeature_names\u001b[0m \u001b[1;33m=\u001b[0m \u001b[0mpd\u001b[0m\u001b[1;33m.\u001b[0m\u001b[0mDataFrame\u001b[0m\u001b[1;33m(\u001b[0m\u001b[0mtrain_X\u001b[0m\u001b[1;33m.\u001b[0m\u001b[0mcolumns\u001b[0m\u001b[1;33m,\u001b[0m \u001b[0mcolumns\u001b[0m \u001b[1;33m=\u001b[0m \u001b[1;33m[\u001b[0m\u001b[1;34m'Feature'\u001b[0m\u001b[1;33m]\u001b[0m\u001b[1;33m)\u001b[0m\u001b[1;33m\u001b[0m\u001b[1;33m\u001b[0m\u001b[0m\n\u001b[0m\u001b[0;32m      3\u001b[0m \u001b[0mlog_coef\u001b[0m \u001b[1;33m=\u001b[0m \u001b[0mpd\u001b[0m\u001b[1;33m.\u001b[0m\u001b[0mDataFrame\u001b[0m\u001b[1;33m(\u001b[0m\u001b[0mnp\u001b[0m\u001b[1;33m.\u001b[0m\u001b[0mtranspose\u001b[0m\u001b[1;33m(\u001b[0m\u001b[0mlogreg\u001b[0m\u001b[1;33m.\u001b[0m\u001b[0mcoef_\u001b[0m\u001b[1;33m)\u001b[0m\u001b[1;33m,\u001b[0m \u001b[0mcolumns\u001b[0m \u001b[1;33m=\u001b[0m \u001b[1;33m[\u001b[0m\u001b[1;34m'Coefficient'\u001b[0m\u001b[1;33m]\u001b[0m\u001b[1;33m)\u001b[0m\u001b[1;33m\u001b[0m\u001b[1;33m\u001b[0m\u001b[0m\n\u001b[0;32m      4\u001b[0m \u001b[0mcoefficients\u001b[0m \u001b[1;33m=\u001b[0m \u001b[0mpd\u001b[0m\u001b[1;33m.\u001b[0m\u001b[0mconcat\u001b[0m\u001b[1;33m(\u001b[0m\u001b[1;33m[\u001b[0m\u001b[0mfeature_names\u001b[0m\u001b[1;33m,\u001b[0m \u001b[0mlog_coef\u001b[0m\u001b[1;33m]\u001b[0m\u001b[1;33m,\u001b[0m \u001b[0maxis\u001b[0m \u001b[1;33m=\u001b[0m \u001b[1;36m1\u001b[0m\u001b[1;33m)\u001b[0m\u001b[1;33m\u001b[0m\u001b[1;33m\u001b[0m\u001b[0m\n\u001b[0;32m      5\u001b[0m \u001b[1;33m\u001b[0m\u001b[0m\n",
      "\u001b[1;31mAttributeError\u001b[0m: 'numpy.ndarray' object has no attribute 'columns'"
     ]
    }
   ],
   "source": [
    "# Combine feature names and coefficients into pandas DataFrame\n",
    "feature_names = pd.DataFrame(train_X.columns, columns = ['Feature'])\n",
    "log_coef = pd.DataFrame(np.transpose(logreg.coef_), columns = ['Coefficient'])\n",
    "coefficients = pd.concat([feature_names, log_coef], axis = 1)\n",
    "\n",
    "# Calculate exponent of the logistic regression coefficients\n",
    "coefficients['Exp_Coefficient'] = np.exp(coefficients['Coefficient'])\n",
    "\n",
    "# Remove coefficients that are equal to zero\n",
    "coefficients = coefficients[coefficients['Coefficient']!=0]\n",
    "\n",
    "# Print the values sorted by the exponent coefficient\n",
    "print(coefficients.sort_values(by=['Exp_Coefficient']))"
   ]
  },
  {
   "cell_type": "code",
   "execution_count": 29,
   "metadata": {},
   "outputs": [
    {
     "ename": "AttributeError",
     "evalue": "'numpy.ndarray' object has no attribute 'columns'",
     "output_type": "error",
     "traceback": [
      "\u001b[1;31m---------------------------------------------------------------------------\u001b[0m",
      "\u001b[1;31mAttributeError\u001b[0m                            Traceback (most recent call last)",
      "\u001b[1;32m<ipython-input-29-02c924cceb0b>\u001b[0m in \u001b[0;36m<module>\u001b[1;34m\u001b[0m\n\u001b[0;32m      2\u001b[0m exported = tree.export_graphviz(decision_tree=mytree, \n\u001b[0;32m      3\u001b[0m                         \u001b[1;31m# Assign feature names\u001b[0m\u001b[1;33m\u001b[0m\u001b[1;33m\u001b[0m\u001b[1;33m\u001b[0m\u001b[0m\n\u001b[1;32m----> 4\u001b[1;33m             \u001b[0mout_file\u001b[0m\u001b[1;33m=\u001b[0m\u001b[1;32mNone\u001b[0m\u001b[1;33m,\u001b[0m \u001b[0mfeature_names\u001b[0m\u001b[1;33m=\u001b[0m\u001b[0mtrain_X\u001b[0m\u001b[1;33m.\u001b[0m\u001b[0mcolumns\u001b[0m\u001b[1;33m,\u001b[0m\u001b[1;33m\u001b[0m\u001b[1;33m\u001b[0m\u001b[0m\n\u001b[0m\u001b[0;32m      5\u001b[0m                         \u001b[1;31m# Set precision to 1 and add class names\u001b[0m\u001b[1;33m\u001b[0m\u001b[1;33m\u001b[0m\u001b[1;33m\u001b[0m\u001b[0m\n\u001b[0;32m      6\u001b[0m \t\t\tprecision=1, class_names=['Not churn','Churn'], filled = True)\n",
      "\u001b[1;31mAttributeError\u001b[0m: 'numpy.ndarray' object has no attribute 'columns'"
     ]
    }
   ],
   "source": [
    "# Export graphviz object from the trained decision tree \n",
    "exported = tree.export_graphviz(decision_tree=mytree, \n",
    "\t\t\t# Assign feature names\n",
    "            out_file=None, feature_names=train_X.columns, \n",
    "\t\t\t# Set precision to 1 and add class names\n",
    "\t\t\tprecision=1, class_names=['Not churn','Churn'], filled = True)\n",
    "\n",
    "# Call the Source function and pass the exported graphviz object\n",
    "graph = graphviz.Source(exported)\n",
    "\n",
    "# Display the decision tree\n",
    "display_image(\"/usr/local/share/datasets/decision_tree_rules.png\")"
   ]
  },
  {
   "cell_type": "code",
   "execution_count": null,
   "metadata": {},
   "outputs": [],
   "source": []
  }
 ],
 "metadata": {
  "kernelspec": {
   "display_name": "Python 3",
   "language": "python",
   "name": "python3"
  },
  "language_info": {
   "codemirror_mode": {
    "name": "ipython",
    "version": 3
   },
   "file_extension": ".py",
   "mimetype": "text/x-python",
   "name": "python",
   "nbconvert_exporter": "python",
   "pygments_lexer": "ipython3",
   "version": "3.6.10"
  }
 },
 "nbformat": 4,
 "nbformat_minor": 4
}
