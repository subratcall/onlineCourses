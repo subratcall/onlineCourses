{
 "cells": [
  {
   "cell_type": "code",
   "execution_count": 1,
   "metadata": {},
   "outputs": [],
   "source": [
    "import pandas as pd\n",
    "import numpy as np"
   ]
  },
  {
   "cell_type": "code",
   "execution_count": 2,
   "metadata": {},
   "outputs": [
    {
     "name": "stdout",
     "output_type": "stream",
     "text": [
      "                 1      2      3      4      5      6      7      8      9  \\\n",
      "CohortMonth                                                                  \n",
      "2010-12-01   716.0  246.0  221.0  251.0  245.0  285.0  249.0  236.0  240.0   \n",
      "2011-01-01   332.0   69.0   82.0   81.0  110.0   90.0   82.0   86.0  104.0   \n",
      "2011-02-01   316.0   58.0   57.0   83.0   85.0   74.0   80.0   83.0   86.0   \n",
      "2011-03-01   388.0   63.0  100.0   76.0   83.0   67.0   98.0   85.0  107.0   \n",
      "2011-04-01   255.0   49.0   52.0   49.0   47.0   52.0   56.0   59.0   17.0   \n",
      "\n",
      "                10     11     12     13  \n",
      "CohortMonth                              \n",
      "2010-12-01   265.0  254.0  348.0  172.0  \n",
      "2011-01-01   102.0  124.0   45.0    NaN  \n",
      "2011-02-01    95.0   28.0    NaN    NaN  \n",
      "2011-03-01    38.0    NaN    NaN    NaN  \n",
      "2011-04-01     NaN    NaN    NaN    NaN  \n"
     ]
    }
   ],
   "source": [
    "cohort_counts = pd.read_csv('../DATASETS/part4/cohort_counts.csv')\n",
    "cohort_counts['CohortMonth'] = pd.to_datetime(cohort_counts['CohortMonth'])\n",
    "cohort_counts.set_index(['CohortMonth'], inplace=True)\n",
    "print(cohort_counts.head())"
   ]
  },
  {
   "cell_type": "code",
   "execution_count": 3,
   "metadata": {},
   "outputs": [
    {
     "name": "stdout",
     "output_type": "stream",
     "text": [
      "               1         2         3         4         5         6         7  \\\n",
      "CohortMonth                                                                    \n",
      "2010-12-01   1.0  0.343575  0.308659  0.350559  0.342179  0.398045  0.347765   \n",
      "2011-01-01   1.0  0.207831  0.246988  0.243976  0.331325  0.271084  0.246988   \n",
      "2011-02-01   1.0  0.183544  0.180380  0.262658  0.268987  0.234177  0.253165   \n",
      "2011-03-01   1.0  0.162371  0.257732  0.195876  0.213918  0.172680  0.252577   \n",
      "2011-04-01   1.0  0.192157  0.203922  0.192157  0.184314  0.203922  0.219608   \n",
      "2011-05-01   1.0  0.160643  0.172691  0.144578  0.208835  0.232932  0.244980   \n",
      "2011-06-01   1.0  0.159420  0.125604  0.198068  0.236715  0.299517  0.091787   \n",
      "2011-07-01   1.0  0.161850  0.179191  0.219653  0.254335  0.098266       NaN   \n",
      "2011-08-01   1.0  0.215827  0.201439  0.251799  0.100719       NaN       NaN   \n",
      "2011-09-01   1.0  0.200717  0.279570  0.121864       NaN       NaN       NaN   \n",
      "2011-10-01   1.0  0.210692  0.094340       NaN       NaN       NaN       NaN   \n",
      "2011-11-01   1.0  0.109966       NaN       NaN       NaN       NaN       NaN   \n",
      "2011-12-01   1.0       NaN       NaN       NaN       NaN       NaN       NaN   \n",
      "\n",
      "                    8         9        10        11        12        13  \n",
      "CohortMonth                                                              \n",
      "2010-12-01   0.329609  0.335196  0.370112  0.354749  0.486034  0.240223  \n",
      "2011-01-01   0.259036  0.313253  0.307229  0.373494  0.135542       NaN  \n",
      "2011-02-01   0.262658  0.272152  0.300633  0.088608       NaN       NaN  \n",
      "2011-03-01   0.219072  0.275773  0.097938       NaN       NaN       NaN  \n",
      "2011-04-01   0.231373  0.066667       NaN       NaN       NaN       NaN  \n",
      "2011-05-01   0.088353       NaN       NaN       NaN       NaN       NaN  \n",
      "2011-06-01        NaN       NaN       NaN       NaN       NaN       NaN  \n",
      "2011-07-01        NaN       NaN       NaN       NaN       NaN       NaN  \n",
      "2011-08-01        NaN       NaN       NaN       NaN       NaN       NaN  \n",
      "2011-09-01        NaN       NaN       NaN       NaN       NaN       NaN  \n",
      "2011-10-01        NaN       NaN       NaN       NaN       NaN       NaN  \n",
      "2011-11-01        NaN       NaN       NaN       NaN       NaN       NaN  \n",
      "2011-12-01        NaN       NaN       NaN       NaN       NaN       NaN  \n"
     ]
    }
   ],
   "source": [
    "# Extract cohort sizes from the first column of cohort_counts\n",
    "cohort_sizes = cohort_counts.iloc[:,0]\n",
    "\n",
    "# Calculate retention by dividing the counts with the cohort sizes\n",
    "retention = cohort_counts.divide(cohort_sizes, axis=0)\n",
    "\n",
    "# Calculate churn\n",
    "churn = 1 - retention\n",
    "\n",
    "# Print the retention table\n",
    "print(retention)"
   ]
  },
  {
   "cell_type": "code",
   "execution_count": 4,
   "metadata": {},
   "outputs": [
    {
     "name": "stdout",
     "output_type": "stream",
     "text": [
      "Retention rate: 0.24; Churn rate: 0.76\n"
     ]
    }
   ],
   "source": [
    "# Calculate the mean retention rate\n",
    "retention_rate = retention.iloc[:,1:].mean().mean()\n",
    "\n",
    "# Calculate the mean churn rate\n",
    "churn_rate = churn.iloc[:,1:].mean().mean()\n",
    "\n",
    "# Print rounded retention and churn rates\n",
    "print('Retention rate: {:.2f}; Churn rate: {:.2f}'.format(retention_rate, churn_rate))"
   ]
  },
  {
   "cell_type": "code",
   "execution_count": 21,
   "metadata": {},
   "outputs": [
    {
     "data": {
      "text/html": [
       "<div>\n",
       "<style scoped>\n",
       "    .dataframe tbody tr th:only-of-type {\n",
       "        vertical-align: middle;\n",
       "    }\n",
       "\n",
       "    .dataframe tbody tr th {\n",
       "        vertical-align: top;\n",
       "    }\n",
       "\n",
       "    .dataframe thead th {\n",
       "        text-align: right;\n",
       "    }\n",
       "</style>\n",
       "<table border=\"1\" class=\"dataframe\">\n",
       "  <thead>\n",
       "    <tr style=\"text-align: right;\">\n",
       "      <th></th>\n",
       "      <th>Unnamed: 0</th>\n",
       "      <th>InvoiceNo</th>\n",
       "      <th>StockCode</th>\n",
       "      <th>Description</th>\n",
       "      <th>Quantity</th>\n",
       "      <th>InvoiceDate</th>\n",
       "      <th>UnitPrice</th>\n",
       "      <th>CustomerID</th>\n",
       "      <th>Country</th>\n",
       "      <th>InvoiceMonth</th>\n",
       "      <th>TotalSum</th>\n",
       "    </tr>\n",
       "  </thead>\n",
       "  <tbody>\n",
       "    <tr>\n",
       "      <th>0</th>\n",
       "      <td>416792</td>\n",
       "      <td>572558</td>\n",
       "      <td>22745</td>\n",
       "      <td>POPPY'S PLAYHOUSE BEDROOM</td>\n",
       "      <td>6</td>\n",
       "      <td>2011-10-25 08:26:00</td>\n",
       "      <td>2.10</td>\n",
       "      <td>14286</td>\n",
       "      <td>United Kingdom</td>\n",
       "      <td>2011-10-01</td>\n",
       "      <td>12.60</td>\n",
       "    </tr>\n",
       "    <tr>\n",
       "      <th>1</th>\n",
       "      <td>482904</td>\n",
       "      <td>577485</td>\n",
       "      <td>23196</td>\n",
       "      <td>VINTAGE LEAF MAGNETIC NOTEPAD</td>\n",
       "      <td>1</td>\n",
       "      <td>2011-11-20 11:56:00</td>\n",
       "      <td>1.45</td>\n",
       "      <td>16360</td>\n",
       "      <td>United Kingdom</td>\n",
       "      <td>2011-11-01</td>\n",
       "      <td>1.45</td>\n",
       "    </tr>\n",
       "    <tr>\n",
       "      <th>2</th>\n",
       "      <td>263743</td>\n",
       "      <td>560034</td>\n",
       "      <td>23299</td>\n",
       "      <td>FOOD COVER WITH BEADS SET 2</td>\n",
       "      <td>6</td>\n",
       "      <td>2011-07-14 13:35:00</td>\n",
       "      <td>3.75</td>\n",
       "      <td>13933</td>\n",
       "      <td>United Kingdom</td>\n",
       "      <td>2011-07-01</td>\n",
       "      <td>22.50</td>\n",
       "    </tr>\n",
       "    <tr>\n",
       "      <th>3</th>\n",
       "      <td>495549</td>\n",
       "      <td>578307</td>\n",
       "      <td>72349B</td>\n",
       "      <td>SET/6 PURPLE BUTTERFLY T-LIGHTS</td>\n",
       "      <td>1</td>\n",
       "      <td>2011-11-23 15:53:00</td>\n",
       "      <td>2.10</td>\n",
       "      <td>17290</td>\n",
       "      <td>United Kingdom</td>\n",
       "      <td>2011-11-01</td>\n",
       "      <td>2.10</td>\n",
       "    </tr>\n",
       "    <tr>\n",
       "      <th>4</th>\n",
       "      <td>204384</td>\n",
       "      <td>554656</td>\n",
       "      <td>21756</td>\n",
       "      <td>BATH BUILDING BLOCK WORD</td>\n",
       "      <td>3</td>\n",
       "      <td>2011-05-25 13:36:00</td>\n",
       "      <td>5.95</td>\n",
       "      <td>17663</td>\n",
       "      <td>United Kingdom</td>\n",
       "      <td>2011-05-01</td>\n",
       "      <td>17.85</td>\n",
       "    </tr>\n",
       "  </tbody>\n",
       "</table>\n",
       "</div>"
      ],
      "text/plain": [
       "   Unnamed: 0  InvoiceNo StockCode                      Description  Quantity  \\\n",
       "0      416792     572558     22745       POPPY'S PLAYHOUSE BEDROOM          6   \n",
       "1      482904     577485     23196    VINTAGE LEAF MAGNETIC NOTEPAD         1   \n",
       "2      263743     560034     23299     FOOD COVER WITH BEADS SET 2          6   \n",
       "3      495549     578307    72349B  SET/6 PURPLE BUTTERFLY T-LIGHTS         1   \n",
       "4      204384     554656     21756         BATH BUILDING BLOCK WORD         3   \n",
       "\n",
       "          InvoiceDate  UnitPrice  CustomerID         Country InvoiceMonth  \\\n",
       "0 2011-10-25 08:26:00       2.10       14286  United Kingdom   2011-10-01   \n",
       "1 2011-11-20 11:56:00       1.45       16360  United Kingdom   2011-11-01   \n",
       "2 2011-07-14 13:35:00       3.75       13933  United Kingdom   2011-07-01   \n",
       "3 2011-11-23 15:53:00       2.10       17290  United Kingdom   2011-11-01   \n",
       "4 2011-05-25 13:36:00       5.95       17663  United Kingdom   2011-05-01   \n",
       "\n",
       "   TotalSum  \n",
       "0     12.60  \n",
       "1      1.45  \n",
       "2     22.50  \n",
       "3      2.10  \n",
       "4     17.85  "
      ]
     },
     "execution_count": 21,
     "metadata": {},
     "output_type": "execute_result"
    }
   ],
   "source": [
    "online = pd.read_csv('../DATASETS/part4/online.csv')\n",
    "online['InvoiceDate']= pd.to_datetime(online['InvoiceDate'])\n",
    "online['InvoiceMonth'] = online['InvoiceDate'].values.astype('datetime64[M]')\n",
    "online['TotalSum'] = online['UnitPrice'] * online['Quantity']\n",
    "\n",
    "online.head()"
   ]
  },
  {
   "cell_type": "code",
   "execution_count": 22,
   "metadata": {},
   "outputs": [
    {
     "name": "stdout",
     "output_type": "stream",
     "text": [
      "Average basic CLV is 4774.6 USD\n"
     ]
    }
   ],
   "source": [
    "# Calculate monthly spend per customer\n",
    "monthly_revenue = online.groupby(['CustomerID','InvoiceMonth'])['TotalSum'].sum()\n",
    "\n",
    "# Calculate average monthly spend\n",
    "monthly_revenue = np.mean(monthly_revenue)\n",
    "\n",
    "# Define lifespan to 36 months\n",
    "lifespan_months = 36\n",
    "\n",
    "# Calculate basic CLV\n",
    "clv_basic = monthly_revenue * lifespan_months\n",
    "\n",
    "# Print the basic CLV value\n",
    "print('Average basic CLV is {:.1f} USD'.format(clv_basic))"
   ]
  },
  {
   "cell_type": "code",
   "execution_count": 23,
   "metadata": {},
   "outputs": [
    {
     "name": "stdout",
     "output_type": "stream",
     "text": [
      "Average granular CLV is 1635.2 USD\n"
     ]
    }
   ],
   "source": [
    "# Calculate average revenue per invoice\n",
    "revenue_per_purchase = online.groupby(['InvoiceNo'])['TotalSum'].mean().mean()\n",
    "\n",
    "# Calculate average number of unique invoices per customer per month\n",
    "frequency_per_month = online.groupby(['CustomerID','InvoiceMonth'])['InvoiceNo'].nunique().mean()\n",
    "\n",
    "# Define lifespan to 36 months\n",
    "lifespan_months = 36\n",
    "\n",
    "# Calculate granular CLV\n",
    "clv_granular = revenue_per_purchase * frequency_per_month * lifespan_months\n",
    "\n",
    "# Print granular CLV value\n",
    "print('Average granular CLV is {:.1f} USD'.format(clv_granular))"
   ]
  },
  {
   "cell_type": "code",
   "execution_count": 24,
   "metadata": {},
   "outputs": [
    {
     "name": "stdout",
     "output_type": "stream",
     "text": [
      "Average traditional CLV is 42.4 USD at 24.2 % retention_rate\n"
     ]
    }
   ],
   "source": [
    "# Calculate monthly spend per customer\n",
    "monthly_revenue = online.groupby(['CustomerID','InvoiceMonth'])['TotalSum'].sum().mean()\n",
    "\n",
    "# Calculate average monthly retention rate\n",
    "retention_rate = retention.iloc[:,1:].mean().mean()\n",
    "\n",
    "# Calculate average monthly churn rate\n",
    "churn_rate = 1 - retention_rate\n",
    "\n",
    "# Calculate traditional CLV \n",
    "clv_traditional = monthly_revenue * (retention_rate / churn_rate)\n",
    "\n",
    "# Print traditional CLV and the retention rate values\n",
    "print('Average traditional CLV is {:.1f} USD at {:.1f} % retention_rate'.format(clv_traditional, retention_rate*100))"
   ]
  },
  {
   "cell_type": "code",
   "execution_count": 25,
   "metadata": {},
   "outputs": [
    {
     "data": {
      "text/html": [
       "<div>\n",
       "<style scoped>\n",
       "    .dataframe tbody tr th:only-of-type {\n",
       "        vertical-align: middle;\n",
       "    }\n",
       "\n",
       "    .dataframe tbody tr th {\n",
       "        vertical-align: top;\n",
       "    }\n",
       "\n",
       "    .dataframe thead th {\n",
       "        text-align: right;\n",
       "    }\n",
       "</style>\n",
       "<table border=\"1\" class=\"dataframe\">\n",
       "  <thead>\n",
       "    <tr style=\"text-align: right;\">\n",
       "      <th></th>\n",
       "      <th>Unnamed: 0</th>\n",
       "      <th>InvoiceNo</th>\n",
       "      <th>StockCode</th>\n",
       "      <th>Description</th>\n",
       "      <th>Quantity</th>\n",
       "      <th>InvoiceDate</th>\n",
       "      <th>UnitPrice</th>\n",
       "      <th>CustomerID</th>\n",
       "      <th>Country</th>\n",
       "      <th>InvoiceMonth</th>\n",
       "      <th>TotalSum</th>\n",
       "    </tr>\n",
       "  </thead>\n",
       "  <tbody>\n",
       "    <tr>\n",
       "      <th>0</th>\n",
       "      <td>416792</td>\n",
       "      <td>572558</td>\n",
       "      <td>22745</td>\n",
       "      <td>POPPY'S PLAYHOUSE BEDROOM</td>\n",
       "      <td>6</td>\n",
       "      <td>2011-10-25 08:26:00</td>\n",
       "      <td>2.10</td>\n",
       "      <td>14286</td>\n",
       "      <td>United Kingdom</td>\n",
       "      <td>2011-10-01</td>\n",
       "      <td>12.60</td>\n",
       "    </tr>\n",
       "    <tr>\n",
       "      <th>2</th>\n",
       "      <td>263743</td>\n",
       "      <td>560034</td>\n",
       "      <td>23299</td>\n",
       "      <td>FOOD COVER WITH BEADS SET 2</td>\n",
       "      <td>6</td>\n",
       "      <td>2011-07-14 13:35:00</td>\n",
       "      <td>3.75</td>\n",
       "      <td>13933</td>\n",
       "      <td>United Kingdom</td>\n",
       "      <td>2011-07-01</td>\n",
       "      <td>22.50</td>\n",
       "    </tr>\n",
       "    <tr>\n",
       "      <th>4</th>\n",
       "      <td>204384</td>\n",
       "      <td>554656</td>\n",
       "      <td>21756</td>\n",
       "      <td>BATH BUILDING BLOCK WORD</td>\n",
       "      <td>3</td>\n",
       "      <td>2011-05-25 13:36:00</td>\n",
       "      <td>5.95</td>\n",
       "      <td>17663</td>\n",
       "      <td>United Kingdom</td>\n",
       "      <td>2011-05-01</td>\n",
       "      <td>17.85</td>\n",
       "    </tr>\n",
       "    <tr>\n",
       "      <th>5</th>\n",
       "      <td>125615</td>\n",
       "      <td>547051</td>\n",
       "      <td>22028</td>\n",
       "      <td>PENNY FARTHING BIRTHDAY CARD</td>\n",
       "      <td>12</td>\n",
       "      <td>2011-03-20 12:06:00</td>\n",
       "      <td>0.42</td>\n",
       "      <td>12902</td>\n",
       "      <td>United Kingdom</td>\n",
       "      <td>2011-03-01</td>\n",
       "      <td>5.04</td>\n",
       "    </tr>\n",
       "    <tr>\n",
       "      <th>8</th>\n",
       "      <td>127438</td>\n",
       "      <td>547223</td>\n",
       "      <td>22934</td>\n",
       "      <td>BAKING MOULD EASTER EGG WHITE CHOC</td>\n",
       "      <td>2</td>\n",
       "      <td>2011-03-21 15:10:00</td>\n",
       "      <td>2.95</td>\n",
       "      <td>12867</td>\n",
       "      <td>United Kingdom</td>\n",
       "      <td>2011-03-01</td>\n",
       "      <td>5.90</td>\n",
       "    </tr>\n",
       "  </tbody>\n",
       "</table>\n",
       "</div>"
      ],
      "text/plain": [
       "   Unnamed: 0  InvoiceNo StockCode                         Description  \\\n",
       "0      416792     572558     22745          POPPY'S PLAYHOUSE BEDROOM    \n",
       "2      263743     560034     23299        FOOD COVER WITH BEADS SET 2    \n",
       "4      204384     554656     21756            BATH BUILDING BLOCK WORD   \n",
       "5      125615     547051     22028        PENNY FARTHING BIRTHDAY CARD   \n",
       "8      127438     547223     22934  BAKING MOULD EASTER EGG WHITE CHOC   \n",
       "\n",
       "   Quantity         InvoiceDate  UnitPrice  CustomerID         Country  \\\n",
       "0         6 2011-10-25 08:26:00       2.10       14286  United Kingdom   \n",
       "2         6 2011-07-14 13:35:00       3.75       13933  United Kingdom   \n",
       "4         3 2011-05-25 13:36:00       5.95       17663  United Kingdom   \n",
       "5        12 2011-03-20 12:06:00       0.42       12902  United Kingdom   \n",
       "8         2 2011-03-21 15:10:00       2.95       12867  United Kingdom   \n",
       "\n",
       "  InvoiceMonth  TotalSum  \n",
       "0   2011-10-01     12.60  \n",
       "2   2011-07-01     22.50  \n",
       "4   2011-05-01     17.85  \n",
       "5   2011-03-01      5.04  \n",
       "8   2011-03-01      5.90  "
      ]
     },
     "execution_count": 25,
     "metadata": {},
     "output_type": "execute_result"
    }
   ],
   "source": [
    "online_X = online[online['InvoiceMonth'] != '2011-11']\n",
    "online_X.head()"
   ]
  },
  {
   "cell_type": "code",
   "execution_count": 26,
   "metadata": {},
   "outputs": [],
   "source": [
    "import datetime as dt"
   ]
  },
  {
   "cell_type": "code",
   "execution_count": 27,
   "metadata": {},
   "outputs": [],
   "source": [
    "# Define the snapshot date\n",
    "NOW = dt.datetime(2011,11,1)\n",
    "\n",
    "# Calculate recency by subtracting current date from the latest InvoiceDate\n",
    "features = online_X.groupby('CustomerID').agg({\n",
    "  'InvoiceDate': lambda x: (NOW - x.max()).days,\n",
    "  # Calculate frequency by counting unique number of invoices\n",
    "  'InvoiceNo': pd.Series.nunique,\n",
    "  # Calculate monetary value by summing all spend values\n",
    "  'TotalSum': np.sum,\n",
    "  # Calculate average and total quantity\n",
    "  'Quantity': ['mean', 'sum']}).reset_index()\n",
    "\n",
    "# Rename the columns\n",
    "features.columns = ['CustomerID', 'recency', 'frequency', 'monetary', 'quantity_avg', 'quantity_total']"
   ]
  },
  {
   "cell_type": "code",
   "execution_count": 28,
   "metadata": {},
   "outputs": [
    {
     "name": "stdout",
     "output_type": "stream",
     "text": [
      "InvoiceMonth  2010-12-01  2011-01-01  2011-02-01  2011-03-01  2011-04-01  \\\n",
      "CustomerID                                                                 \n",
      "12747                  2           1           0           1           0   \n",
      "12748                 24           2           4           9           3   \n",
      "12749                  0           0           0           0           0   \n",
      "12820                  0           1           0           0           0   \n",
      "12822                  0           0           0           0           0   \n",
      "\n",
      "InvoiceMonth  2011-05-01  2011-06-01  2011-07-01  2011-08-01  2011-09-01  \\\n",
      "CustomerID                                                                 \n",
      "12747                  2           1           0           1           0   \n",
      "12748                 17          12           8           9           9   \n",
      "12749                  1           0           0           1           0   \n",
      "12820                  0           0           0           0           1   \n",
      "12822                  0           0           0           0           2   \n",
      "\n",
      "InvoiceMonth  2011-10-01  2011-11-01  2011-12-01  \n",
      "CustomerID                                        \n",
      "12747                  1           1           1  \n",
      "12748                 10          41           8  \n",
      "12749                  0           1           1  \n",
      "12820                  1           0           1  \n",
      "12822                  0           0           0  \n"
     ]
    }
   ],
   "source": [
    "# Build a pivot table counting invoices for each customer monthly\n",
    "cust_month_tx = pd.pivot_table(data=online, values='InvoiceNo',\n",
    "                               index=['CustomerID'], columns=['InvoiceMonth'],\n",
    "                               aggfunc=pd.Series.nunique, fill_value=0)\n",
    "print(cust_month_tx.head())"
   ]
  },
  {
   "cell_type": "code",
   "execution_count": 36,
   "metadata": {},
   "outputs": [],
   "source": [
    "\n",
    "NOW = dt.datetime(2011,11,1)\n",
    "# Store November 2011 data column name as a list\n",
    "target = NOW\n",
    "# Store target value as `Y`\n",
    "Y = cust_month_tx[target]"
   ]
  },
  {
   "cell_type": "code",
   "execution_count": 37,
   "metadata": {},
   "outputs": [
    {
     "data": {
      "text/plain": [
       "CustomerID\n",
       "12747     1\n",
       "12748    41\n",
       "12749     1\n",
       "12820     0\n",
       "12822     0\n",
       "         ..\n",
       "18280     0\n",
       "18281     0\n",
       "18282     0\n",
       "18283     4\n",
       "18287     0\n",
       "Name: 2011-11-01 00:00:00, Length: 3701, dtype: int64"
      ]
     },
     "execution_count": 37,
     "metadata": {},
     "output_type": "execute_result"
    }
   ],
   "source": [
    "Y"
   ]
  },
  {
   "cell_type": "code",
   "execution_count": null,
   "metadata": {},
   "outputs": [],
   "source": [
    "# Store customer identifier column name as a list\n",
    "custid = ['CustomerID']\n",
    "\n",
    "# Select feature column names excluding customer identifier\n",
    "cols = [col for col in features.columns if col not in custid]\n",
    "\n",
    "# Extract the features as `X`\n",
    "X = features[cols]\n",
    "\n",
    "# Split data to training and testing\n",
    "train_X, test_X, train_Y, test_Y = train_test_split(X, Y, test_size=0.25, random_state=99)"
   ]
  },
  {
   "cell_type": "code",
   "execution_count": null,
   "metadata": {},
   "outputs": [],
   "source": [
    "# Initialize linear regression instance\n",
    "linreg = LinearRegression()\n",
    "\n",
    "# Fit the model to training dataset\n",
    "linreg.fit(train_X, train_Y)\n",
    "\n",
    "# Predict the target variable for training data\n",
    "train_pred_Y = linreg.predict(train_Y)\n",
    "\n",
    "# Predict the target variable for testing data\n",
    "test_pred_Y = linreg.predict(test_Y)"
   ]
  },
  {
   "cell_type": "code",
   "execution_count": null,
   "metadata": {},
   "outputs": [],
   "source": [
    "# Calculate root mean squared error on training data\n",
    "rmse_train = np.sqrt(mean_squared_error(train_Y, train_pred_Y))\n",
    "\n",
    "# Calculate mean absolute error on training data\n",
    "mae_train = mean_absolute_error(train_Y, train_pred_Y)\n",
    "\n",
    "# Calculate root mean squared error on testing data\n",
    "rmse_test = np.sqrt(mean_squared_error(test_Y, test_pred_Y))\n",
    "\n",
    "# Calculate mean absolute error on testing data\n",
    "mae_test = mean_absolute_error(test_Y, test_pred_Y)\n",
    "\n",
    "# Print the performance metrics\n",
    "print('RMSE train: {}; RMSE test: {}\\nMAE train: {}, MAE test: {}'.format(rmse_train, rmse_test, mae_train, mae_test))"
   ]
  },
  {
   "cell_type": "code",
   "execution_count": null,
   "metadata": {},
   "outputs": [],
   "source": [
    "# Import `statsmodels.api` module\n",
    "import statsmodels.api as sm\n",
    "\n",
    "# Initialize model instance on the training data\n",
    "olsreg = sm.OLS(train_Y, train_X)\n",
    "\n",
    "# Fit the model\n",
    "olsreg = olsreg.fit()\n",
    "\n",
    "# Print model summary\n",
    "print(olsreg.summary())"
   ]
  }
 ],
 "metadata": {
  "kernelspec": {
   "display_name": "Python 3",
   "language": "python",
   "name": "python3"
  },
  "language_info": {
   "codemirror_mode": {
    "name": "ipython",
    "version": 3
   },
   "file_extension": ".py",
   "mimetype": "text/x-python",
   "name": "python",
   "nbconvert_exporter": "python",
   "pygments_lexer": "ipython3",
   "version": "3.6.10"
  }
 },
 "nbformat": 4,
 "nbformat_minor": 4
}
