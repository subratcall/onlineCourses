{
 "cells": [
  {
   "cell_type": "code",
   "execution_count": 36,
   "metadata": {},
   "outputs": [
    {
     "name": "stdout",
     "output_type": "stream",
     "text": [
      "60000 train samples\n",
      "10000 test samples\n"
     ]
    }
   ],
   "source": [
    "from __future__ import print_function\n",
    "import numpy as np\n",
    "from keras.datasets import mnist\n",
    "from keras.models import Sequential\n",
    "from keras.layers.core import Dense, Activation, Dropout\n",
    "from keras.optimizers import Adam\n",
    "from keras.utils import np_utils\n",
    "\n",
    "np.random.seed(1671)\n",
    "\n",
    "NB_EPOCH = 20\n",
    "BATCH_SIZE = 128\n",
    "VERBOSE = 1\n",
    "NB_CLASSES = 10\n",
    "OPTIMIZER = Adam()\n",
    "N_HIDDEN = 128\n",
    "DROPOUT = 0.25\n",
    "VALIDATION_SPLIT = 0.2\n",
    "\n",
    "(X_train, y_train), (X_test, y_test) = mnist.load_data()\n",
    "\n",
    "RESHAPED = 784\n",
    "\n",
    "X_train = X_train.reshape(60000, RESHAPED).astype('float32') / 255\n",
    "X_test = X_test.reshape(10000, RESHAPED).astype('float32') / 255\n",
    "\n",
    "print(X_train.shape[0], 'train samples')\n",
    "print(X_test.shape[0], 'test samples')\n",
    "\n",
    "Y_train = np_utils.to_categorical(y_train, NB_CLASSES)\n",
    "Y_test = np_utils.to_categorical(y_test, NB_CLASSES)"
   ]
  },
  {
   "cell_type": "code",
   "execution_count": 37,
   "metadata": {},
   "outputs": [
    {
     "name": "stdout",
     "output_type": "stream",
     "text": [
      "_________________________________________________________________\n",
      "Layer (type)                 Output Shape              Param #   \n",
      "=================================================================\n",
      "dense_16 (Dense)             (None, 128)               100480    \n",
      "_________________________________________________________________\n",
      "activation_16 (Activation)   (None, 128)               0         \n",
      "_________________________________________________________________\n",
      "dense_17 (Dense)             (None, 128)               16512     \n",
      "_________________________________________________________________\n",
      "activation_17 (Activation)   (None, 128)               0         \n",
      "_________________________________________________________________\n",
      "dropout_2 (Dropout)          (None, 128)               0         \n",
      "_________________________________________________________________\n",
      "dense_18 (Dense)             (None, 10)                1290      \n",
      "_________________________________________________________________\n",
      "activation_18 (Activation)   (None, 10)                0         \n",
      "=================================================================\n",
      "Total params: 118,282\n",
      "Trainable params: 118,282\n",
      "Non-trainable params: 0\n",
      "_________________________________________________________________\n"
     ]
    }
   ],
   "source": [
    "model = Sequential()\n",
    "model.add(Dense(N_HIDDEN, input_shape=(RESHAPED,)))\n",
    "model.add(Activation('relu'))\n",
    "\n",
    "model.add(Dense(N_HIDDEN, input_shape=(RESHAPED,)))\n",
    "model.add(Activation('relu'))\n",
    "model.add(Dropout(DROPOUT))\n",
    "model.add(Dense(NB_CLASSES))\n",
    "model.add(Activation('softmax'))\n",
    "model.summary()"
   ]
  },
  {
   "cell_type": "code",
   "execution_count": 38,
   "metadata": {},
   "outputs": [],
   "source": [
    "model.compile(loss='categorical_crossentropy', optimizer=OPTIMIZER, metrics=['accuracy'])"
   ]
  },
  {
   "cell_type": "code",
   "execution_count": 39,
   "metadata": {},
   "outputs": [
    {
     "name": "stdout",
     "output_type": "stream",
     "text": [
      "Train on 48000 samples, validate on 12000 samples\n",
      "Epoch 1/20\n",
      "48000/48000 [==============================] - 5s 99us/step - loss: 0.3954 - acc: 0.8840 - val_loss: 0.1639 - val_acc: 0.9529\n",
      "Epoch 2/20\n",
      "48000/48000 [==============================] - 4s 80us/step - loss: 0.1584 - acc: 0.9535 - val_loss: 0.1216 - val_acc: 0.9643\n",
      "Epoch 3/20\n",
      "48000/48000 [==============================] - 4s 80us/step - loss: 0.1114 - acc: 0.9669 - val_loss: 0.1040 - val_acc: 0.9690\n",
      "Epoch 4/20\n",
      "48000/48000 [==============================] - 4s 80us/step - loss: 0.0871 - acc: 0.9735 - val_loss: 0.0904 - val_acc: 0.9736\n",
      "Epoch 5/20\n",
      "48000/48000 [==============================] - 4s 81us/step - loss: 0.0671 - acc: 0.9800 - val_loss: 0.0847 - val_acc: 0.9752\n",
      "Epoch 6/20\n",
      "48000/48000 [==============================] - 4s 79us/step - loss: 0.0558 - acc: 0.9823 - val_loss: 0.0865 - val_acc: 0.9744\n",
      "Epoch 7/20\n",
      "48000/48000 [==============================] - 4s 79us/step - loss: 0.0446 - acc: 0.9865 - val_loss: 0.0883 - val_acc: 0.9744\n",
      "Epoch 8/20\n",
      "48000/48000 [==============================] - 4s 80us/step - loss: 0.0390 - acc: 0.9874 - val_loss: 0.0896 - val_acc: 0.9766\n",
      "Epoch 9/20\n",
      "48000/48000 [==============================] - 4s 80us/step - loss: 0.0327 - acc: 0.9896 - val_loss: 0.0821 - val_acc: 0.9771\n",
      "Epoch 10/20\n",
      "48000/48000 [==============================] - 4s 79us/step - loss: 0.0288 - acc: 0.9902 - val_loss: 0.0918 - val_acc: 0.9753\n",
      "Epoch 11/20\n",
      "48000/48000 [==============================] - 4s 80us/step - loss: 0.0209 - acc: 0.9938 - val_loss: 0.0889 - val_acc: 0.9780\n",
      "Epoch 12/20\n",
      "48000/48000 [==============================] - 4s 79us/step - loss: 0.0216 - acc: 0.9928 - val_loss: 0.0989 - val_acc: 0.9768\n",
      "Epoch 13/20\n",
      "48000/48000 [==============================] - 4s 79us/step - loss: 0.0195 - acc: 0.9936 - val_loss: 0.0982 - val_acc: 0.9757\n",
      "Epoch 14/20\n",
      "48000/48000 [==============================] - 4s 79us/step - loss: 0.0161 - acc: 0.9949 - val_loss: 0.0981 - val_acc: 0.9775\n",
      "Epoch 15/20\n",
      "48000/48000 [==============================] - 4s 80us/step - loss: 0.0156 - acc: 0.9949 - val_loss: 0.1058 - val_acc: 0.9751\n",
      "Epoch 16/20\n",
      "48000/48000 [==============================] - 4s 79us/step - loss: 0.0164 - acc: 0.9950 - val_loss: 0.1054 - val_acc: 0.9766\n",
      "Epoch 17/20\n",
      "48000/48000 [==============================] - 4s 79us/step - loss: 0.0122 - acc: 0.9958 - val_loss: 0.1003 - val_acc: 0.9765\n",
      "Epoch 18/20\n",
      "48000/48000 [==============================] - 4s 79us/step - loss: 0.0126 - acc: 0.9961 - val_loss: 0.1085 - val_acc: 0.9771\n",
      "Epoch 19/20\n",
      "48000/48000 [==============================] - 4s 80us/step - loss: 0.0111 - acc: 0.9962 - val_loss: 0.1036 - val_acc: 0.9778\n",
      "Epoch 20/20\n",
      "48000/48000 [==============================] - 4s 78us/step - loss: 0.0106 - acc: 0.9961 - val_loss: 0.1149 - val_acc: 0.9764\n",
      "10000/10000 [==============================] - 0s 36us/step\n",
      "Test score: 0.10690655338592588\n",
      "Test accuracy: 0.9762\n"
     ]
    }
   ],
   "source": [
    "history = model.fit(X_train, Y_train, \n",
    "            batch_size= BATCH_SIZE,\n",
    "            epochs=NB_EPOCH,\n",
    "            verbose=VERBOSE,\n",
    "            validation_split=VALIDATION_SPLIT)\n",
    "score = model.evaluate(X_test, Y_test, verbose=VERBOSE)\n",
    "print(\"Test score:\", score[0])\n",
    "print('Test accuracy:', score[1])\n"
   ]
  },
  {
   "cell_type": "code",
   "execution_count": null,
   "metadata": {},
   "outputs": [],
   "source": []
  }
 ],
 "metadata": {
  "kernelspec": {
   "display_name": "Python 3",
   "language": "python",
   "name": "python3"
  },
  "language_info": {
   "codemirror_mode": {
    "name": "ipython",
    "version": 3
   },
   "file_extension": ".py",
   "mimetype": "text/x-python",
   "name": "python",
   "nbconvert_exporter": "python",
   "pygments_lexer": "ipython3",
   "version": "3.6.8"
  }
 },
 "nbformat": 4,
 "nbformat_minor": 2
}
