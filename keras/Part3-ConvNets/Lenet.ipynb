{
 "cells": [
  {
   "cell_type": "code",
   "execution_count": 1,
   "metadata": {},
   "outputs": [
    {
     "name": "stderr",
     "output_type": "stream",
     "text": [
      "Using TensorFlow backend.\n"
     ]
    }
   ],
   "source": [
    "from LeNet import LeNet\n",
    "from keras.optimizers import SGD, RMSprop, Adam\n",
    "\n",
    "NB_EPOCH = 20\n",
    "BATCH_SIZE = 128\n",
    "VERBOSE = 1\n",
    "OPTIMIZER = Adam()\n",
    "VALIDATION_SPLIT=0.2\n",
    "IMG_ROWS, IMG_COLS = 28, 28 # input image dimensions\n",
    "NB_CLASSES = 10 # number of outputs = number of digits\n",
    "INPUT_SHAPE = (1, IMG_ROWS, IMG_COLS)\n"
   ]
  },
  {
   "cell_type": "code",
   "execution_count": 2,
   "metadata": {},
   "outputs": [
    {
     "name": "stdout",
     "output_type": "stream",
     "text": [
      "60000 train samples\n",
      "10000 test samples\n"
     ]
    }
   ],
   "source": [
    "from keras.datasets import mnist\n",
    "from keras import backend as k\n",
    "\n",
    "from keras.utils import np_utils\n",
    "import numpy as np\n",
    "\n",
    "# data: shuffled and split between train and test sets\n",
    "(X_train, y_train), (X_test, y_test) = mnist.load_data()\n",
    "k.set_image_dim_ordering(\"th\")\n",
    "# consider them as float and normalize\n",
    "X_train = X_train.astype('float32')\n",
    "X_test = X_test.astype('float32')\n",
    "X_train /= 255\n",
    "X_test /= 255\n",
    "# we need a 60K x [1 x 28 x 28] shape as input to the CONVNET\n",
    "X_train = X_train[:, np.newaxis, :, :]\n",
    "X_test = X_test[:, np.newaxis, :, :]\n",
    "print(X_train.shape[0], 'train samples')\n",
    "print(X_test.shape[0], 'test samples')\n",
    "# convert class vectors to binary class matrices\n",
    "y_train = np_utils.to_categorical(y_train, NB_CLASSES)\n",
    "y_test = np_utils.to_categorical(y_test, NB_CLASSES)\n"
   ]
  },
  {
   "cell_type": "code",
   "execution_count": 3,
   "metadata": {},
   "outputs": [
    {
     "name": "stderr",
     "output_type": "stream",
     "text": [
      "/media/newhd5/Bram-Workspace/onlineCourses/keras/Part3-ConvNets/LeNet.py:25: UserWarning: Update your `Conv2D` call to the Keras 2 API: `Conv2D(filters=50, kernel_size=5, padding=\"same\")`\n",
      "  border_mode = \"same\"))\n"
     ]
    }
   ],
   "source": [
    "# initialize the optimizer and model\n",
    "model = LeNet.build(input_shape=INPUT_SHAPE, classes=NB_CLASSES)\n",
    "model.compile(\n",
    "    loss=\"categorical_crossentropy\", \n",
    "    optimizer=OPTIMIZER,\n",
    "    metrics=[\"accuracy\"])"
   ]
  },
  {
   "cell_type": "code",
   "execution_count": 4,
   "metadata": {},
   "outputs": [
    {
     "name": "stdout",
     "output_type": "stream",
     "text": [
      "Train on 48000 samples, validate on 12000 samples\n",
      "Epoch 1/20\n",
      "48000/48000 [==============================] - 16s 339us/step - loss: 0.1892 - acc: 0.9422 - val_loss: 0.0647 - val_acc: 0.9799\n",
      "Epoch 2/20\n",
      "48000/48000 [==============================] - 8s 165us/step - loss: 0.0479 - acc: 0.9851 - val_loss: 0.0395 - val_acc: 0.9877\n",
      "Epoch 3/20\n",
      "48000/48000 [==============================] - 8s 165us/step - loss: 0.0333 - acc: 0.9893 - val_loss: 0.0394 - val_acc: 0.9880\n",
      "Epoch 4/20\n",
      "48000/48000 [==============================] - 8s 165us/step - loss: 0.0224 - acc: 0.9929 - val_loss: 0.0474 - val_acc: 0.9858\n",
      "Epoch 5/20\n",
      "48000/48000 [==============================] - 8s 166us/step - loss: 0.0161 - acc: 0.9948 - val_loss: 0.0448 - val_acc: 0.9876\n",
      "Epoch 6/20\n",
      "48000/48000 [==============================] - 8s 166us/step - loss: 0.0143 - acc: 0.9950 - val_loss: 0.0440 - val_acc: 0.9876\n",
      "Epoch 7/20\n",
      "48000/48000 [==============================] - 8s 165us/step - loss: 0.0135 - acc: 0.9955 - val_loss: 0.0514 - val_acc: 0.9863\n",
      "Epoch 8/20\n",
      "48000/48000 [==============================] - 8s 165us/step - loss: 0.0115 - acc: 0.9962 - val_loss: 0.0371 - val_acc: 0.9896\n",
      "Epoch 9/20\n",
      "48000/48000 [==============================] - 8s 165us/step - loss: 0.0093 - acc: 0.9972 - val_loss: 0.0380 - val_acc: 0.9908\n",
      "Epoch 10/20\n",
      "48000/48000 [==============================] - 8s 165us/step - loss: 0.0063 - acc: 0.9978 - val_loss: 0.0547 - val_acc: 0.9867\n",
      "Epoch 11/20\n",
      "48000/48000 [==============================] - 8s 165us/step - loss: 0.0075 - acc: 0.9976 - val_loss: 0.0432 - val_acc: 0.9889\n",
      "Epoch 12/20\n",
      "48000/48000 [==============================] - 8s 167us/step - loss: 0.0070 - acc: 0.9975 - val_loss: 0.0506 - val_acc: 0.9896\n",
      "Epoch 13/20\n",
      "48000/48000 [==============================] - 8s 167us/step - loss: 0.0082 - acc: 0.9973 - val_loss: 0.0448 - val_acc: 0.9896\n",
      "Epoch 14/20\n",
      "48000/48000 [==============================] - 8s 167us/step - loss: 0.0061 - acc: 0.9981 - val_loss: 0.0530 - val_acc: 0.9884\n",
      "Epoch 15/20\n",
      "48000/48000 [==============================] - 8s 165us/step - loss: 0.0065 - acc: 0.9980 - val_loss: 0.0424 - val_acc: 0.9912\n",
      "Epoch 16/20\n",
      "48000/48000 [==============================] - 8s 166us/step - loss: 0.0043 - acc: 0.9986 - val_loss: 0.0366 - val_acc: 0.9924\n",
      "Epoch 17/20\n",
      "48000/48000 [==============================] - 8s 166us/step - loss: 0.0060 - acc: 0.9983 - val_loss: 0.0523 - val_acc: 0.9893\n",
      "Epoch 18/20\n",
      "48000/48000 [==============================] - 8s 166us/step - loss: 0.0061 - acc: 0.9982 - val_loss: 0.0420 - val_acc: 0.9909\n",
      "Epoch 19/20\n",
      "48000/48000 [==============================] - 8s 166us/step - loss: 0.0030 - acc: 0.9992 - val_loss: 0.0371 - val_acc: 0.9923\n",
      "Epoch 20/20\n",
      "48000/48000 [==============================] - 8s 165us/step - loss: 0.0058 - acc: 0.9984 - val_loss: 0.0411 - val_acc: 0.9913\n",
      "10000/10000 [==============================] - 1s 78us/step\n",
      "Test score: 0.037013321503855966\n",
      "Test accuracy: 0.9918\n"
     ]
    }
   ],
   "source": [
    "history = model.fit(\n",
    "    X_train, y_train,\n",
    "    batch_size=BATCH_SIZE, \n",
    "    epochs=NB_EPOCH,\n",
    "    verbose=VERBOSE, \n",
    "    validation_split=VALIDATION_SPLIT)\n",
    "score = model.evaluate(X_test, y_test, verbose=VERBOSE)\n",
    "print(\"Test score:\", score[0])\n",
    "print('Test accuracy:', score[1])\n"
   ]
  },
  {
   "cell_type": "code",
   "execution_count": 6,
   "metadata": {},
   "outputs": [
    {
     "name": "stdout",
     "output_type": "stream",
     "text": [
      "dict_keys(['val_loss', 'val_acc', 'loss', 'acc'])\n"
     ]
    },
    {
     "data": {
      "image/png": "[encoded data removed]",
      "text/plain": [
       "<Figure size 432x288 with 1 Axes>"
      ]
     },
     "metadata": {
      "needs_background": "light"
     },
     "output_type": "display_data"
    },
    {
     "data": {
      "image/png": "[encoded data removed]",
      "text/plain": [
       "<Figure size 432x288 with 1 Axes>"
      ]
     },
     "metadata": {
      "needs_background": "light"
     },
     "output_type": "display_data"
    }
   ],
   "source": [
    "import matplotlib.pyplot as plt\n",
    "\n",
    "# list all data in history\n",
    "print(history.history.keys())\n",
    "# summarize history for accuracy\n",
    "plt.plot(history.history['acc'])\n",
    "plt.plot(history.history['val_acc'])\n",
    "plt.title('model accuracy')\n",
    "plt.ylabel('accuracy')\n",
    "plt.xlabel('epoch')\n",
    "plt.legend(['train', 'test'], loc='upper left')\n",
    "plt.show()\n",
    "# summarize history for loss\n",
    "plt.plot(history.history['loss'])\n",
    "plt.plot(history.history['val_loss'])\n",
    "plt.title('model loss')\n",
    "plt.ylabel('loss')\n",
    "plt.xlabel('epoch')\n",
    "plt.legend(['train', 'test'], loc='upper left')\n",
    "plt.show()"
   ]
  },
  {
   "cell_type": "code",
   "execution_count": null,
   "metadata": {},
   "outputs": [],
   "source": []
  }
 ],
 "metadata": {
  "kernelspec": {
   "display_name": "Python 3",
   "language": "python",
   "name": "python3"
  },
  "language_info": {
   "codemirror_mode": {
    "name": "ipython",
    "version": 3
   },
   "file_extension": ".py",
   "mimetype": "text/x-python",
   "name": "python",
   "nbconvert_exporter": "python",
   "pygments_lexer": "ipython3",
   "version": "3.6.8"
  }
 },
 "nbformat": 4,
 "nbformat_minor": 2
}
