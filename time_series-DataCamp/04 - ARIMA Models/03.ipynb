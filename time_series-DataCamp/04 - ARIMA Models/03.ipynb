{
 "cells": [
  {
   "cell_type": "code",
   "execution_count": 1,
   "metadata": {},
   "outputs": [],
   "source": [
    "import pandas as pd\n",
    "from statsmodels.graphics.tsaplots import plot_acf, plot_pacf\n",
    "import matplotlib.pyplot as plt\n",
    "import numpy as np"
   ]
  },
  {
   "cell_type": "code",
   "execution_count": 2,
   "metadata": {},
   "outputs": [],
   "source": [
    "earthquake = pd.read_csv('datasets/earthquakes.csv', parse_dates = True, index_col='date')"
   ]
  },
  {
   "cell_type": "code",
   "execution_count": 3,
   "metadata": {},
   "outputs": [
    {
     "data": {
      "text/html": [
       "<div>\n",
       "<style scoped>\n",
       "    .dataframe tbody tr th:only-of-type {\n",
       "        vertical-align: middle;\n",
       "    }\n",
       "\n",
       "    .dataframe tbody tr th {\n",
       "        vertical-align: top;\n",
       "    }\n",
       "\n",
       "    .dataframe thead th {\n",
       "        text-align: right;\n",
       "    }\n",
       "</style>\n",
       "<table border=\"1\" class=\"dataframe\">\n",
       "  <thead>\n",
       "    <tr style=\"text-align: right;\">\n",
       "      <th></th>\n",
       "      <th>Year</th>\n",
       "      <th>earthquakes_per_year</th>\n",
       "    </tr>\n",
       "    <tr>\n",
       "      <th>date</th>\n",
       "      <th></th>\n",
       "      <th></th>\n",
       "    </tr>\n",
       "  </thead>\n",
       "  <tbody>\n",
       "    <tr>\n",
       "      <th>1900-01-01</th>\n",
       "      <td>1900</td>\n",
       "      <td>13.0</td>\n",
       "    </tr>\n",
       "    <tr>\n",
       "      <th>1901-01-01</th>\n",
       "      <td>1901</td>\n",
       "      <td>14.0</td>\n",
       "    </tr>\n",
       "    <tr>\n",
       "      <th>1902-01-01</th>\n",
       "      <td>1902</td>\n",
       "      <td>8.0</td>\n",
       "    </tr>\n",
       "    <tr>\n",
       "      <th>1903-01-01</th>\n",
       "      <td>1903</td>\n",
       "      <td>10.0</td>\n",
       "    </tr>\n",
       "    <tr>\n",
       "      <th>1904-01-01</th>\n",
       "      <td>1904</td>\n",
       "      <td>16.0</td>\n",
       "    </tr>\n",
       "  </tbody>\n",
       "</table>\n",
       "</div>"
      ],
      "text/plain": [
       "            Year  earthquakes_per_year\n",
       "date                                  \n",
       "1900-01-01  1900                  13.0\n",
       "1901-01-01  1901                  14.0\n",
       "1902-01-01  1902                   8.0\n",
       "1903-01-01  1903                  10.0\n",
       "1904-01-01  1904                  16.0"
      ]
     },
     "execution_count": 3,
     "metadata": {},
     "output_type": "execute_result"
    }
   ],
   "source": [
    "earthquake.head()"
   ]
  },
  {
   "cell_type": "code",
   "execution_count": 4,
   "metadata": {},
   "outputs": [
    {
     "data": {
      "image/png": "[encoded data removed]",
      "text/plain": [
       "<Figure size 864x576 with 2 Axes>"
      ]
     },
     "metadata": {
      "needs_background": "light"
     },
     "output_type": "display_data"
    }
   ],
   "source": [
    "# Create figure\n",
    "fig, (ax1, ax2) = plt.subplots(2,1, figsize=(12,8))\n",
    "\n",
    "# Plot ACF and PACF\n",
    "plot_acf(earthquake['earthquakes_per_year'],lags=15, zero=False, ax=ax1)\n",
    "plot_pacf(earthquake['earthquakes_per_year'],lags=15, zero=False, ax=ax2)\n",
    "\n",
    "# Show plot\n",
    "plt.show()"
   ]
  },
  {
   "cell_type": "code",
   "execution_count": 17,
   "metadata": {},
   "outputs": [],
   "source": [
    "from statsmodels.tsa.statespace.sarimax import SARIMAX"
   ]
  },
  {
   "cell_type": "code",
   "execution_count": 21,
   "metadata": {},
   "outputs": [
    {
     "name": "stderr",
     "output_type": "stream",
     "text": [
      "C:\\Users\\brama\\Miniconda3\\envs\\ds\\lib\\site-packages\\statsmodels\\tsa\\base\\tsa_model.py:162: ValueWarning: No frequency information was provided, so inferred frequency AS-JAN will be used.\n",
      "  % freq, ValueWarning)\n",
      "C:\\Users\\brama\\Miniconda3\\envs\\ds\\lib\\site-packages\\statsmodels\\tsa\\base\\tsa_model.py:162: ValueWarning: No frequency information was provided, so inferred frequency AS-JAN will be used.\n",
      "  % freq, ValueWarning)\n"
     ]
    }
   ],
   "source": [
    "model = SARIMAX(earthquake['earthquakes_per_year'], order=(1,0,0))\n",
    "result = model.fit()"
   ]
  },
  {
   "cell_type": "code",
   "execution_count": 22,
   "metadata": {},
   "outputs": [
    {
     "data": {
      "text/html": [
       "<table class=\"simpletable\">\n",
       "<caption>SARIMAX Results</caption>\n",
       "<tr>\n",
       "  <th>Dep. Variable:</th>   <td>earthquakes_per_year</td> <th>  No. Observations:  </th>    <td>99</td>   \n",
       "</tr>\n",
       "<tr>\n",
       "  <th>Model:</th>             <td>SARIMAX(1, 0, 0)</td>   <th>  Log Likelihood     </th> <td>-331.323</td>\n",
       "</tr>\n",
       "<tr>\n",
       "  <th>Date:</th>              <td>Sun, 12 Apr 2020</td>   <th>  AIC                </th>  <td>666.646</td>\n",
       "</tr>\n",
       "<tr>\n",
       "  <th>Time:</th>                  <td>17:44:17</td>       <th>  BIC                </th>  <td>671.836</td>\n",
       "</tr>\n",
       "<tr>\n",
       "  <th>Sample:</th>               <td>01-01-1900</td>      <th>  HQIC               </th>  <td>668.746</td>\n",
       "</tr>\n",
       "<tr>\n",
       "  <th></th>                     <td>- 01-01-1998</td>     <th>                     </th>     <td> </td>   \n",
       "</tr>\n",
       "<tr>\n",
       "  <th>Covariance Type:</th>          <td>opg</td>         <th>                     </th>     <td> </td>   \n",
       "</tr>\n",
       "</table>\n",
       "<table class=\"simpletable\">\n",
       "<tr>\n",
       "     <td></td>       <th>coef</th>     <th>std err</th>      <th>z</th>      <th>P>|z|</th>  <th>[0.025</th>    <th>0.975]</th>  \n",
       "</tr>\n",
       "<tr>\n",
       "  <th>ar.L1</th>  <td>    0.9433</td> <td>    0.029</td> <td>   32.767</td> <td> 0.000</td> <td>    0.887</td> <td>    1.000</td>\n",
       "</tr>\n",
       "<tr>\n",
       "  <th>sigma2</th> <td>   46.2114</td> <td>    5.459</td> <td>    8.466</td> <td> 0.000</td> <td>   35.513</td> <td>   56.910</td>\n",
       "</tr>\n",
       "</table>\n",
       "<table class=\"simpletable\">\n",
       "<tr>\n",
       "  <th>Ljung-Box (Q):</th>          <td>51.06</td> <th>  Jarque-Bera (JB):  </th> <td>4.60</td> \n",
       "</tr>\n",
       "<tr>\n",
       "  <th>Prob(Q):</th>                <td>0.11</td>  <th>  Prob(JB):          </th> <td>0.10</td> \n",
       "</tr>\n",
       "<tr>\n",
       "  <th>Heteroskedasticity (H):</th> <td>0.78</td>  <th>  Skew:              </th> <td>-0.09</td>\n",
       "</tr>\n",
       "<tr>\n",
       "  <th>Prob(H) (two-sided):</th>    <td>0.49</td>  <th>  Kurtosis:          </th> <td>4.04</td> \n",
       "</tr>\n",
       "</table><br/><br/>Warnings:<br/>[1] Covariance matrix calculated using the outer product of gradients (complex-step)."
      ],
      "text/plain": [
       "<class 'statsmodels.iolib.summary.Summary'>\n",
       "\"\"\"\n",
       "                                SARIMAX Results                                 \n",
       "================================================================================\n",
       "Dep. Variable:     earthquakes_per_year   No. Observations:                   99\n",
       "Model:                 SARIMAX(1, 0, 0)   Log Likelihood                -331.323\n",
       "Date:                  Sun, 12 Apr 2020   AIC                            666.646\n",
       "Time:                          17:44:17   BIC                            671.836\n",
       "Sample:                      01-01-1900   HQIC                           668.746\n",
       "                           - 01-01-1998                                         \n",
       "Covariance Type:                    opg                                         \n",
       "==============================================================================\n",
       "                 coef    std err          z      P>|z|      [0.025      0.975]\n",
       "------------------------------------------------------------------------------\n",
       "ar.L1          0.9433      0.029     32.767      0.000       0.887       1.000\n",
       "sigma2        46.2114      5.459      8.466      0.000      35.513      56.910\n",
       "===================================================================================\n",
       "Ljung-Box (Q):                       51.06   Jarque-Bera (JB):                 4.60\n",
       "Prob(Q):                              0.11   Prob(JB):                         0.10\n",
       "Heteroskedasticity (H):               0.78   Skew:                            -0.09\n",
       "Prob(H) (two-sided):                  0.49   Kurtosis:                         4.04\n",
       "===================================================================================\n",
       "\n",
       "Warnings:\n",
       "[1] Covariance matrix calculated using the outer product of gradients (complex-step).\n",
       "\"\"\""
      ]
     },
     "execution_count": 22,
     "metadata": {},
     "output_type": "execute_result"
    }
   ],
   "source": [
    "result.summary()"
   ]
  },
  {
   "cell_type": "markdown",
   "metadata": {},
   "source": [
    "# AIC & BIC"
   ]
  },
  {
   "cell_type": "code",
   "execution_count": 41,
   "metadata": {},
   "outputs": [],
   "source": [
    "df = earthquake['earthquakes_per_year']"
   ]
  },
  {
   "cell_type": "code",
   "execution_count": 42,
   "metadata": {},
   "outputs": [
    {
     "name": "stderr",
     "output_type": "stream",
     "text": [
      "C:\\Users\\brama\\Miniconda3\\envs\\ds\\lib\\site-packages\\statsmodels\\tsa\\base\\tsa_model.py:162: ValueWarning: No frequency information was provided, so inferred frequency AS-JAN will be used.\n",
      "  % freq, ValueWarning)\n",
      "C:\\Users\\brama\\Miniconda3\\envs\\ds\\lib\\site-packages\\statsmodels\\tsa\\base\\tsa_model.py:162: ValueWarning: No frequency information was provided, so inferred frequency AS-JAN will be used.\n",
      "  % freq, ValueWarning)\n",
      "C:\\Users\\brama\\Miniconda3\\envs\\ds\\lib\\site-packages\\statsmodels\\tsa\\base\\tsa_model.py:162: ValueWarning: No frequency information was provided, so inferred frequency AS-JAN will be used.\n",
      "  % freq, ValueWarning)\n",
      "C:\\Users\\brama\\Miniconda3\\envs\\ds\\lib\\site-packages\\statsmodels\\tsa\\base\\tsa_model.py:162: ValueWarning: No frequency information was provided, so inferred frequency AS-JAN will be used.\n",
      "  % freq, ValueWarning)\n",
      "C:\\Users\\brama\\Miniconda3\\envs\\ds\\lib\\site-packages\\statsmodels\\tsa\\base\\tsa_model.py:162: ValueWarning: No frequency information was provided, so inferred frequency AS-JAN will be used.\n",
      "  % freq, ValueWarning)\n",
      "C:\\Users\\brama\\Miniconda3\\envs\\ds\\lib\\site-packages\\statsmodels\\tsa\\base\\tsa_model.py:162: ValueWarning: No frequency information was provided, so inferred frequency AS-JAN will be used.\n",
      "  % freq, ValueWarning)\n",
      "C:\\Users\\brama\\Miniconda3\\envs\\ds\\lib\\site-packages\\statsmodels\\tsa\\base\\tsa_model.py:162: ValueWarning: No frequency information was provided, so inferred frequency AS-JAN will be used.\n",
      "  % freq, ValueWarning)\n",
      "C:\\Users\\brama\\Miniconda3\\envs\\ds\\lib\\site-packages\\statsmodels\\tsa\\base\\tsa_model.py:162: ValueWarning: No frequency information was provided, so inferred frequency AS-JAN will be used.\n",
      "  % freq, ValueWarning)\n",
      "C:\\Users\\brama\\Miniconda3\\envs\\ds\\lib\\site-packages\\statsmodels\\tsa\\base\\tsa_model.py:162: ValueWarning: No frequency information was provided, so inferred frequency AS-JAN will be used.\n",
      "  % freq, ValueWarning)\n",
      "C:\\Users\\brama\\Miniconda3\\envs\\ds\\lib\\site-packages\\statsmodels\\tsa\\base\\tsa_model.py:162: ValueWarning: No frequency information was provided, so inferred frequency AS-JAN will be used.\n",
      "  % freq, ValueWarning)\n",
      "C:\\Users\\brama\\Miniconda3\\envs\\ds\\lib\\site-packages\\statsmodels\\tsa\\base\\tsa_model.py:162: ValueWarning: No frequency information was provided, so inferred frequency AS-JAN will be used.\n",
      "  % freq, ValueWarning)\n",
      "C:\\Users\\brama\\Miniconda3\\envs\\ds\\lib\\site-packages\\statsmodels\\tsa\\base\\tsa_model.py:162: ValueWarning: No frequency information was provided, so inferred frequency AS-JAN will be used.\n",
      "  % freq, ValueWarning)\n",
      "C:\\Users\\brama\\Miniconda3\\envs\\ds\\lib\\site-packages\\statsmodels\\tsa\\base\\tsa_model.py:162: ValueWarning: No frequency information was provided, so inferred frequency AS-JAN will be used.\n",
      "  % freq, ValueWarning)\n",
      "C:\\Users\\brama\\Miniconda3\\envs\\ds\\lib\\site-packages\\statsmodels\\tsa\\base\\tsa_model.py:162: ValueWarning: No frequency information was provided, so inferred frequency AS-JAN will be used.\n",
      "  % freq, ValueWarning)\n",
      "C:\\Users\\brama\\Miniconda3\\envs\\ds\\lib\\site-packages\\statsmodels\\tsa\\base\\tsa_model.py:162: ValueWarning: No frequency information was provided, so inferred frequency AS-JAN will be used.\n",
      "  % freq, ValueWarning)\n",
      "C:\\Users\\brama\\Miniconda3\\envs\\ds\\lib\\site-packages\\statsmodels\\tsa\\base\\tsa_model.py:162: ValueWarning: No frequency information was provided, so inferred frequency AS-JAN will be used.\n",
      "  % freq, ValueWarning)\n",
      "C:\\Users\\brama\\Miniconda3\\envs\\ds\\lib\\site-packages\\statsmodels\\tsa\\statespace\\sarimax.py:963: UserWarning: Non-stationary starting autoregressive parameters found. Using zeros as starting parameters.\n",
      "  warn('Non-stationary starting autoregressive parameters'\n",
      "C:\\Users\\brama\\Miniconda3\\envs\\ds\\lib\\site-packages\\statsmodels\\tsa\\base\\tsa_model.py:162: ValueWarning: No frequency information was provided, so inferred frequency AS-JAN will be used.\n",
      "  % freq, ValueWarning)\n",
      "C:\\Users\\brama\\Miniconda3\\envs\\ds\\lib\\site-packages\\statsmodels\\tsa\\base\\tsa_model.py:162: ValueWarning: No frequency information was provided, so inferred frequency AS-JAN will be used.\n",
      "  % freq, ValueWarning)\n"
     ]
    }
   ],
   "source": [
    "# Create empty list to store search results\n",
    "order_aic_bic=[]\n",
    "\n",
    "# Loop over p values from 0-2\n",
    "for p in range(3):\n",
    "  # Loop over q values from 0-2\n",
    "    for q in range(3):\n",
    "      \t# create and fit ARMA(p,q) model\n",
    "        model = SARIMAX(df, order=(p,0,q))\n",
    "        results = model.fit()\n",
    "        \n",
    "        # Append order and results tuple\n",
    "        order_aic_bic.append((p,q,results.aic, results.bic))"
   ]
  },
  {
   "cell_type": "code",
   "execution_count": 26,
   "metadata": {},
   "outputs": [
    {
     "name": "stdout",
     "output_type": "stream",
     "text": [
      "[(0, 0, 888.4297722924081, 891.0248921425426), (0, 1, 799.6741727812077, 804.864412481477), (0, 2, 761.0674787503885, 768.8528383007923), (1, 0, 666.6455255041611, 671.8357652044303), (1, 1, 647.1322999673836, 654.9176595177873), (1, 2, 648.7385664620866, 659.119045862625), (2, 0, 656.0283744146392, 663.813733965043), (2, 1, 648.8428399959726, 659.2233193965109), (2, 2, 648.8506443436071, 661.8262435942801)]\n"
     ]
    }
   ],
   "source": [
    "print(order_aic_bic)"
   ]
  },
  {
   "cell_type": "markdown",
   "metadata": {},
   "source": [
    "# model diagnostic"
   ]
  },
  {
   "cell_type": "code",
   "execution_count": 43,
   "metadata": {},
   "outputs": [
    {
     "data": {
      "text/html": [
       "<div>\n",
       "<style scoped>\n",
       "    .dataframe tbody tr th:only-of-type {\n",
       "        vertical-align: middle;\n",
       "    }\n",
       "\n",
       "    .dataframe tbody tr th {\n",
       "        vertical-align: top;\n",
       "    }\n",
       "\n",
       "    .dataframe thead th {\n",
       "        text-align: right;\n",
       "    }\n",
       "</style>\n",
       "<table border=\"1\" class=\"dataframe\">\n",
       "  <thead>\n",
       "    <tr style=\"text-align: right;\">\n",
       "      <th></th>\n",
       "      <th>Year</th>\n",
       "      <th>earthquakes_per_year</th>\n",
       "    </tr>\n",
       "    <tr>\n",
       "      <th>date</th>\n",
       "      <th></th>\n",
       "      <th></th>\n",
       "    </tr>\n",
       "  </thead>\n",
       "  <tbody>\n",
       "    <tr>\n",
       "      <th>1900-01-01</th>\n",
       "      <td>1900</td>\n",
       "      <td>13.0</td>\n",
       "    </tr>\n",
       "    <tr>\n",
       "      <th>1901-01-01</th>\n",
       "      <td>1901</td>\n",
       "      <td>14.0</td>\n",
       "    </tr>\n",
       "    <tr>\n",
       "      <th>1902-01-01</th>\n",
       "      <td>1902</td>\n",
       "      <td>8.0</td>\n",
       "    </tr>\n",
       "    <tr>\n",
       "      <th>1903-01-01</th>\n",
       "      <td>1903</td>\n",
       "      <td>10.0</td>\n",
       "    </tr>\n",
       "    <tr>\n",
       "      <th>1904-01-01</th>\n",
       "      <td>1904</td>\n",
       "      <td>16.0</td>\n",
       "    </tr>\n",
       "  </tbody>\n",
       "</table>\n",
       "</div>"
      ],
      "text/plain": [
       "            Year  earthquakes_per_year\n",
       "date                                  \n",
       "1900-01-01  1900                  13.0\n",
       "1901-01-01  1901                  14.0\n",
       "1902-01-01  1902                   8.0\n",
       "1903-01-01  1903                  10.0\n",
       "1904-01-01  1904                  16.0"
      ]
     },
     "execution_count": 43,
     "metadata": {},
     "output_type": "execute_result"
    }
   ],
   "source": [
    "earthquake=pd.read_csv('datasets/earthquakes.csv', parse_dates=True, index_col='date')\n",
    "earthquake.head()"
   ]
  },
  {
   "cell_type": "code",
   "execution_count": 44,
   "metadata": {},
   "outputs": [],
   "source": [
    "earthquake.drop(['Year'], axis=1,inplace=True)"
   ]
  },
  {
   "cell_type": "code",
   "execution_count": 45,
   "metadata": {},
   "outputs": [
    {
     "name": "stderr",
     "output_type": "stream",
     "text": [
      "C:\\Users\\brama\\Miniconda3\\envs\\ds\\lib\\site-packages\\statsmodels\\tsa\\base\\tsa_model.py:162: ValueWarning: No frequency information was provided, so inferred frequency AS-JAN will be used.\n",
      "  % freq, ValueWarning)\n",
      "C:\\Users\\brama\\Miniconda3\\envs\\ds\\lib\\site-packages\\statsmodels\\tsa\\base\\tsa_model.py:162: ValueWarning: No frequency information was provided, so inferred frequency AS-JAN will be used.\n",
      "  % freq, ValueWarning)\n"
     ]
    },
    {
     "name": "stdout",
     "output_type": "stream",
     "text": [
      "4.755625671846906\n"
     ]
    },
    {
     "data": {
      "image/png": "[encoded data removed]",
      "text/plain": [
       "<Figure size 432x288 with 1 Axes>"
      ]
     },
     "metadata": {
      "needs_background": "light"
     },
     "output_type": "display_data"
    }
   ],
   "source": [
    "# Fit model\n",
    "model = SARIMAX(earthquake, order=(1,0,1))\n",
    "results = model.fit()\n",
    "\n",
    "# Calculate the mean absolute error from residuals\n",
    "mae = np.mean(np.abs(results.resid))\n",
    "\n",
    "# Print mean absolute error\n",
    "print(mae)\n",
    "\n",
    "# Make plot of time series for comparison\n",
    "earthquake.plot()\n",
    "plt.show()"
   ]
  },
  {
   "cell_type": "code",
   "execution_count": null,
   "metadata": {},
   "outputs": [],
   "source": []
  },
  {
   "cell_type": "markdown",
   "metadata": {},
   "source": [
    "Prob(Q) is larger than 0.05. We shouldn't reject the null that the residuals are uncorrelated.\n",
    "Remember that we reject the null hypothesis if is the p-value is less than 0.05.\n",
    "\n",
    "Test -- Good fit\n",
    "Standardized residual -- There are no obvious patterns in the residuals\n",
    "Histogram plus kde estimate -- The KDE curve should be very similar to the normal distribution\n",
    "Normal Q-Q -- Most of the data points should lie on the straight line\n",
    "Correlogram\t-- 95% of correlations for lag greater than one should not be significant\n"
   ]
  }
 ],
 "metadata": {
  "kernelspec": {
   "display_name": "Python 3",
   "language": "python",
   "name": "python3"
  },
  "language_info": {
   "codemirror_mode": {
    "name": "ipython",
    "version": 3
   },
   "file_extension": ".py",
   "mimetype": "text/x-python",
   "name": "python",
   "nbconvert_exporter": "python",
   "pygments_lexer": "ipython3",
   "version": "3.6.10"
  }
 },
 "nbformat": 4,
 "nbformat_minor": 4
}
