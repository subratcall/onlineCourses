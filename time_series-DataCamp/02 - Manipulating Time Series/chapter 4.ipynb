{
 "cells": [
  {
   "cell_type": "code",
   "execution_count": 1,
   "metadata": {},
   "outputs": [],
   "source": [
    "import pandas as pd\n",
    "import numpy as np\n",
    "import seaborn as sns"
   ]
  },
  {
   "cell_type": "code",
   "execution_count": 30,
   "metadata": {},
   "outputs": [
    {
     "data": {
      "text/html": [
       "<div>\n",
       "<style scoped>\n",
       "    .dataframe tbody tr th:only-of-type {\n",
       "        vertical-align: middle;\n",
       "    }\n",
       "\n",
       "    .dataframe tbody tr th {\n",
       "        vertical-align: top;\n",
       "    }\n",
       "\n",
       "    .dataframe thead th {\n",
       "        text-align: right;\n",
       "    }\n",
       "</style>\n",
       "<table border=\"1\" class=\"dataframe\">\n",
       "  <thead>\n",
       "    <tr style=\"text-align: right;\">\n",
       "      <th></th>\n",
       "      <th>Stock Symbol</th>\n",
       "      <th>Company Name</th>\n",
       "      <th>Last Sale</th>\n",
       "      <th>Market Capitalization</th>\n",
       "      <th>IPO Year</th>\n",
       "      <th>Sector</th>\n",
       "      <th>Industry</th>\n",
       "    </tr>\n",
       "  </thead>\n",
       "  <tbody>\n",
       "    <tr>\n",
       "      <th>0</th>\n",
       "      <td>XXII</td>\n",
       "      <td>22nd Century Group, Inc</td>\n",
       "      <td>1.3300</td>\n",
       "      <td>1.206285e+08</td>\n",
       "      <td>NaN</td>\n",
       "      <td>Consumer Non-Durables</td>\n",
       "      <td>Farming/Seeds/Milling</td>\n",
       "    </tr>\n",
       "    <tr>\n",
       "      <th>1</th>\n",
       "      <td>FAX</td>\n",
       "      <td>Aberdeen Asia-Pacific Income Fund Inc</td>\n",
       "      <td>5.0000</td>\n",
       "      <td>1.266333e+09</td>\n",
       "      <td>1986.0</td>\n",
       "      <td>NaN</td>\n",
       "      <td>NaN</td>\n",
       "    </tr>\n",
       "    <tr>\n",
       "      <th>2</th>\n",
       "      <td>IAF</td>\n",
       "      <td>Aberdeen Australia Equity Fund Inc</td>\n",
       "      <td>6.1500</td>\n",
       "      <td>1.398653e+08</td>\n",
       "      <td>NaN</td>\n",
       "      <td>NaN</td>\n",
       "      <td>NaN</td>\n",
       "    </tr>\n",
       "    <tr>\n",
       "      <th>3</th>\n",
       "      <td>CH</td>\n",
       "      <td>Aberdeen Chile Fund, Inc.</td>\n",
       "      <td>7.2201</td>\n",
       "      <td>6.756346e+07</td>\n",
       "      <td>NaN</td>\n",
       "      <td>NaN</td>\n",
       "      <td>NaN</td>\n",
       "    </tr>\n",
       "    <tr>\n",
       "      <th>4</th>\n",
       "      <td>ABE</td>\n",
       "      <td>Aberdeen Emerging Markets Smaller Company Oppo...</td>\n",
       "      <td>13.3600</td>\n",
       "      <td>1.288430e+08</td>\n",
       "      <td>NaN</td>\n",
       "      <td>NaN</td>\n",
       "      <td>NaN</td>\n",
       "    </tr>\n",
       "  </tbody>\n",
       "</table>\n",
       "</div>"
      ],
      "text/plain": [
       "     Stock Symbol                                       Company Name  \\\n",
       "0            XXII                            22nd Century Group, Inc   \n",
       "1             FAX              Aberdeen Asia-Pacific Income Fund Inc   \n",
       "2             IAF                 Aberdeen Australia Equity Fund Inc   \n",
       "3              CH                          Aberdeen Chile Fund, Inc.   \n",
       "4  ABE             Aberdeen Emerging Markets Smaller Company Oppo...   \n",
       "\n",
       "   Last Sale  Market Capitalization  IPO Year                 Sector  \\\n",
       "0     1.3300           1.206285e+08       NaN  Consumer Non-Durables   \n",
       "1     5.0000           1.266333e+09    1986.0                    NaN   \n",
       "2     6.1500           1.398653e+08       NaN                    NaN   \n",
       "3     7.2201           6.756346e+07       NaN                    NaN   \n",
       "4    13.3600           1.288430e+08       NaN                    NaN   \n",
       "\n",
       "                Industry  \n",
       "0  Farming/Seeds/Milling  \n",
       "1                    NaN  \n",
       "2                    NaN  \n",
       "3                    NaN  \n",
       "4                    NaN  "
      ]
     },
     "execution_count": 30,
     "metadata": {},
     "output_type": "execute_result"
    }
   ],
   "source": [
    "listings = pd.read_excel('datasets/listings.xlsx', na_values='n/a')\n",
    "listings.head()"
   ]
  },
  {
   "cell_type": "code",
   "execution_count": 31,
   "metadata": {},
   "outputs": [
    {
     "name": "stdout",
     "output_type": "stream",
     "text": [
      "<class 'pandas.core.frame.DataFrame'>\n",
      "RangeIndex: 360 entries, 0 to 359\n",
      "Data columns (total 7 columns):\n",
      " #   Column                 Non-Null Count  Dtype  \n",
      "---  ------                 --------------  -----  \n",
      " 0   Stock Symbol           360 non-null    object \n",
      " 1   Company Name           360 non-null    object \n",
      " 2   Last Sale              346 non-null    float64\n",
      " 3   Market Capitalization  360 non-null    float64\n",
      " 4   IPO Year               105 non-null    float64\n",
      " 5   Sector                 238 non-null    object \n",
      " 6   Industry               238 non-null    object \n",
      "dtypes: float64(3), object(4)\n",
      "memory usage: 19.8+ KB\n",
      "None\n"
     ]
    }
   ],
   "source": [
    "print(listings.info())"
   ]
  },
  {
   "cell_type": "code",
   "execution_count": 32,
   "metadata": {},
   "outputs": [],
   "source": [
    "listings.set_index('Stock Symbol', inplace=True)"
   ]
  },
  {
   "cell_type": "code",
   "execution_count": 33,
   "metadata": {},
   "outputs": [],
   "source": [
    "listings.dropna(subset=['Sector'], inplace=True)"
   ]
  },
  {
   "cell_type": "code",
   "execution_count": 34,
   "metadata": {},
   "outputs": [],
   "source": [
    "listings = listings[listings['IPO Year'] < 2019]"
   ]
  },
  {
   "cell_type": "code",
   "execution_count": 35,
   "metadata": {},
   "outputs": [
    {
     "data": {
      "text/html": [
       "<div>\n",
       "<style scoped>\n",
       "    .dataframe tbody tr th:only-of-type {\n",
       "        vertical-align: middle;\n",
       "    }\n",
       "\n",
       "    .dataframe tbody tr th {\n",
       "        vertical-align: top;\n",
       "    }\n",
       "\n",
       "    .dataframe thead th {\n",
       "        text-align: right;\n",
       "    }\n",
       "</style>\n",
       "<table border=\"1\" class=\"dataframe\">\n",
       "  <thead>\n",
       "    <tr style=\"text-align: right;\">\n",
       "      <th></th>\n",
       "      <th>Company Name</th>\n",
       "      <th>Last Sale</th>\n",
       "      <th>Market Capitalization</th>\n",
       "      <th>IPO Year</th>\n",
       "      <th>Sector</th>\n",
       "      <th>Industry</th>\n",
       "    </tr>\n",
       "    <tr>\n",
       "      <th>Stock Symbol</th>\n",
       "      <th></th>\n",
       "      <th></th>\n",
       "      <th></th>\n",
       "      <th></th>\n",
       "      <th></th>\n",
       "      <th></th>\n",
       "    </tr>\n",
       "  </thead>\n",
       "  <tbody>\n",
       "    <tr>\n",
       "      <th>ACU</th>\n",
       "      <td>Acme United Corporation.</td>\n",
       "      <td>27.3900</td>\n",
       "      <td>9.113899e+07</td>\n",
       "      <td>1988.0</td>\n",
       "      <td>Capital Goods</td>\n",
       "      <td>Industrial Machinery/Components</td>\n",
       "    </tr>\n",
       "    <tr>\n",
       "      <th>AAU</th>\n",
       "      <td>Almaden Minerals, Ltd.</td>\n",
       "      <td>1.7200</td>\n",
       "      <td>1.548917e+08</td>\n",
       "      <td>2015.0</td>\n",
       "      <td>Basic Industries</td>\n",
       "      <td>Precious Metals</td>\n",
       "    </tr>\n",
       "    <tr>\n",
       "      <th>USAS</th>\n",
       "      <td>Americas Silver Corporation</td>\n",
       "      <td>3.0500</td>\n",
       "      <td>1.206948e+08</td>\n",
       "      <td>2017.0</td>\n",
       "      <td>Basic Industries</td>\n",
       "      <td>Precious Metals</td>\n",
       "    </tr>\n",
       "    <tr>\n",
       "      <th>AINC</th>\n",
       "      <td>Ashford Inc.</td>\n",
       "      <td>57.3373</td>\n",
       "      <td>1.155508e+08</td>\n",
       "      <td>2014.0</td>\n",
       "      <td>Consumer Services</td>\n",
       "      <td>Professional Services</td>\n",
       "    </tr>\n",
       "    <tr>\n",
       "      <th>AUXO</th>\n",
       "      <td>Auxilio, Inc.</td>\n",
       "      <td>6.3043</td>\n",
       "      <td>5.913104e+07</td>\n",
       "      <td>2017.0</td>\n",
       "      <td>Miscellaneous</td>\n",
       "      <td>Business Services</td>\n",
       "    </tr>\n",
       "  </tbody>\n",
       "</table>\n",
       "</div>"
      ],
      "text/plain": [
       "                             Company Name  Last Sale  Market Capitalization  \\\n",
       "Stock Symbol                                                                  \n",
       "ACU              Acme United Corporation.    27.3900           9.113899e+07   \n",
       "AAU                Almaden Minerals, Ltd.     1.7200           1.548917e+08   \n",
       "USAS          Americas Silver Corporation     3.0500           1.206948e+08   \n",
       "AINC                         Ashford Inc.    57.3373           1.155508e+08   \n",
       "AUXO                        Auxilio, Inc.     6.3043           5.913104e+07   \n",
       "\n",
       "              IPO Year             Sector                         Industry  \n",
       "Stock Symbol                                                                \n",
       "ACU             1988.0      Capital Goods  Industrial Machinery/Components  \n",
       "AAU             2015.0   Basic Industries                  Precious Metals  \n",
       "USAS            2017.0   Basic Industries                  Precious Metals  \n",
       "AINC            2014.0  Consumer Services            Professional Services  \n",
       "AUXO            2017.0      Miscellaneous                Business Services  "
      ]
     },
     "execution_count": 35,
     "metadata": {},
     "output_type": "execute_result"
    }
   ],
   "source": [
    "listings.head()"
   ]
  },
  {
   "cell_type": "code",
   "execution_count": 8,
   "metadata": {},
   "outputs": [
    {
     "name": "stdout",
     "output_type": "stream",
     "text": [
      "Sector\n",
      "Health Care              11\n",
      "Consumer Services         9\n",
      "Basic Industries          8\n",
      "Capital Goods             5\n",
      "Technology                4\n",
      "Public Utilities          3\n",
      "Energy                    2\n",
      "Miscellaneous             1\n",
      "Finance                   1\n",
      "Consumer Non-Durables     1\n",
      "dtype: int64\n"
     ]
    }
   ],
   "source": [
    "print(listings.groupby(['Sector']).size().sort_values(ascending=False))"
   ]
  },
  {
   "cell_type": "code",
   "execution_count": 9,
   "metadata": {},
   "outputs": [],
   "source": [
    "component = listings.groupby(['Sector'])['Market Capitalization'].nlargest(1)"
   ]
  },
  {
   "cell_type": "code",
   "execution_count": 10,
   "metadata": {},
   "outputs": [
    {
     "data": {
      "text/plain": [
       "Sector                 Stock Symbol\n",
       "Public Utilities       CQP             1.104692e+10\n",
       "Finance                SEB             4.603773e+09\n",
       "Basic Industries       SIM             2.123559e+09\n",
       "Consumer Services      GSAT            1.931551e+09\n",
       "Health Care            CRHM            6.474389e+08\n",
       "Energy                 MPO             4.794015e+08\n",
       "Capital Goods          LBY             3.026988e+08\n",
       "Consumer Non-Durables  ROX             2.376444e+08\n",
       "Technology             MJCO            1.916146e+08\n",
       "Miscellaneous          AUXO            5.913104e+07\n",
       "Name: Market Capitalization, dtype: float64"
      ]
     },
     "execution_count": 10,
     "metadata": {},
     "output_type": "execute_result"
    }
   ],
   "source": [
    "component.sort_values(ascending = False)"
   ]
  },
  {
   "cell_type": "code",
   "execution_count": 11,
   "metadata": {},
   "outputs": [
    {
     "name": "stdout",
     "output_type": "stream",
     "text": [
      "Index(['SIM', 'LBY', 'ROX', 'GSAT', 'MPO', 'SEB', 'CRHM', 'AUXO', 'CQP',\n",
      "       'MJCO'],\n",
      "      dtype='object', name='Stock Symbol')\n"
     ]
    }
   ],
   "source": [
    "tickers = component.index.get_level_values('Stock Symbol')\n",
    "print(tickers)"
   ]
  },
  {
   "cell_type": "code",
   "execution_count": 12,
   "metadata": {},
   "outputs": [],
   "source": [
    "info_cols = ['Company Name', 'Market Capitalization', 'Last Sale']\n",
    "component_info = listings.loc[tickers, info_cols].sort_values('Market Capitalization', )"
   ]
  },
  {
   "cell_type": "code",
   "execution_count": 13,
   "metadata": {},
   "outputs": [
    {
     "name": "stdout",
     "output_type": "stream",
     "text": [
      "                                   Company Name  Market Capitalization  \\\n",
      "Stock Symbol                                                             \n",
      "AUXO                              Auxilio, Inc.           5.913104e+07   \n",
      "MJCO                                    Majesco           1.916146e+08   \n",
      "ROX                         Castle Brands, Inc.           2.376444e+08   \n",
      "LBY                                Libbey, Inc.           3.026988e+08   \n",
      "MPO           MIDSTATES PETROLEUM COMPANY, INC.           4.794015e+08   \n",
      "CRHM                    CRH Medical Corporation           6.474389e+08   \n",
      "GSAT                           Globalstar, Inc.           1.931551e+09   \n",
      "SIM                   Grupo Simec, S.A. de C.V.           2.123559e+09   \n",
      "SEB                        Seaboard Corporation           4.603773e+09   \n",
      "CQP                Cheniere Energy Partners, LP           1.104692e+10   \n",
      "\n",
      "              Last Sale  \n",
      "Stock Symbol             \n",
      "AUXO             6.3043  \n",
      "MJCO             5.2500  \n",
      "ROX              1.4600  \n",
      "LBY             13.8200  \n",
      "MPO             19.1800  \n",
      "CRHM             8.9000  \n",
      "GSAT             1.7300  \n",
      "SIM             12.8000  \n",
      "SEB           3933.0000  \n",
      "CQP             32.7000  \n"
     ]
    }
   ],
   "source": [
    "print(component_info)"
   ]
  },
  {
   "cell_type": "code",
   "execution_count": 14,
   "metadata": {},
   "outputs": [
    {
     "data": {
      "text/plain": [
       "Index(['SIM', 'LBY', 'ROX', 'GSAT', 'MPO', 'SEB', 'CRHM', 'AUXO', 'CQP',\n",
       "       'MJCO'],\n",
       "      dtype='object', name='Stock Symbol')"
      ]
     },
     "execution_count": 14,
     "metadata": {},
     "output_type": "execute_result"
    }
   ],
   "source": [
    "tickers"
   ]
  },
  {
   "cell_type": "code",
   "execution_count": 15,
   "metadata": {},
   "outputs": [
    {
     "data": {
      "text/html": [
       "<div>\n",
       "<style scoped>\n",
       "    .dataframe tbody tr th:only-of-type {\n",
       "        vertical-align: middle;\n",
       "    }\n",
       "\n",
       "    .dataframe tbody tr th {\n",
       "        vertical-align: top;\n",
       "    }\n",
       "\n",
       "    .dataframe thead th {\n",
       "        text-align: right;\n",
       "    }\n",
       "</style>\n",
       "<table border=\"1\" class=\"dataframe\">\n",
       "  <thead>\n",
       "    <tr style=\"text-align: right;\">\n",
       "      <th></th>\n",
       "      <th>AAPL</th>\n",
       "      <th>AMGN</th>\n",
       "      <th>AMZN</th>\n",
       "      <th>CPRT</th>\n",
       "      <th>EL</th>\n",
       "      <th>GS</th>\n",
       "      <th>ILMN</th>\n",
       "      <th>MA</th>\n",
       "      <th>PAA</th>\n",
       "      <th>RIO</th>\n",
       "      <th>TEF</th>\n",
       "      <th>UPS</th>\n",
       "    </tr>\n",
       "    <tr>\n",
       "      <th>Date</th>\n",
       "      <th></th>\n",
       "      <th></th>\n",
       "      <th></th>\n",
       "      <th></th>\n",
       "      <th></th>\n",
       "      <th></th>\n",
       "      <th></th>\n",
       "      <th></th>\n",
       "      <th></th>\n",
       "      <th></th>\n",
       "      <th></th>\n",
       "      <th></th>\n",
       "    </tr>\n",
       "  </thead>\n",
       "  <tbody>\n",
       "    <tr>\n",
       "      <th>2010-01-04</th>\n",
       "      <td>30.57</td>\n",
       "      <td>57.72</td>\n",
       "      <td>133.90</td>\n",
       "      <td>4.55</td>\n",
       "      <td>24.27</td>\n",
       "      <td>173.08</td>\n",
       "      <td>30.55</td>\n",
       "      <td>25.68</td>\n",
       "      <td>27.00</td>\n",
       "      <td>56.03</td>\n",
       "      <td>28.55</td>\n",
       "      <td>58.18</td>\n",
       "    </tr>\n",
       "    <tr>\n",
       "      <th>2010-01-05</th>\n",
       "      <td>30.63</td>\n",
       "      <td>57.22</td>\n",
       "      <td>134.69</td>\n",
       "      <td>4.55</td>\n",
       "      <td>24.18</td>\n",
       "      <td>176.14</td>\n",
       "      <td>30.35</td>\n",
       "      <td>25.61</td>\n",
       "      <td>27.30</td>\n",
       "      <td>56.90</td>\n",
       "      <td>28.53</td>\n",
       "      <td>58.28</td>\n",
       "    </tr>\n",
       "    <tr>\n",
       "      <th>2010-01-06</th>\n",
       "      <td>30.14</td>\n",
       "      <td>56.79</td>\n",
       "      <td>132.25</td>\n",
       "      <td>4.53</td>\n",
       "      <td>24.25</td>\n",
       "      <td>174.26</td>\n",
       "      <td>32.22</td>\n",
       "      <td>25.56</td>\n",
       "      <td>27.29</td>\n",
       "      <td>58.64</td>\n",
       "      <td>28.23</td>\n",
       "      <td>57.85</td>\n",
       "    </tr>\n",
       "    <tr>\n",
       "      <th>2010-01-07</th>\n",
       "      <td>30.08</td>\n",
       "      <td>56.27</td>\n",
       "      <td>130.00</td>\n",
       "      <td>4.50</td>\n",
       "      <td>24.56</td>\n",
       "      <td>177.67</td>\n",
       "      <td>32.77</td>\n",
       "      <td>25.39</td>\n",
       "      <td>26.96</td>\n",
       "      <td>58.65</td>\n",
       "      <td>27.75</td>\n",
       "      <td>57.41</td>\n",
       "    </tr>\n",
       "    <tr>\n",
       "      <th>2010-01-08</th>\n",
       "      <td>30.28</td>\n",
       "      <td>56.77</td>\n",
       "      <td>133.52</td>\n",
       "      <td>4.52</td>\n",
       "      <td>24.66</td>\n",
       "      <td>174.31</td>\n",
       "      <td>33.15</td>\n",
       "      <td>25.40</td>\n",
       "      <td>27.05</td>\n",
       "      <td>59.30</td>\n",
       "      <td>27.57</td>\n",
       "      <td>60.17</td>\n",
       "    </tr>\n",
       "  </tbody>\n",
       "</table>\n",
       "</div>"
      ],
      "text/plain": [
       "             AAPL   AMGN    AMZN  CPRT     EL      GS   ILMN     MA    PAA  \\\n",
       "Date                                                                         \n",
       "2010-01-04  30.57  57.72  133.90  4.55  24.27  173.08  30.55  25.68  27.00   \n",
       "2010-01-05  30.63  57.22  134.69  4.55  24.18  176.14  30.35  25.61  27.30   \n",
       "2010-01-06  30.14  56.79  132.25  4.53  24.25  174.26  32.22  25.56  27.29   \n",
       "2010-01-07  30.08  56.27  130.00  4.50  24.56  177.67  32.77  25.39  26.96   \n",
       "2010-01-08  30.28  56.77  133.52  4.52  24.66  174.31  33.15  25.40  27.05   \n",
       "\n",
       "              RIO    TEF    UPS  \n",
       "Date                             \n",
       "2010-01-04  56.03  28.55  58.18  \n",
       "2010-01-05  56.90  28.53  58.28  \n",
       "2010-01-06  58.64  28.23  57.85  \n",
       "2010-01-07  58.65  27.75  57.41  \n",
       "2010-01-08  59.30  27.57  60.17  "
      ]
     },
     "execution_count": 15,
     "metadata": {},
     "output_type": "execute_result"
    }
   ],
   "source": [
    "stock_prices = pd.read_csv('datasets/stock_data.csv', parse_dates=True, index_col='Date')\n",
    "stock_prices.head()"
   ]
  },
  {
   "cell_type": "code",
   "execution_count": 16,
   "metadata": {},
   "outputs": [],
   "source": [
    "# Calculate the returns\n",
    "price_return = stock_prices.iloc[-1].div(stock_prices.iloc[0]).sub(1).mul(100)\n"
   ]
  },
  {
   "cell_type": "code",
   "execution_count": 17,
   "metadata": {},
   "outputs": [
    {
     "ename": "NameError",
     "evalue": "name 'plt' is not defined",
     "output_type": "error",
     "traceback": [
      "\u001b[1;31m---------------------------------------------------------------------------\u001b[0m",
      "\u001b[1;31mNameError\u001b[0m                                 Traceback (most recent call last)",
      "\u001b[1;32m<ipython-input-17-49d519f8ee93>\u001b[0m in \u001b[0;36m<module>\u001b[1;34m\u001b[0m\n\u001b[0;32m      1\u001b[0m \u001b[1;31m# Plot horizontal bar chart of sorted price_return\u001b[0m\u001b[1;33m\u001b[0m\u001b[1;33m\u001b[0m\u001b[1;33m\u001b[0m\u001b[0m\n\u001b[0;32m      2\u001b[0m \u001b[0mprice_return\u001b[0m\u001b[1;33m.\u001b[0m\u001b[0msort_values\u001b[0m\u001b[1;33m(\u001b[0m\u001b[1;33m)\u001b[0m\u001b[1;33m.\u001b[0m\u001b[0mplot\u001b[0m\u001b[1;33m(\u001b[0m\u001b[0mkind\u001b[0m\u001b[1;33m=\u001b[0m\u001b[1;34m'barh'\u001b[0m\u001b[1;33m,\u001b[0m \u001b[0mtitle\u001b[0m\u001b[1;33m=\u001b[0m\u001b[1;34m'Stock Price Returns'\u001b[0m\u001b[1;33m)\u001b[0m\u001b[1;33m\u001b[0m\u001b[1;33m\u001b[0m\u001b[0m\n\u001b[1;32m----> 3\u001b[1;33m \u001b[0mplt\u001b[0m\u001b[1;33m.\u001b[0m\u001b[0mshow\u001b[0m\u001b[1;33m(\u001b[0m\u001b[1;33m)\u001b[0m\u001b[1;33m\u001b[0m\u001b[1;33m\u001b[0m\u001b[0m\n\u001b[0m",
      "\u001b[1;31mNameError\u001b[0m: name 'plt' is not defined"
     ]
    },
    {
     "data": {
      "image/png": "[encoded data removed]",
      "text/plain": [
       "<Figure size 432x288 with 1 Axes>"
      ]
     },
     "metadata": {
      "needs_background": "light"
     },
     "output_type": "display_data"
    }
   ],
   "source": [
    "\n",
    "# Plot horizontal bar chart of sorted price_return \n",
    "price_return.sort_values().plot(kind='barh', title='Stock Price Returns')  \n",
    "plt.show()"
   ]
  },
  {
   "cell_type": "markdown",
   "metadata": {},
   "source": [
    "tickers new"
   ]
  },
  {
   "cell_type": "code",
   "execution_count": 42,
   "metadata": {},
   "outputs": [
    {
     "data": {
      "text/html": [
       "<div>\n",
       "<style scoped>\n",
       "    .dataframe tbody tr th:only-of-type {\n",
       "        vertical-align: middle;\n",
       "    }\n",
       "\n",
       "    .dataframe tbody tr th {\n",
       "        vertical-align: top;\n",
       "    }\n",
       "\n",
       "    .dataframe thead th {\n",
       "        text-align: right;\n",
       "    }\n",
       "</style>\n",
       "<table border=\"1\" class=\"dataframe\">\n",
       "  <thead>\n",
       "    <tr style=\"text-align: right;\">\n",
       "      <th></th>\n",
       "      <th>Company Name</th>\n",
       "      <th>Last Sale</th>\n",
       "      <th>Market Capitalization</th>\n",
       "      <th>IPO Year</th>\n",
       "      <th>Sector</th>\n",
       "      <th>Industry</th>\n",
       "    </tr>\n",
       "    <tr>\n",
       "      <th>Stock Symbol</th>\n",
       "      <th></th>\n",
       "      <th></th>\n",
       "      <th></th>\n",
       "      <th></th>\n",
       "      <th></th>\n",
       "      <th></th>\n",
       "    </tr>\n",
       "  </thead>\n",
       "  <tbody>\n",
       "    <tr>\n",
       "      <th>ACU</th>\n",
       "      <td>Acme United Corporation.</td>\n",
       "      <td>27.3900</td>\n",
       "      <td>9.113899e+07</td>\n",
       "      <td>1988.0</td>\n",
       "      <td>Capital Goods</td>\n",
       "      <td>Industrial Machinery/Components</td>\n",
       "    </tr>\n",
       "    <tr>\n",
       "      <th>AAU</th>\n",
       "      <td>Almaden Minerals, Ltd.</td>\n",
       "      <td>1.7200</td>\n",
       "      <td>1.548917e+08</td>\n",
       "      <td>2015.0</td>\n",
       "      <td>Basic Industries</td>\n",
       "      <td>Precious Metals</td>\n",
       "    </tr>\n",
       "    <tr>\n",
       "      <th>USAS</th>\n",
       "      <td>Americas Silver Corporation</td>\n",
       "      <td>3.0500</td>\n",
       "      <td>1.206948e+08</td>\n",
       "      <td>2017.0</td>\n",
       "      <td>Basic Industries</td>\n",
       "      <td>Precious Metals</td>\n",
       "    </tr>\n",
       "    <tr>\n",
       "      <th>AINC</th>\n",
       "      <td>Ashford Inc.</td>\n",
       "      <td>57.3373</td>\n",
       "      <td>1.155508e+08</td>\n",
       "      <td>2014.0</td>\n",
       "      <td>Consumer Services</td>\n",
       "      <td>Professional Services</td>\n",
       "    </tr>\n",
       "    <tr>\n",
       "      <th>AUXO</th>\n",
       "      <td>Auxilio, Inc.</td>\n",
       "      <td>6.3043</td>\n",
       "      <td>5.913104e+07</td>\n",
       "      <td>2017.0</td>\n",
       "      <td>Miscellaneous</td>\n",
       "      <td>Business Services</td>\n",
       "    </tr>\n",
       "  </tbody>\n",
       "</table>\n",
       "</div>"
      ],
      "text/plain": [
       "                             Company Name  Last Sale  Market Capitalization  \\\n",
       "Stock Symbol                                                                  \n",
       "ACU              Acme United Corporation.    27.3900           9.113899e+07   \n",
       "AAU                Almaden Minerals, Ltd.     1.7200           1.548917e+08   \n",
       "USAS          Americas Silver Corporation     3.0500           1.206948e+08   \n",
       "AINC                         Ashford Inc.    57.3373           1.155508e+08   \n",
       "AUXO                        Auxilio, Inc.     6.3043           5.913104e+07   \n",
       "\n",
       "              IPO Year             Sector                         Industry  \n",
       "Stock Symbol                                                                \n",
       "ACU             1988.0      Capital Goods  Industrial Machinery/Components  \n",
       "AAU             2015.0   Basic Industries                  Precious Metals  \n",
       "USAS            2017.0   Basic Industries                  Precious Metals  \n",
       "AINC            2014.0  Consumer Services            Professional Services  \n",
       "AUXO            2017.0      Miscellaneous                Business Services  "
      ]
     },
     "execution_count": 42,
     "metadata": {},
     "output_type": "execute_result"
    }
   ],
   "source": [
    "listings.head()"
   ]
  },
  {
   "cell_type": "code",
   "execution_count": 45,
   "metadata": {},
   "outputs": [
    {
     "data": {
      "text/plain": [
       "['SIM', 'LBY', 'ROX', 'GSAT', 'MPO', 'SEB', 'CRHM', 'AUXO', 'CQP', 'MJCO']"
      ]
     },
     "execution_count": 45,
     "metadata": {},
     "output_type": "execute_result"
    }
   ],
   "source": [
    "tickers"
   ]
  },
  {
   "cell_type": "code",
   "execution_count": 50,
   "metadata": {},
   "outputs": [],
   "source": [
    "components = listings.loc[tickers][['Market Capitalization','Last Sale']]"
   ]
  },
  {
   "cell_type": "code",
   "execution_count": 51,
   "metadata": {},
   "outputs": [
    {
     "data": {
      "text/html": [
       "<div>\n",
       "<style scoped>\n",
       "    .dataframe tbody tr th:only-of-type {\n",
       "        vertical-align: middle;\n",
       "    }\n",
       "\n",
       "    .dataframe tbody tr th {\n",
       "        vertical-align: top;\n",
       "    }\n",
       "\n",
       "    .dataframe thead th {\n",
       "        text-align: right;\n",
       "    }\n",
       "</style>\n",
       "<table border=\"1\" class=\"dataframe\">\n",
       "  <thead>\n",
       "    <tr style=\"text-align: right;\">\n",
       "      <th></th>\n",
       "      <th>Market Capitalization</th>\n",
       "      <th>Last Sale</th>\n",
       "    </tr>\n",
       "    <tr>\n",
       "      <th>Stock Symbol</th>\n",
       "      <th></th>\n",
       "      <th></th>\n",
       "    </tr>\n",
       "  </thead>\n",
       "  <tbody>\n",
       "    <tr>\n",
       "      <th>SIM</th>\n",
       "      <td>2.123559e+09</td>\n",
       "      <td>12.80</td>\n",
       "    </tr>\n",
       "    <tr>\n",
       "      <th>LBY</th>\n",
       "      <td>3.026988e+08</td>\n",
       "      <td>13.82</td>\n",
       "    </tr>\n",
       "    <tr>\n",
       "      <th>ROX</th>\n",
       "      <td>2.376444e+08</td>\n",
       "      <td>1.46</td>\n",
       "    </tr>\n",
       "    <tr>\n",
       "      <th>GSAT</th>\n",
       "      <td>1.931551e+09</td>\n",
       "      <td>1.73</td>\n",
       "    </tr>\n",
       "    <tr>\n",
       "      <th>MPO</th>\n",
       "      <td>4.794015e+08</td>\n",
       "      <td>19.18</td>\n",
       "    </tr>\n",
       "  </tbody>\n",
       "</table>\n",
       "</div>"
      ],
      "text/plain": [
       "              Market Capitalization  Last Sale\n",
       "Stock Symbol                                  \n",
       "SIM                    2.123559e+09      12.80\n",
       "LBY                    3.026988e+08      13.82\n",
       "ROX                    2.376444e+08       1.46\n",
       "GSAT                   1.931551e+09       1.73\n",
       "MPO                    4.794015e+08      19.18"
      ]
     },
     "execution_count": 51,
     "metadata": {},
     "output_type": "execute_result"
    }
   ],
   "source": [
    "components.head()"
   ]
  },
  {
   "cell_type": "code",
   "execution_count": 53,
   "metadata": {},
   "outputs": [],
   "source": [
    "no_shares = components['Market Capitalization'].div(components['Last Sale'])"
   ]
  },
  {
   "cell_type": "code",
   "execution_count": 55,
   "metadata": {},
   "outputs": [
    {
     "name": "stdout",
     "output_type": "stream",
     "text": [
      "Stock Symbol\n",
      "SIM     1.659031e+08\n",
      "LBY     2.190295e+07\n",
      "ROX     1.627702e+08\n",
      "GSAT    1.116503e+09\n",
      "MPO     2.499487e+07\n",
      "SEB     1.170550e+06\n",
      "CRHM    7.274594e+07\n",
      "AUXO    9.379477e+06\n",
      "CQP     3.378264e+08\n",
      "MJCO    3.649803e+07\n",
      "dtype: float64\n"
     ]
    }
   ],
   "source": [
    "print(no_shares)"
   ]
  },
  {
   "cell_type": "code",
   "execution_count": 62,
   "metadata": {},
   "outputs": [],
   "source": [
    "components['Number of Shares'] = no_shares"
   ]
  },
  {
   "cell_type": "code",
   "execution_count": 63,
   "metadata": {},
   "outputs": [],
   "source": [
    "market_cap = stock_prices.mul(no_shares)"
   ]
  },
  {
   "cell_type": "code",
   "execution_count": 64,
   "metadata": {},
   "outputs": [],
   "source": [
    "first_value = market_cap.iloc[0]\n",
    "last_value = market_cap.iloc[-1]"
   ]
  },
  {
   "cell_type": "code",
   "execution_count": 65,
   "metadata": {},
   "outputs": [
    {
     "data": {
      "text/plain": [
       "<matplotlib.axes._subplots.AxesSubplot at 0x206e3fd8780>"
      ]
     },
     "execution_count": 65,
     "metadata": {},
     "output_type": "execute_result"
    },
    {
     "data": {
      "image/png": "[encoded data removed]",
      "text/plain": [
       "<Figure size 432x288 with 1 Axes>"
      ]
     },
     "metadata": {
      "needs_background": "light"
     },
     "output_type": "display_data"
    }
   ],
   "source": [
    "pd.concat([first_value, last_value], axis = 1).plot(kind='barh')"
   ]
  },
  {
   "cell_type": "code",
   "execution_count": null,
   "metadata": {},
   "outputs": [],
   "source": []
  }
 ],
 "metadata": {
  "kernelspec": {
   "display_name": "Python 3",
   "language": "python",
   "name": "python3"
  },
  "language_info": {
   "codemirror_mode": {
    "name": "ipython",
    "version": 3
   },
   "file_extension": ".py",
   "mimetype": "text/x-python",
   "name": "python",
   "nbconvert_exporter": "python",
   "pygments_lexer": "ipython3",
   "version": "3.6.10"
  }
 },
 "nbformat": 4,
 "nbformat_minor": 4
}
